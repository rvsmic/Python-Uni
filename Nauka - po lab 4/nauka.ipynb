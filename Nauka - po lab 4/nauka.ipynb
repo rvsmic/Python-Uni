{
 "cells": [
  {
   "cell_type": "code",
   "execution_count": 56,
   "id": "50abb132-b045-4089-93f8-6185f6f0d791",
   "metadata": {
    "tags": []
   },
   "outputs": [
    {
     "name": "stdout",
     "output_type": "stream",
     "text": [
      "[2, 2, 4, 10, 14, 8, 10]\n",
      "[2, 2, 4, 10, 14, 8, 10]\n"
     ]
    }
   ],
   "source": [
    "# 8\n",
    "l = [1,2,3,4,5,6,7,8,9,10]\n",
    "x = [2*i if i%2!=0 else i for i in l if i%3 != 0]\n",
    "print(x)\n",
    "\n",
    "# map i filter\n",
    "x = list(map(lambda k: 2*k if k%2!=0 else k,filter(lambda i: i%3!=0,l)))\n",
    "print(x)"
   ]
  },
  {
   "cell_type": "code",
   "execution_count": 88,
   "id": "75e6e636-2a17-4874-9f36-877be594b73a",
   "metadata": {
    "tags": []
   },
   "outputs": [
    {
     "name": "stdout",
     "output_type": "stream",
     "text": [
      "['Ala', 'ma', 'kota']\n",
      "['Ala', 'ma', 'kota']\n"
     ]
    }
   ],
   "source": [
    "# 9\n",
    "s = [\"A0l-a\",\" m_a12\",\"k0000ot1a\"]\n",
    "x = [\"\".join(i for i in l if i.isalpha()) for l in s]\n",
    "print(x)\n",
    "\n",
    "# map i filter\n",
    "x = list(map(lambda l: l, map(lambda l: \"\".join(filter(lambda c: c.isalpha(), l)), s)))\n",
    "print(x)"
   ]
  },
  {
   "cell_type": "code",
   "execution_count": 101,
   "id": "76234013-b546-4067-89cd-7bd3a0add69a",
   "metadata": {
    "tags": []
   },
   "outputs": [
    {
     "name": "stdout",
     "output_type": "stream",
     "text": [
      "[0, 12, 1, 122]\n",
      "[0, 12, 1, 122]\n"
     ]
    }
   ],
   "source": [
    "# 10\n",
    "s = [\"A0l-a\",\" m_a12\",\"k0000ot1a\",\"12oo2\",\"hehe\"]\n",
    "x = [int(k) for k in [\"\".join(i for i in l if i.isdigit()) for l in s] if k]\n",
    "print(x)\n",
    "\n",
    "# map i filter\n",
    "x = list(int(k) for k in list(filter(lambda l: l, map(lambda l: \"\".join(filter(lambda c: c.isdigit(), l)), s))))\n",
    "print(x)"
   ]
  },
  {
   "cell_type": "code",
   "execution_count": 104,
   "id": "e6d5dd8c-c8dd-43cc-a880-225c6a458508",
   "metadata": {
    "tags": []
   },
   "outputs": [
    {
     "name": "stdout",
     "output_type": "stream",
     "text": [
      "[(1, 2), (1, 2), (10, 12)]\n",
      "[(1, 2), (1, 2), (10, 12)]\n"
     ]
    }
   ],
   "source": [
    "# 11\n",
    "k = [(1,2,3),(1,2),(1,),(10,12,1)]\n",
    "x = [i[:2] for i in k if len(i) >= 2]\n",
    "print(x)\n",
    "\n",
    "# map i filter\n",
    "x = list(map(lambda s: s[:2],filter(lambda l: len(l) > 1,k)))\n",
    "print(x)"
   ]
  },
  {
   "cell_type": "code",
   "execution_count": 106,
   "id": "7ad0c137-26f4-4b32-a611-e471ee7676ae",
   "metadata": {
    "tags": []
   },
   "outputs": [
    {
     "name": "stdout",
     "output_type": "stream",
     "text": [
      "[(1, 2), (1,), (10, 12, 1)]\n",
      "[(1, 2), (1,), (10, 12, 1)]\n"
     ]
    }
   ],
   "source": [
    "# 12\n",
    "k = [(1,2,3),(1,2),(1,),(10,12,1)]\n",
    "x = [i for i in k if sum(i)%2]\n",
    "print(x)\n",
    "\n",
    "# map i filter\n",
    "x = list(filter(lambda s: sum(s)%2!=0,k))\n",
    "print(x)"
   ]
  },
  {
   "cell_type": "code",
   "execution_count": 121,
   "id": "c2752e30-ade0-4c29-974c-33598a015a5a",
   "metadata": {
    "tags": []
   },
   "outputs": [
    {
     "name": "stdout",
     "output_type": "stream",
     "text": [
      "[(9, 12, 18)]\n",
      "[(9, 12, 18)]\n"
     ]
    }
   ],
   "source": [
    "# 13\n",
    "k = [(1,2,3),(1,2),(1,),(9,12,18)]\n",
    "x = [i for i in k if all(e%3==0 for e in i)]\n",
    "print(x)\n",
    "\n",
    "# map i filter\n",
    "x = list(filter(lambda s: all(l%3==0 for l in s),k))\n",
    "print(x)"
   ]
  },
  {
   "cell_type": "code",
   "execution_count": 124,
   "id": "dca39ae3-2960-4774-a3ff-c97943e35d48",
   "metadata": {
    "tags": []
   },
   "outputs": [
    {
     "name": "stdout",
     "output_type": "stream",
     "text": [
      "[(1, 2, 3), (9, 12, 18)]\n",
      "[(1, 2, 3), (9, 12, 18)]\n"
     ]
    }
   ],
   "source": [
    "# 14\n",
    "k = [(1,2,3),(1,2),(1,),(9,12,18)]\n",
    "x = [i for i in k if any(e%3==0 for e in i)]\n",
    "print(x)\n",
    "\n",
    "# map i filter\n",
    "x = list(filter(lambda s: any(l%3==0 for l in s),k))\n",
    "print(x)"
   ]
  },
  {
   "cell_type": "code",
   "execution_count": 133,
   "id": "2fabba5a-c1a0-4a1c-af49-c828f28eccb2",
   "metadata": {
    "tags": []
   },
   "outputs": [
    {
     "name": "stdout",
     "output_type": "stream",
     "text": [
      "['Ala', 'ma', 'kota', 'i', 'psa']\n",
      "['Ala', 'ma', 'kota', 'i', 'psa']\n"
     ]
    }
   ],
   "source": [
    "# 15\n",
    "s = [\"Ala huhu\",\" ma papuge\",\"kota i chomika\",\"i i i i\",\"psa i rybki\",\"mysz\"]\n",
    "x = [\"\".join(l.split()[0]) for l in s if len(l.split()) > 1]\n",
    "print(x)\n",
    "\n",
    "# map i filter\n",
    "x = list(map(lambda l: l.split()[0],filter(lambda i: \" \" in i,s)))\n",
    "print(x)"
   ]
  },
  {
   "cell_type": "code",
   "execution_count": 43,
   "id": "5d590603-44b8-40cc-b0ea-81c12c14684a",
   "metadata": {
    "tags": []
   },
   "outputs": [
    {
     "name": "stdout",
     "output_type": "stream",
     "text": [
      "True\n"
     ]
    }
   ],
   "source": [
    "# 16\n",
    "all_items = [1,2,3,4,5]\n",
    "cond = lambda x: x<3\n",
    "not_all_items = not all(cond(x) for x in all_items)\n",
    "some_not_item = any(not cond(x) for x in all_items)\n",
    "\n",
    "print(not_all_items == some_not_item)"
   ]
  },
  {
   "cell_type": "code",
   "execution_count": 48,
   "id": "599d3d8c-c13e-4c58-ae05-3a1152e6f872",
   "metadata": {
    "tags": []
   },
   "outputs": [
    {
     "name": "stdout",
     "output_type": "stream",
     "text": [
      "4\n",
      "6\n",
      "10.0\n"
     ]
    }
   ],
   "source": [
    "# 21\n",
    "def pole(*args):\n",
    "    if len(args) == 1:\n",
    "        return args[0]**2\n",
    "    elif len(args) == 2:\n",
    "        return args[0]*args[1]\n",
    "    else:\n",
    "        return (args[0]+args[1])*args[2]/2\n",
    "print(pole(2))\n",
    "print(pole(2,3))\n",
    "print(pole(2,3,4))"
   ]
  },
  {
   "cell_type": "code",
   "execution_count": 50,
   "id": "721deda8-ab36-4fd9-97bf-56ee40a31594",
   "metadata": {
    "tags": []
   },
   "outputs": [],
   "source": [
    "# 22\n",
    "# ZAPISANE POD KAZDYM ZADANIEM"
   ]
  },
  {
   "cell_type": "code",
   "execution_count": 53,
   "id": "f5700ee2-e455-4caa-ab56-1ccca4f7ad65",
   "metadata": {
    "tags": []
   },
   "outputs": [
    {
     "name": "stdout",
     "output_type": "stream",
     "text": [
      "[1, 1]\n"
     ]
    }
   ],
   "source": [
    "# 24\n",
    "l = [lambda x:x+1, lambda x:x**2, lambda x:x%3]\n",
    "x = list(map(lambda q: q(1),filter(lambda i: i(0) == 0,l)))\n",
    "print(x)"
   ]
  },
  {
   "cell_type": "code",
   "execution_count": 1,
   "id": "e3670eed-e855-47a8-b58c-02b3ec58a3d1",
   "metadata": {},
   "outputs": [
    {
     "name": "stdout",
     "output_type": "stream",
     "text": [
      "a b\n",
      "ab c\n",
      "abc d\n",
      "abcd\n"
     ]
    }
   ],
   "source": [
    "from functools import reduce\n",
    "l = [\"a\", \"b\", \"c\", \"d\"]\n",
    "def f(x,y):\n",
    "    print(x,y)\n",
    "    return x+y\n",
    "\n",
    "print(reduce(f,l))"
   ]
  },
  {
   "cell_type": "code",
   "execution_count": 15,
   "id": "25675660-07dd-4154-87a8-8b07d995912e",
   "metadata": {
    "tags": []
   },
   "outputs": [
    {
     "ename": "IndentationError",
     "evalue": "expected an indented block after 'else' statement on line 20 (1291094797.py, line 22)",
     "output_type": "error",
     "traceback": [
      "\u001b[0;36m  Cell \u001b[0;32mIn[15], line 22\u001b[0;36m\u001b[0m\n\u001b[0;31m    newcells.join(automat[temp])\u001b[0m\n\u001b[0m    ^\u001b[0m\n\u001b[0;31mIndentationError\u001b[0m\u001b[0;31m:\u001b[0m expected an indented block after 'else' statement on line 20\n"
     ]
    }
   ],
   "source": [
    "# reguła\n",
    "rule = 90\n",
    "# tworzenie slownika do zastosowania reguly\n",
    "predict = [\"***\",\"**_\",\"*_*\",\"*__\",\"_**\",\"_*_\",\"__*\",\"___\"]\n",
    "prerule = [\"_\"*int(i=='0')+\"*\"*int(i=='1') for i in str(bin(rule))[2:].zfill(8)]\n",
    "automat = {key: value for (key, value) in zip(predict, prerule)}\n",
    "\n",
    "n = 50\n",
    "k = 30\n",
    " \n",
    "cells = \"\".join([\"*\" if i == n//2 else \"_\" for i in range(n)])\n",
    "newcells = \"\"\n",
    "for i in range(k):\n",
    "    for j in range(n):\n",
    "        temp = \"\"\n",
    "        if j == 0:\n",
    "            temp.join(cells[n-1]+cells[j]+cells[j+1])\n",
    "        elif j == n-1:\n",
    "            temp.join(cells[j-1]+cells[j]+cells[0])\n",
    "        else:\n",
    "            \n",
    "        newcells.join(automat[temp])\n",
    "    print(cells)\n"
   ]
  },
  {
   "cell_type": "code",
   "execution_count": null,
   "id": "33326b10-2112-4159-aa0a-c412bba2c3cb",
   "metadata": {},
   "outputs": [],
   "source": []
  }
 ],
 "metadata": {
  "kernelspec": {
   "display_name": "Python 3 (ipykernel)",
   "language": "python",
   "name": "python3"
  },
  "language_info": {
   "codemirror_mode": {
    "name": "ipython",
    "version": 3
   },
   "file_extension": ".py",
   "mimetype": "text/x-python",
   "name": "python",
   "nbconvert_exporter": "python",
   "pygments_lexer": "ipython3",
   "version": "3.10.10"
  }
 },
 "nbformat": 4,
 "nbformat_minor": 5
}
