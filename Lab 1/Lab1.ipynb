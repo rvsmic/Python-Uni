{
 "cells": [
  {
   "cell_type": "code",
   "execution_count": 5,
   "id": "6792094b",
   "metadata": {},
   "outputs": [
    {
     "name": "stdout",
     "output_type": "stream",
     "text": [
      "X\n"
     ]
    }
   ],
   "source": [
    "print(\"X\")"
   ]
  },
  {
   "cell_type": "code",
   "execution_count": 15,
   "id": "fdab2818",
   "metadata": {},
   "outputs": [],
   "source": [
    "x = 2\n",
    "y = int(2.0)\n",
    "z = 1 + 2j"
   ]
  },
  {
   "cell_type": "code",
   "execution_count": 24,
   "id": "7aca2d7a",
   "metadata": {},
   "outputs": [],
   "source": [
    "a = 30\n",
    "b = 7\n",
    "a **= b"
   ]
  },
  {
   "cell_type": "code",
   "execution_count": 25,
   "id": "fff44968",
   "metadata": {},
   "outputs": [
    {
     "name": "stdout",
     "output_type": "stream",
     "text": [
      "21870000000\n"
     ]
    }
   ],
   "source": [
    "print(a)"
   ]
  },
  {
   "cell_type": "code",
   "execution_count": 31,
   "id": "beb86472",
   "metadata": {},
   "outputs": [
    {
     "data": {
      "text/plain": [
       "(1-2j)"
      ]
     },
     "execution_count": 31,
     "metadata": {},
     "output_type": "execute_result"
    }
   ],
   "source": [
    "z.conjugate()"
   ]
  },
  {
   "cell_type": "code",
   "execution_count": 33,
   "id": "642f5b55",
   "metadata": {},
   "outputs": [
    {
     "data": {
      "text/plain": [
       "2.23606797749979"
      ]
     },
     "execution_count": 33,
     "metadata": {},
     "output_type": "execute_result"
    }
   ],
   "source": [
    "abs(z)"
   ]
  },
  {
   "cell_type": "code",
   "execution_count": 39,
   "id": "1c3e8a18",
   "metadata": {},
   "outputs": [
    {
     "name": "stdout",
     "output_type": "stream",
     "text": [
      "1+2j\n"
     ]
    }
   ],
   "source": [
    "a = complex(input())"
   ]
  },
  {
   "cell_type": "code",
   "execution_count": 40,
   "id": "2ab69a51",
   "metadata": {},
   "outputs": [
    {
     "data": {
      "text/plain": [
       "complex"
      ]
     },
     "execution_count": 40,
     "metadata": {},
     "output_type": "execute_result"
    }
   ],
   "source": [
    "type(a)"
   ]
  },
  {
   "cell_type": "code",
   "execution_count": 48,
   "id": "d002474f",
   "metadata": {},
   "outputs": [
    {
     "name": "stdout",
     "output_type": "stream",
     "text": [
      "1\n",
      "1\n",
      "1\n"
     ]
    }
   ],
   "source": [
    "a = complex(input())\n",
    "b = complex(input())\n",
    "c = complex(input())\n",
    "delta = b**2 - 4 * a * c\n",
    "delta **= 0.5\n",
    "x1 = (-b + delta) / 2 * a\n",
    "x2 = (-b - delta) / 2 * a"
   ]
  },
  {
   "cell_type": "code",
   "execution_count": 49,
   "id": "76302d0a",
   "metadata": {},
   "outputs": [
    {
     "name": "stdout",
     "output_type": "stream",
     "text": [
      "(-0.49999999999999994+0.8660254037844386j)\n",
      "(-0.5-0.8660254037844386j)\n"
     ]
    }
   ],
   "source": [
    "print(x1)\n",
    "print(x2)"
   ]
  },
  {
   "cell_type": "code",
   "execution_count": 76,
   "id": "09e579b8",
   "metadata": {},
   "outputs": [],
   "source": [
    "s = \"kobyła ma mały bok\"\n",
    "b = b\"Ala ma kota\"\n",
    "l = [1, 2, \"a\"]\n",
    "k = (3, 4, 8)"
   ]
  },
  {
   "cell_type": "code",
   "execution_count": 62,
   "id": "20e10a27",
   "metadata": {},
   "outputs": [
    {
     "data": {
      "text/plain": [
       "'kob yłam am ałybok'"
      ]
     },
     "execution_count": 62,
     "metadata": {},
     "output_type": "execute_result"
    }
   ],
   "source": [
    "s[0:7:2]\n",
    "s[::-1]"
   ]
  },
  {
   "cell_type": "code",
   "execution_count": 63,
   "id": "254f44ed",
   "metadata": {},
   "outputs": [
    {
     "data": {
      "text/plain": [
       "'kobyła ma mały bokkobyła ma mały bokkobyła ma mały bok'"
      ]
     },
     "execution_count": 63,
     "metadata": {},
     "output_type": "execute_result"
    }
   ],
   "source": [
    "3 * s"
   ]
  },
  {
   "cell_type": "code",
   "execution_count": 64,
   "id": "27847948",
   "metadata": {},
   "outputs": [
    {
     "data": {
      "text/plain": [
       "[1, 2, 'a', 1, 2, 'a', 1, 2, 'a']"
      ]
     },
     "execution_count": 64,
     "metadata": {},
     "output_type": "execute_result"
    }
   ],
   "source": [
    "3 * l"
   ]
  },
  {
   "cell_type": "code",
   "execution_count": 65,
   "id": "6c468aee",
   "metadata": {},
   "outputs": [
    {
     "data": {
      "text/plain": [
       "(3, 4, 'n', 3, 4, 'n', 3, 4, 'n')"
      ]
     },
     "execution_count": 65,
     "metadata": {},
     "output_type": "execute_result"
    }
   ],
   "source": [
    "3 * k"
   ]
  },
  {
   "cell_type": "code",
   "execution_count": 66,
   "id": "b61e5ac5",
   "metadata": {},
   "outputs": [
    {
     "data": {
      "text/plain": [
       "'Ola i kobyła ma mały bok'"
      ]
     },
     "execution_count": 66,
     "metadata": {},
     "output_type": "execute_result"
    }
   ],
   "source": [
    "\"Ola i \" + s"
   ]
  },
  {
   "cell_type": "code",
   "execution_count": 67,
   "id": "fdaf564f",
   "metadata": {},
   "outputs": [
    {
     "data": {
      "text/plain": [
       "[1, 2, 'a', 3, 4]"
      ]
     },
     "execution_count": 67,
     "metadata": {},
     "output_type": "execute_result"
    }
   ],
   "source": [
    "m = [3, 4]\n",
    "l + m"
   ]
  },
  {
   "cell_type": "code",
   "execution_count": 73,
   "id": "1b223e89",
   "metadata": {},
   "outputs": [
    {
     "data": {
      "text/plain": [
       "False"
      ]
     },
     "execution_count": 73,
     "metadata": {},
     "output_type": "execute_result"
    }
   ],
   "source": [
    "\"B\" in s"
   ]
  },
  {
   "cell_type": "code",
   "execution_count": 74,
   "id": "2a46c553",
   "metadata": {},
   "outputs": [
    {
     "data": {
      "text/plain": [
       "3"
      ]
     },
     "execution_count": 74,
     "metadata": {},
     "output_type": "execute_result"
    }
   ],
   "source": [
    "len(k)"
   ]
  },
  {
   "cell_type": "code",
   "execution_count": 78,
   "id": "b7b60cac",
   "metadata": {},
   "outputs": [
    {
     "data": {
      "text/plain": [
       "8"
      ]
     },
     "execution_count": 78,
     "metadata": {},
     "output_type": "execute_result"
    }
   ],
   "source": [
    "min(k)\n",
    "max(k)"
   ]
  },
  {
   "cell_type": "code",
   "execution_count": 79,
   "id": "e0a8217b",
   "metadata": {},
   "outputs": [
    {
     "data": {
      "text/plain": [
       "5"
      ]
     },
     "execution_count": 79,
     "metadata": {},
     "output_type": "execute_result"
    }
   ],
   "source": [
    "s.index(\"a\")"
   ]
  },
  {
   "cell_type": "code",
   "execution_count": 80,
   "id": "015c2d94",
   "metadata": {},
   "outputs": [
    {
     "data": {
      "text/plain": [
       "2"
      ]
     },
     "execution_count": 80,
     "metadata": {},
     "output_type": "execute_result"
    }
   ],
   "source": [
    "s.count(\"b\")"
   ]
  },
  {
   "cell_type": "code",
   "execution_count": 84,
   "id": "c42634ed",
   "metadata": {},
   "outputs": [],
   "source": [
    "a = str(123)"
   ]
  },
  {
   "cell_type": "code",
   "execution_count": 85,
   "id": "6bf22fc2",
   "metadata": {},
   "outputs": [
    {
     "data": {
      "text/plain": [
       "'123'"
      ]
     },
     "execution_count": 85,
     "metadata": {},
     "output_type": "execute_result"
    }
   ],
   "source": [
    "a"
   ]
  },
  {
   "cell_type": "code",
   "execution_count": 86,
   "id": "bc423171",
   "metadata": {},
   "outputs": [],
   "source": [
    "a = list(\"ala\")"
   ]
  },
  {
   "cell_type": "code",
   "execution_count": 87,
   "id": "1eba8b80",
   "metadata": {},
   "outputs": [
    {
     "data": {
      "text/plain": [
       "['a', 'l', 'a']"
      ]
     },
     "execution_count": 87,
     "metadata": {},
     "output_type": "execute_result"
    }
   ],
   "source": [
    "a"
   ]
  },
  {
   "cell_type": "code",
   "execution_count": 88,
   "id": "a6e0a720",
   "metadata": {},
   "outputs": [
    {
     "data": {
      "text/plain": [
       "('a', 'l', 'a')"
      ]
     },
     "execution_count": 88,
     "metadata": {},
     "output_type": "execute_result"
    }
   ],
   "source": [
    "tuple(\"ala\")"
   ]
  },
  {
   "cell_type": "code",
   "execution_count": 89,
   "id": "ea552a4f",
   "metadata": {},
   "outputs": [],
   "source": [
    "a = []"
   ]
  },
  {
   "cell_type": "code",
   "execution_count": 93,
   "id": "59fd159f",
   "metadata": {},
   "outputs": [],
   "source": [
    "b = \"żółw\".encode('utf8')"
   ]
  },
  {
   "cell_type": "code",
   "execution_count": 94,
   "id": "9884d8c5",
   "metadata": {},
   "outputs": [
    {
     "name": "stdout",
     "output_type": "stream",
     "text": [
      "b'\\xc5\\xbc\\xc3\\xb3\\xc5\\x82w'\n"
     ]
    }
   ],
   "source": [
    "print(b)"
   ]
  },
  {
   "cell_type": "code",
   "execution_count": 95,
   "id": "9e5cdd6e",
   "metadata": {},
   "outputs": [
    {
     "name": "stdout",
     "output_type": "stream",
     "text": [
      "żółw\n"
     ]
    }
   ],
   "source": [
    "print(b.decode('utf8'))"
   ]
  },
  {
   "cell_type": "code",
   "execution_count": 96,
   "id": "85b70b5d",
   "metadata": {},
   "outputs": [
    {
     "data": {
      "text/plain": [
       "'asasa'"
      ]
     },
     "execution_count": 96,
     "metadata": {},
     "output_type": "execute_result"
    }
   ],
   "source": [
    "'''asasa'''"
   ]
  },
  {
   "cell_type": "code",
   "execution_count": 102,
   "id": "8f0c1dd8",
   "metadata": {},
   "outputs": [
    {
     "name": "stdout",
     "output_type": "stream",
     "text": [
      "ala\tma\n",
      "ala\u000b",
      "ma\n",
      "ala\\ma\n",
      "ala\"ma\n",
      "ala\n",
      "ma\n"
     ]
    }
   ],
   "source": [
    "print(\"ala\\tma\")\n",
    "print(\"ala\\vma\")\n",
    "print(\"ala\\\\ma\")\n",
    "print(\"ala\\\"ma\")\n",
    "print(\"ala\\nma\")"
   ]
  },
  {
   "cell_type": "code",
   "execution_count": 104,
   "id": "61fb6a86",
   "metadata": {},
   "outputs": [
    {
     "name": "stdout",
     "output_type": "stream",
     "text": [
      "b'\\xc5\\xbc\\xc3\\xb3\\xc5\\x82w' "
     ]
    }
   ],
   "source": [
    "print(b, end = \" \")"
   ]
  },
  {
   "cell_type": "code",
   "execution_count": 105,
   "id": "7af1e6c8",
   "metadata": {},
   "outputs": [
    {
     "data": {
      "text/plain": [
       "'kobyła ma mały bok'"
      ]
     },
     "execution_count": 105,
     "metadata": {},
     "output_type": "execute_result"
    }
   ],
   "source": [
    "s"
   ]
  },
  {
   "cell_type": "code",
   "execution_count": 112,
   "id": "0a81a0a7",
   "metadata": {},
   "outputs": [
    {
     "data": {
      "text/plain": [
       "['ko', 'yła ma mały ', 'ok']"
      ]
     },
     "execution_count": 112,
     "metadata": {},
     "output_type": "execute_result"
    }
   ],
   "source": [
    "s.split(' ')[0]\n",
    "s.split(\" \", 1)\n",
    "s.rsplit(\"b\")"
   ]
  },
  {
   "cell_type": "code",
   "execution_count": 117,
   "id": "3e7854fc",
   "metadata": {},
   "outputs": [
    {
     "data": {
      "text/plain": [
       "'abc'"
      ]
     },
     "execution_count": 117,
     "metadata": {},
     "output_type": "execute_result"
    }
   ],
   "source": [
    "\"\".join([\"a\",\"b\",\"c\"])"
   ]
  },
  {
   "cell_type": "code",
   "execution_count": 118,
   "id": "89b89e63",
   "metadata": {},
   "outputs": [
    {
     "data": {
      "text/plain": [
       "True"
      ]
     },
     "execution_count": 118,
     "metadata": {},
     "output_type": "execute_result"
    }
   ],
   "source": [
    "s.startswith('k')"
   ]
  },
  {
   "cell_type": "code",
   "execution_count": 119,
   "id": "204a11fe",
   "metadata": {},
   "outputs": [
    {
     "data": {
      "text/plain": [
       "True"
      ]
     },
     "execution_count": 119,
     "metadata": {},
     "output_type": "execute_result"
    }
   ],
   "source": [
    "s.endswith('k')"
   ]
  },
  {
   "cell_type": "code",
   "execution_count": 120,
   "id": "3f6c56f7",
   "metadata": {},
   "outputs": [
    {
     "data": {
      "text/plain": [
       "False"
      ]
     },
     "execution_count": 120,
     "metadata": {},
     "output_type": "execute_result"
    }
   ],
   "source": [
    "s.isalpha()"
   ]
  },
  {
   "cell_type": "code",
   "execution_count": 121,
   "id": "b3c3f51d",
   "metadata": {},
   "outputs": [
    {
     "data": {
      "text/plain": [
       "False"
      ]
     },
     "execution_count": 121,
     "metadata": {},
     "output_type": "execute_result"
    }
   ],
   "source": [
    "s.isalnum()"
   ]
  },
  {
   "cell_type": "code",
   "execution_count": 123,
   "id": "a7bb8fc6",
   "metadata": {},
   "outputs": [
    {
     "data": {
      "text/plain": [
       "'kobyła ma mały bok'"
      ]
     },
     "execution_count": 123,
     "metadata": {},
     "output_type": "execute_result"
    }
   ],
   "source": [
    "s.strip()"
   ]
  },
  {
   "cell_type": "code",
   "execution_count": 126,
   "id": "a5b1da90",
   "metadata": {},
   "outputs": [
    {
     "data": {
      "text/plain": [
       "' blb ma    '"
      ]
     },
     "execution_count": 126,
     "metadata": {},
     "output_type": "execute_result"
    }
   ],
   "source": [
    "\" ala ma    \".strip()\n",
    "\" ala ma    \".replace(\"a\", \"b\", 2)"
   ]
  },
  {
   "cell_type": "code",
   "execution_count": 129,
   "id": "0856d6b2",
   "metadata": {},
   "outputs": [
    {
     "data": {
      "text/plain": [
       "'A'"
      ]
     },
     "execution_count": 129,
     "metadata": {},
     "output_type": "execute_result"
    }
   ],
   "source": [
    "chr(65)"
   ]
  },
  {
   "cell_type": "code",
   "execution_count": 132,
   "id": "2d5559d7",
   "metadata": {},
   "outputs": [
    {
     "data": {
      "text/plain": [
       "97"
      ]
     },
     "execution_count": 132,
     "metadata": {},
     "output_type": "execute_result"
    }
   ],
   "source": [
    "ord('a')"
   ]
  },
  {
   "cell_type": "code",
   "execution_count": 138,
   "id": "9454f600",
   "metadata": {},
   "outputs": [],
   "source": [
    "a = [1,2,3]\n",
    "a.append('a')"
   ]
  },
  {
   "cell_type": "code",
   "execution_count": 139,
   "id": "b60691cb",
   "metadata": {},
   "outputs": [
    {
     "name": "stdout",
     "output_type": "stream",
     "text": [
      "[1, 2, 3, 'a']\n"
     ]
    }
   ],
   "source": [
    "print(a)"
   ]
  },
  {
   "cell_type": "code",
   "execution_count": 140,
   "id": "76b0500a",
   "metadata": {},
   "outputs": [],
   "source": [
    "a.remove(2)"
   ]
  },
  {
   "cell_type": "code",
   "execution_count": 141,
   "id": "52acb3ea",
   "metadata": {},
   "outputs": [
    {
     "data": {
      "text/plain": [
       "[1, 3, 'a']"
      ]
     },
     "execution_count": 141,
     "metadata": {},
     "output_type": "execute_result"
    }
   ],
   "source": [
    "a"
   ]
  },
  {
   "cell_type": "code",
   "execution_count": 142,
   "id": "7dd3a8e5",
   "metadata": {},
   "outputs": [
    {
     "data": {
      "text/plain": [
       "1"
      ]
     },
     "execution_count": 142,
     "metadata": {},
     "output_type": "execute_result"
    }
   ],
   "source": [
    "a.pop(0)"
   ]
  },
  {
   "cell_type": "code",
   "execution_count": 143,
   "id": "3c5ab0d8",
   "metadata": {},
   "outputs": [
    {
     "data": {
      "text/plain": [
       "[3, 'a']"
      ]
     },
     "execution_count": 143,
     "metadata": {},
     "output_type": "execute_result"
    }
   ],
   "source": [
    "a"
   ]
  },
  {
   "cell_type": "code",
   "execution_count": 145,
   "id": "4cf88a41",
   "metadata": {},
   "outputs": [],
   "source": [
    "a.insert(1,\"x\")"
   ]
  },
  {
   "cell_type": "code",
   "execution_count": 146,
   "id": "3e47d2cb",
   "metadata": {},
   "outputs": [
    {
     "data": {
      "text/plain": [
       "[3, 'x', 'a']"
      ]
     },
     "execution_count": 146,
     "metadata": {},
     "output_type": "execute_result"
    }
   ],
   "source": [
    "a"
   ]
  },
  {
   "cell_type": "code",
   "execution_count": 147,
   "id": "67ddbd99",
   "metadata": {},
   "outputs": [],
   "source": [
    "a.insert(5,\"s\")"
   ]
  },
  {
   "cell_type": "code",
   "execution_count": 148,
   "id": "ed273646",
   "metadata": {},
   "outputs": [
    {
     "data": {
      "text/plain": [
       "[3, 'x', 'a', 's']"
      ]
     },
     "execution_count": 148,
     "metadata": {},
     "output_type": "execute_result"
    }
   ],
   "source": [
    "a"
   ]
  },
  {
   "cell_type": "code",
   "execution_count": 151,
   "id": "017978d6",
   "metadata": {},
   "outputs": [
    {
     "data": {
      "text/plain": [
       "[3, 'x', 'a', 'W', 's']"
      ]
     },
     "execution_count": 151,
     "metadata": {},
     "output_type": "execute_result"
    }
   ],
   "source": [
    "a[:3] + [\"W\"] + a[3:]"
   ]
  },
  {
   "cell_type": "code",
   "execution_count": 153,
   "id": "0de975c5",
   "metadata": {},
   "outputs": [
    {
     "data": {
      "text/plain": [
       "10"
      ]
     },
     "execution_count": 153,
     "metadata": {},
     "output_type": "execute_result"
    }
   ],
   "source": [
    "sum([1,2,3,4])"
   ]
  },
  {
   "cell_type": "code",
   "execution_count": 157,
   "id": "ee6a1b23",
   "metadata": {},
   "outputs": [],
   "source": [
    "x = list(zip([1,2,3,4],list(\"qwertyu\")))"
   ]
  },
  {
   "cell_type": "code",
   "execution_count": 158,
   "id": "c5ff6c24",
   "metadata": {},
   "outputs": [
    {
     "data": {
      "text/plain": [
       "[(1, 'q'), (2, 'w'), (3, 'e'), (4, 'r')]"
      ]
     },
     "execution_count": 158,
     "metadata": {},
     "output_type": "execute_result"
    }
   ],
   "source": [
    "x"
   ]
  },
  {
   "cell_type": "code",
   "execution_count": 159,
   "id": "a8967120",
   "metadata": {},
   "outputs": [],
   "source": [
    "x = [1,2,3]\n",
    "y = x\n",
    "x[1] = \"a\""
   ]
  },
  {
   "cell_type": "code",
   "execution_count": 160,
   "id": "49071a8c",
   "metadata": {},
   "outputs": [
    {
     "data": {
      "text/plain": [
       "[1, 'a', 3]"
      ]
     },
     "execution_count": 160,
     "metadata": {},
     "output_type": "execute_result"
    }
   ],
   "source": [
    "y"
   ]
  },
  {
   "cell_type": "code",
   "execution_count": 161,
   "id": "3d8c5a1d",
   "metadata": {},
   "outputs": [],
   "source": [
    "x = [1,2,3]\n",
    "y = x[:]\n",
    "x[1] = \"b\""
   ]
  },
  {
   "cell_type": "code",
   "execution_count": 162,
   "id": "77c833db",
   "metadata": {},
   "outputs": [
    {
     "data": {
      "text/plain": [
       "[1, 2, 3]"
      ]
     },
     "execution_count": 162,
     "metadata": {},
     "output_type": "execute_result"
    }
   ],
   "source": [
    "y"
   ]
  },
  {
   "cell_type": "code",
   "execution_count": 164,
   "id": "16f202fe",
   "metadata": {},
   "outputs": [
    {
     "ename": "AttributeError",
     "evalue": "'tuple' object has no attribute 'append'",
     "output_type": "error",
     "traceback": [
      "\u001b[0;31m---------------------------------------------------------------------------\u001b[0m",
      "\u001b[0;31mAttributeError\u001b[0m                            Traceback (most recent call last)",
      "Cell \u001b[0;32mIn[164], line 2\u001b[0m\n\u001b[1;32m      1\u001b[0m x \u001b[38;5;241m=\u001b[39m (\u001b[38;5;241m1\u001b[39m,\u001b[38;5;241m2\u001b[39m,\u001b[38;5;241m3\u001b[39m)\n\u001b[0;32m----> 2\u001b[0m \u001b[43mx\u001b[49m\u001b[38;5;241;43m.\u001b[39;49m\u001b[43mappend\u001b[49m(\u001b[38;5;241m4\u001b[39m)\n",
      "\u001b[0;31mAttributeError\u001b[0m: 'tuple' object has no attribute 'append'"
     ]
    }
   ],
   "source": [
    "x = (1,2,3)\n",
    "x.append(4)"
   ]
  },
  {
   "cell_type": "code",
   "execution_count": 167,
   "id": "cd58d255",
   "metadata": {},
   "outputs": [],
   "source": [
    "x = x + (4,5)"
   ]
  },
  {
   "cell_type": "code",
   "execution_count": 168,
   "id": "8db98ec4",
   "metadata": {},
   "outputs": [
    {
     "data": {
      "text/plain": [
       "(1, 2, 3, 4, 5)"
      ]
     },
     "execution_count": 168,
     "metadata": {},
     "output_type": "execute_result"
    }
   ],
   "source": [
    "x"
   ]
  },
  {
   "cell_type": "code",
   "execution_count": 169,
   "id": "069e2d7d",
   "metadata": {},
   "outputs": [],
   "source": [
    "owoce = ('gruszki','banany','jagody')\n",
    "(zielony,zolty,czerwony) = owoce"
   ]
  },
  {
   "cell_type": "code",
   "execution_count": 170,
   "id": "dbc7f4a0",
   "metadata": {},
   "outputs": [
    {
     "data": {
      "text/plain": [
       "'gruszki'"
      ]
     },
     "execution_count": 170,
     "metadata": {},
     "output_type": "execute_result"
    }
   ],
   "source": [
    "zielony"
   ]
  },
  {
   "cell_type": "code",
   "execution_count": 171,
   "id": "b5508c36",
   "metadata": {},
   "outputs": [],
   "source": [
    "a,b,c = (1,2,3)"
   ]
  },
  {
   "cell_type": "code",
   "execution_count": 173,
   "id": "bef3a613",
   "metadata": {},
   "outputs": [
    {
     "data": {
      "text/plain": [
       "2"
      ]
     },
     "execution_count": 173,
     "metadata": {},
     "output_type": "execute_result"
    }
   ],
   "source": [
    "b"
   ]
  },
  {
   "cell_type": "code",
   "execution_count": 174,
   "id": "ee633eb9",
   "metadata": {},
   "outputs": [],
   "source": [
    "a , b = b, a"
   ]
  },
  {
   "cell_type": "code",
   "execution_count": 175,
   "id": "6e7d948e",
   "metadata": {},
   "outputs": [
    {
     "data": {
      "text/plain": [
       "2"
      ]
     },
     "execution_count": 175,
     "metadata": {},
     "output_type": "execute_result"
    }
   ],
   "source": [
    "a"
   ]
  },
  {
   "cell_type": "code",
   "execution_count": 188,
   "id": "e69a77a6",
   "metadata": {},
   "outputs": [
    {
     "name": "stdout",
     "output_type": "stream",
     "text": [
      "OK\n"
     ]
    }
   ],
   "source": [
    "if a == 2 and x or y:\n",
    "    print(\"OK\")"
   ]
  },
  {
   "cell_type": "code",
   "execution_count": 186,
   "id": "0be4ac81",
   "metadata": {},
   "outputs": [
    {
     "name": "stdout",
     "output_type": "stream",
     "text": [
      "x\n"
     ]
    }
   ],
   "source": [
    "if -2:\n",
    "    print(\"x\")\n",
    "elif -1:\n",
    "    print(\"A\")\n",
    "else:\n",
    "    print(\"XXX\")"
   ]
  },
  {
   "cell_type": "code",
   "execution_count": 183,
   "id": "7bfbdea8",
   "metadata": {},
   "outputs": [
    {
     "data": {
      "text/plain": [
       "3"
      ]
     },
     "execution_count": 183,
     "metadata": {},
     "output_type": "execute_result"
    }
   ],
   "source": [
    "x = 2\n",
    "3 * (x != 1)"
   ]
  },
  {
   "cell_type": "code",
   "execution_count": 184,
   "id": "b1328db6",
   "metadata": {},
   "outputs": [
    {
     "data": {
      "text/plain": [
       "'***'"
      ]
     },
     "execution_count": 184,
     "metadata": {},
     "output_type": "execute_result"
    }
   ],
   "source": [
    "\"*\"*(3*(x!=1))"
   ]
  },
  {
   "cell_type": "code",
   "execution_count": 189,
   "id": "63bc1cc6",
   "metadata": {},
   "outputs": [
    {
     "name": "stdout",
     "output_type": "stream",
     "text": [
      "OK\n"
     ]
    }
   ],
   "source": [
    "if \"a\" in \"ala\":\n",
    "    print(\"OK\")"
   ]
  },
  {
   "cell_type": "code",
   "execution_count": 190,
   "id": "b31cb599",
   "metadata": {},
   "outputs": [],
   "source": [
    "#set - nieuporzadkowane\n",
    "w = {...}"
   ]
  },
  {
   "cell_type": "code",
   "execution_count": 191,
   "id": "bc522e05",
   "metadata": {},
   "outputs": [],
   "source": [
    "if \"a\" in w:\n",
    "    print(\"A\")"
   ]
  },
  {
   "cell_type": "code",
   "execution_count": 195,
   "id": "7c122115",
   "metadata": {},
   "outputs": [],
   "source": [
    "x = \"a\" if a < 5 else \"b\""
   ]
  },
  {
   "cell_type": "code",
   "execution_count": null,
   "id": "3e202a8a",
   "metadata": {},
   "outputs": [],
   "source": []
  }
 ],
 "metadata": {
  "kernelspec": {
   "display_name": "Python 3 (ipykernel)",
   "language": "python",
   "name": "python3"
  },
  "language_info": {
   "codemirror_mode": {
    "name": "ipython",
    "version": 3
   },
   "file_extension": ".py",
   "mimetype": "text/x-python",
   "name": "python",
   "nbconvert_exporter": "python",
   "pygments_lexer": "ipython3",
   "version": "3.10.10"
  }
 },
 "nbformat": 4,
 "nbformat_minor": 5
}
