{
 "cells": [
  {
   "cell_type": "markdown",
   "id": "daf65b46-8598-4048-ae5c-c2af8d93c398",
   "metadata": {},
   "source": [
    "# Instrukcje warunkowe"
   ]
  },
  {
   "cell_type": "code",
   "execution_count": 15,
   "id": "dfdb4d1e-443a-4d11-919b-9e6b4c18e853",
   "metadata": {
    "tags": []
   },
   "outputs": [
    {
     "name": "stdout",
     "output_type": "stream",
     "text": [
      "WOW\n"
     ]
    }
   ],
   "source": [
    "x = 3\n",
    "if x == 1:\n",
    "    print(\"Ala\")\n",
    "elif x == 2:\n",
    "    print(\"1\")\n",
    "elif x == 3:\n",
    "    print(\"WOW\")\n",
    "else:\n",
    "    print(\"Ola\")"
   ]
  },
  {
   "cell_type": "code",
   "execution_count": 16,
   "id": "ed269980-1146-47be-8339-69dbb9960c5a",
   "metadata": {
    "tags": []
   },
   "outputs": [
    {
     "name": "stdout",
     "output_type": "stream",
     "text": [
      "GUT\n"
     ]
    }
   ],
   "source": [
    "x = (\"a\",\"b\",\"c\")\n",
    "a = \"b\"\n",
    "if a in x:\n",
    "    print(\"GUT\")"
   ]
  },
  {
   "cell_type": "code",
   "execution_count": 19,
   "id": "90826070-4eab-4075-a2a6-389e09c74902",
   "metadata": {
    "tags": []
   },
   "outputs": [
    {
     "name": "stdout",
     "output_type": "stream",
     "text": [
      "False\n",
      "True\n"
     ]
    }
   ],
   "source": [
    "x = (True, False, True)\n",
    "print(all(x))\n",
    "print(any(x))"
   ]
  },
  {
   "cell_type": "code",
   "execution_count": 22,
   "id": "ff27d298-e591-4986-a7b1-74adb85d8a39",
   "metadata": {
    "tags": []
   },
   "outputs": [
    {
     "data": {
      "text/plain": [
       "0"
      ]
     },
     "execution_count": 22,
     "metadata": {},
     "output_type": "execute_result"
    }
   ],
   "source": [
    "1 * (2 > 4)"
   ]
  },
  {
   "cell_type": "code",
   "execution_count": 27,
   "id": "13247c47-a4af-495f-960b-f786af3969dc",
   "metadata": {
    "tags": []
   },
   "outputs": [
    {
     "name": "stdout",
     "output_type": "stream",
     "text": [
      "100\n"
     ]
    }
   ],
   "source": [
    "y = 1\n",
    "x = y if y > 2 else 100\n",
    "print(x)"
   ]
  },
  {
   "cell_type": "markdown",
   "id": "2e5aa644-2b57-4911-ae65-91eca34698a1",
   "metadata": {},
   "source": [
    "# Pętle"
   ]
  },
  {
   "cell_type": "markdown",
   "id": "918afeaa-3ce8-47de-b347-5229f21ae3e2",
   "metadata": {},
   "source": [
    "### for"
   ]
  },
  {
   "cell_type": "code",
   "execution_count": 30,
   "id": "1de8d5de-9896-4894-8ae9-2660d19fd987",
   "metadata": {
    "tags": []
   },
   "outputs": [
    {
     "name": "stdout",
     "output_type": "stream",
     "text": [
      "A_l_a_ _m_a_ _k_o_t_a_"
     ]
    }
   ],
   "source": [
    "s = \"Ala ma kota\"\n",
    "for l in s:\n",
    "    print(l, end=\"_\")"
   ]
  },
  {
   "cell_type": "code",
   "execution_count": 36,
   "id": "3bbba5fa-8b5d-4a4e-8aed-e2a86ffcdfc2",
   "metadata": {
    "tags": []
   },
   "outputs": [
    {
     "name": "stdout",
     "output_type": "stream",
     "text": [
      "1 3 5 7 9 11 13 15 17 19 "
     ]
    }
   ],
   "source": [
    "for i in range(1,21,2):\n",
    "    print(i, end=\" \")"
   ]
  },
  {
   "cell_type": "code",
   "execution_count": 39,
   "id": "79c7cfc3-b484-464b-a079-054c77aa7447",
   "metadata": {
    "tags": []
   },
   "outputs": [
    {
     "name": "stdout",
     "output_type": "stream",
     "text": [
      "-10 -9 -8 -7 -6 -5 -4 -3 -2 -1 "
     ]
    }
   ],
   "source": [
    "for i in range(-10,0):\n",
    "    print(i, end=\" \")"
   ]
  },
  {
   "cell_type": "code",
   "execution_count": 40,
   "id": "3965e1c9-bab9-41f9-a138-6d57aca35fc2",
   "metadata": {
    "tags": []
   },
   "outputs": [
    {
     "name": "stdout",
     "output_type": "stream",
     "text": [
      "10 8 6 4 2 "
     ]
    }
   ],
   "source": [
    "for i in range(10,0,-2):\n",
    "    print(i, end=\" \")"
   ]
  },
  {
   "cell_type": "code",
   "execution_count": 46,
   "id": "40acb5b8-d5d8-457c-9082-336ade11bc98",
   "metadata": {
    "tags": []
   },
   "outputs": [
    {
     "name": "stdout",
     "output_type": "stream",
     "text": [
      "0 1 2 3 5 6 7 8 9 "
     ]
    }
   ],
   "source": [
    "for i in range(10):\n",
    "    if i == 4:\n",
    "        continue\n",
    "    print(i, end=\" \")"
   ]
  },
  {
   "cell_type": "markdown",
   "id": "76c36736-cb61-493b-928e-acefe144bd00",
   "metadata": {},
   "source": [
    "### while"
   ]
  },
  {
   "cell_type": "code",
   "execution_count": 51,
   "id": "bb2d1b40-8d5f-4a0a-8c54-5e22a5183eb6",
   "metadata": {
    "tags": []
   },
   "outputs": [
    {
     "name": "stdout",
     "output_type": "stream",
     "text": [
      "5~6~7~8~9~"
     ]
    }
   ],
   "source": [
    "x = 5\n",
    "while x < 10:\n",
    "    print(x, end=\"~\")\n",
    "    x += 1"
   ]
  },
  {
   "cell_type": "markdown",
   "id": "2bb3ec13-a839-4783-94fd-8710ba5f4a02",
   "metadata": {},
   "source": [
    "### zadanko"
   ]
  },
  {
   "cell_type": "code",
   "execution_count": 87,
   "id": "fed25cf1-8075-4288-be35-4c660772706b",
   "metadata": {
    "tags": []
   },
   "outputs": [
    {
     "name": "stdout",
     "output_type": "stream",
     "text": [
      "      *\n",
      "     ***\n",
      "    *****\n",
      "   *******\n",
      "  *********\n",
      " ***********\n",
      "*************\n",
      " ***********\n",
      "  *********\n",
      "   *******\n",
      "    *****\n",
      "     ***\n",
      "      *\n"
     ]
    }
   ],
   "source": [
    "n = 6\n",
    "for i in range(n+1):\n",
    "    print(\" \"*(n-i) + \"*\"*(2*i+1))\n",
    "for i in range(n,0,-1):\n",
    "    print(\" \"*(n-i+1) + \"*\"*(2*i-1))"
   ]
  },
  {
   "cell_type": "markdown",
   "id": "53d25217-8d75-4e46-abe7-682627ade809",
   "metadata": {},
   "source": [
    "### generewanie listy forem"
   ]
  },
  {
   "cell_type": "code",
   "execution_count": 90,
   "id": "6dc10051-bb4c-4f9c-a378-a0e871d4c5f3",
   "metadata": {
    "tags": []
   },
   "outputs": [],
   "source": [
    "l = [i**2 for i in range(11) if i % 2 == 0]"
   ]
  },
  {
   "cell_type": "code",
   "execution_count": 92,
   "id": "77570a7f-43ff-41e5-83fd-e291b11bc9a0",
   "metadata": {
    "tags": []
   },
   "outputs": [
    {
     "data": {
      "text/plain": [
       "[0, 4, 16, 36, 64, 100]"
      ]
     },
     "execution_count": 92,
     "metadata": {},
     "output_type": "execute_result"
    }
   ],
   "source": [
    "l"
   ]
  },
  {
   "cell_type": "code",
   "execution_count": 93,
   "id": "b58c1b59-ead5-4fa7-8f32-aa8b8a413afd",
   "metadata": {
    "tags": []
   },
   "outputs": [],
   "source": [
    "l1 = [ i*3 for i in l ]"
   ]
  },
  {
   "cell_type": "code",
   "execution_count": 94,
   "id": "2fb0c459-08d6-4508-8ecf-d53607f7bebc",
   "metadata": {
    "tags": []
   },
   "outputs": [
    {
     "data": {
      "text/plain": [
       "[0, 12, 48, 108, 192, 300]"
      ]
     },
     "execution_count": 94,
     "metadata": {},
     "output_type": "execute_result"
    }
   ],
   "source": [
    "l1"
   ]
  },
  {
   "cell_type": "code",
   "execution_count": 104,
   "id": "d39be1bb-0fea-4870-b6b4-15c0bd450bfe",
   "metadata": {
    "tags": []
   },
   "outputs": [],
   "source": [
    "l = [ [i*j for i in range(10)] for j in range(10) ]"
   ]
  },
  {
   "cell_type": "code",
   "execution_count": 105,
   "id": "a1f93a14-99c5-44a6-878a-af15744bd880",
   "metadata": {
    "tags": []
   },
   "outputs": [
    {
     "data": {
      "text/plain": [
       "[[0, 0, 0, 0, 0, 0, 0, 0, 0, 0],\n",
       " [0, 1, 2, 3, 4, 5, 6, 7, 8, 9],\n",
       " [0, 2, 4, 6, 8, 10, 12, 14, 16, 18],\n",
       " [0, 3, 6, 9, 12, 15, 18, 21, 24, 27],\n",
       " [0, 4, 8, 12, 16, 20, 24, 28, 32, 36],\n",
       " [0, 5, 10, 15, 20, 25, 30, 35, 40, 45],\n",
       " [0, 6, 12, 18, 24, 30, 36, 42, 48, 54],\n",
       " [0, 7, 14, 21, 28, 35, 42, 49, 56, 63],\n",
       " [0, 8, 16, 24, 32, 40, 48, 56, 64, 72],\n",
       " [0, 9, 18, 27, 36, 45, 54, 63, 72, 81]]"
      ]
     },
     "execution_count": 105,
     "metadata": {},
     "output_type": "execute_result"
    }
   ],
   "source": [
    "l"
   ]
  },
  {
   "cell_type": "code",
   "execution_count": 106,
   "id": "8b289388-f035-4f94-93a6-01d829e881cd",
   "metadata": {
    "tags": []
   },
   "outputs": [],
   "source": [
    "k = (i**2 for i in range(10))"
   ]
  },
  {
   "cell_type": "code",
   "execution_count": 107,
   "id": "365f191b-98b1-4b3e-b69f-fcf35aee95ef",
   "metadata": {
    "tags": []
   },
   "outputs": [
    {
     "data": {
      "text/plain": [
       "<generator object <genexpr> at 0x10444f8b0>"
      ]
     },
     "execution_count": 107,
     "metadata": {},
     "output_type": "execute_result"
    }
   ],
   "source": [
    "k"
   ]
  },
  {
   "cell_type": "code",
   "execution_count": 108,
   "id": "503b8668-e19a-4c0e-a075-445944a0c1e3",
   "metadata": {
    "tags": []
   },
   "outputs": [
    {
     "name": "stdout",
     "output_type": "stream",
     "text": [
      "0\n",
      "1\n",
      "4\n",
      "9\n",
      "16\n",
      "25\n",
      "36\n",
      "49\n",
      "64\n",
      "81\n"
     ]
    }
   ],
   "source": [
    "for i in k:\n",
    "    print(i)"
   ]
  },
  {
   "cell_type": "code",
   "execution_count": 110,
   "id": "fd2d7467-2622-4976-a5e8-cf0ce22aacbc",
   "metadata": {},
   "outputs": [
    {
     "name": "stdout",
     "output_type": "stream",
     "text": [
      "1\n",
      "3\n",
      "5\n",
      "7\n",
      "9\n",
      "11\n",
      "13\n",
      "15\n",
      "17\n",
      "19\n",
      "21\n",
      "23\n",
      "25\n",
      "27\n",
      "29\n"
     ]
    }
   ],
   "source": [
    "i = 0\n",
    "n = 30\n",
    "\n",
    "while (x := 2*i+1) < n:\n",
    "    print(x)\n",
    "    i += 1"
   ]
  },
  {
   "cell_type": "markdown",
   "id": "633de11e-6e6c-4b13-adfa-848b56bf65f9",
   "metadata": {},
   "source": [
    "# Słowniki"
   ]
  },
  {
   "cell_type": "code",
   "execution_count": 1,
   "id": "52cd97b4-52e8-4463-8251-44321b5755f2",
   "metadata": {
    "tags": []
   },
   "outputs": [],
   "source": [
    "d = {\"a\":1, \"b\":2, \"c\":3}"
   ]
  },
  {
   "cell_type": "code",
   "execution_count": 3,
   "id": "7377372e-1147-4b9b-9713-54e2f394e483",
   "metadata": {
    "tags": []
   },
   "outputs": [
    {
     "data": {
      "text/plain": [
       "dict"
      ]
     },
     "execution_count": 3,
     "metadata": {},
     "output_type": "execute_result"
    }
   ],
   "source": [
    "type(d)"
   ]
  },
  {
   "cell_type": "code",
   "execution_count": 12,
   "id": "05b707be-8de3-4993-a2db-85b796dc5347",
   "metadata": {
    "tags": []
   },
   "outputs": [
    {
     "data": {
      "text/plain": [
       "1"
      ]
     },
     "execution_count": 12,
     "metadata": {},
     "output_type": "execute_result"
    }
   ],
   "source": [
    "d['a']\n",
    "#d['d'] -- daje blad"
   ]
  },
  {
   "cell_type": "code",
   "execution_count": 14,
   "id": "a5eea242-adc3-437b-9ce1-a1f6a2f2a9a5",
   "metadata": {
    "tags": []
   },
   "outputs": [
    {
     "name": "stdout",
     "output_type": "stream",
     "text": [
      "1\n",
      "nie ma\n"
     ]
    }
   ],
   "source": [
    "print(d.get('a',\"nie ma\"))\n",
    "print(d.get('d',\"nie ma\"))"
   ]
  },
  {
   "cell_type": "code",
   "execution_count": 19,
   "id": "f1b349df-a5bb-42a3-a87d-d27e08fce507",
   "metadata": {
    "tags": []
   },
   "outputs": [],
   "source": [
    "d[\"d\"] = 4"
   ]
  },
  {
   "cell_type": "code",
   "execution_count": 20,
   "id": "5978b522-a9eb-49fa-bccd-0acd566d06f8",
   "metadata": {
    "tags": []
   },
   "outputs": [
    {
     "data": {
      "text/plain": [
       "4"
      ]
     },
     "execution_count": 20,
     "metadata": {},
     "output_type": "execute_result"
    }
   ],
   "source": [
    "d[\"d\"]"
   ]
  },
  {
   "cell_type": "code",
   "execution_count": 24,
   "id": "8b6720ab-1520-46ce-a920-e6a1cd7be4a3",
   "metadata": {
    "tags": []
   },
   "outputs": [],
   "source": [
    "d1 = {\"a\":99, \"y\":100}"
   ]
  },
  {
   "cell_type": "code",
   "execution_count": 25,
   "id": "4170adca-ab1c-4ac0-bad2-68df8ef1e74c",
   "metadata": {
    "tags": []
   },
   "outputs": [],
   "source": [
    "d.update(d1)"
   ]
  },
  {
   "cell_type": "code",
   "execution_count": 26,
   "id": "6428db48-e4db-4d0c-89e3-ed09698f525a",
   "metadata": {
    "tags": []
   },
   "outputs": [
    {
     "data": {
      "text/plain": [
       "{'a': 99, 'b': 2, 'c': 3, 'd': 4, 'x': 99, 'y': 100}"
      ]
     },
     "execution_count": 26,
     "metadata": {},
     "output_type": "execute_result"
    }
   ],
   "source": [
    "d"
   ]
  },
  {
   "cell_type": "code",
   "execution_count": 27,
   "id": "65443458-2f36-4b1f-8f31-ec3e7a09c67d",
   "metadata": {
    "tags": []
   },
   "outputs": [],
   "source": [
    "d2 = {\"p\":55}"
   ]
  },
  {
   "cell_type": "code",
   "execution_count": 28,
   "id": "f1559fde-08f2-4b36-b2a0-9fb77fbe8f7c",
   "metadata": {
    "tags": []
   },
   "outputs": [],
   "source": [
    "d |= d2"
   ]
  },
  {
   "cell_type": "code",
   "execution_count": 29,
   "id": "80f1bbf6-b416-4b4f-a4e7-ef782daa3564",
   "metadata": {
    "tags": []
   },
   "outputs": [
    {
     "data": {
      "text/plain": [
       "{'a': 99, 'b': 2, 'c': 3, 'd': 4, 'x': 99, 'y': 100, 'p': 55}"
      ]
     },
     "execution_count": 29,
     "metadata": {},
     "output_type": "execute_result"
    }
   ],
   "source": [
    "d"
   ]
  },
  {
   "cell_type": "code",
   "execution_count": 30,
   "id": "680147ca-8e68-44d2-8cc8-4ef47f4440b4",
   "metadata": {
    "tags": []
   },
   "outputs": [],
   "source": [
    "del d[\"a\"]"
   ]
  },
  {
   "cell_type": "code",
   "execution_count": 31,
   "id": "3f6aeea6-fdf5-4c4e-9ea0-831f1c975cbf",
   "metadata": {
    "tags": []
   },
   "outputs": [
    {
     "data": {
      "text/plain": [
       "{'b': 2, 'c': 3, 'd': 4, 'x': 99, 'y': 100, 'p': 55}"
      ]
     },
     "execution_count": 31,
     "metadata": {},
     "output_type": "execute_result"
    }
   ],
   "source": [
    "d"
   ]
  },
  {
   "cell_type": "code",
   "execution_count": 32,
   "id": "031872ff-91a3-4857-8e65-8e8b6a3756dc",
   "metadata": {
    "tags": []
   },
   "outputs": [
    {
     "data": {
      "text/plain": [
       "2"
      ]
     },
     "execution_count": 32,
     "metadata": {},
     "output_type": "execute_result"
    }
   ],
   "source": [
    "d.pop(\"b\")"
   ]
  },
  {
   "cell_type": "code",
   "execution_count": 33,
   "id": "3ab1d138-4461-49c9-8a30-f2dc7251ad63",
   "metadata": {
    "tags": []
   },
   "outputs": [
    {
     "data": {
      "text/plain": [
       "{'c': 3, 'd': 4, 'x': 99, 'y': 100, 'p': 55}"
      ]
     },
     "execution_count": 33,
     "metadata": {},
     "output_type": "execute_result"
    }
   ],
   "source": [
    "d"
   ]
  },
  {
   "cell_type": "code",
   "execution_count": 36,
   "id": "001e4777-9607-4b11-a724-a24efb9260c3",
   "metadata": {
    "tags": []
   },
   "outputs": [
    {
     "data": {
      "text/plain": [
       "'d'"
      ]
     },
     "execution_count": 36,
     "metadata": {},
     "output_type": "execute_result"
    }
   ],
   "source": [
    "list(d.keys())[1]"
   ]
  },
  {
   "cell_type": "code",
   "execution_count": 38,
   "id": "88f3a7ea-a84a-47bf-9770-24407e0f5cf5",
   "metadata": {
    "tags": []
   },
   "outputs": [
    {
     "data": {
      "text/plain": [
       "[3, 4, 99, 100, 55]"
      ]
     },
     "execution_count": 38,
     "metadata": {},
     "output_type": "execute_result"
    }
   ],
   "source": [
    "list(d.values())"
   ]
  },
  {
   "cell_type": "code",
   "execution_count": 42,
   "id": "9e3f38a1-0f70-401a-ad06-7af8446e9013",
   "metadata": {
    "tags": []
   },
   "outputs": [],
   "source": [
    "d = dict([[\"z\",1],[\"x\",2]])"
   ]
  },
  {
   "cell_type": "code",
   "execution_count": 43,
   "id": "439c02a5-819c-445f-a29a-3cfb54ab991d",
   "metadata": {
    "tags": []
   },
   "outputs": [
    {
     "data": {
      "text/plain": [
       "{'z': 1, 'x': 2}"
      ]
     },
     "execution_count": 43,
     "metadata": {},
     "output_type": "execute_result"
    }
   ],
   "source": [
    "d"
   ]
  },
  {
   "cell_type": "code",
   "execution_count": 44,
   "id": "8057b071-e3fb-44af-b937-484f8b7fd63d",
   "metadata": {
    "tags": []
   },
   "outputs": [],
   "source": [
    "d = dict(((\"z\",1),(\"x\",2)))"
   ]
  },
  {
   "cell_type": "code",
   "execution_count": 45,
   "id": "eac5d02e-6caa-45b1-8359-8a65ef105d7a",
   "metadata": {
    "tags": []
   },
   "outputs": [
    {
     "data": {
      "text/plain": [
       "{'z': 1, 'x': 2}"
      ]
     },
     "execution_count": 45,
     "metadata": {},
     "output_type": "execute_result"
    }
   ],
   "source": [
    "d"
   ]
  },
  {
   "cell_type": "markdown",
   "id": "4b44ca36-6161-4bd6-a744-5e4a86a95d30",
   "metadata": {},
   "source": [
    "### zadanie - liczenie liter"
   ]
  },
  {
   "cell_type": "code",
   "execution_count": 52,
   "id": "69a84248-3f72-4a9d-b2bf-3996980d0cd8",
   "metadata": {
    "tags": []
   },
   "outputs": [],
   "source": [
    "import string\n",
    "l = string.ascii_lowercase\n",
    "t = \"Ala ma kota i psa\".lower()"
   ]
  },
  {
   "cell_type": "code",
   "execution_count": 71,
   "id": "9af19798-cd30-4022-b765-9c4f6b027b27",
   "metadata": {
    "tags": []
   },
   "outputs": [],
   "source": [
    "d = dict([[i,t.count(i)] for i in l])"
   ]
  },
  {
   "cell_type": "code",
   "execution_count": 72,
   "id": "1471e662-4acc-420a-a61e-6b64df6d9bd5",
   "metadata": {
    "tags": []
   },
   "outputs": [
    {
     "data": {
      "text/plain": [
       "{'a': 5,\n",
       " 'b': 0,\n",
       " 'c': 0,\n",
       " 'd': 0,\n",
       " 'e': 0,\n",
       " 'f': 0,\n",
       " 'g': 0,\n",
       " 'h': 0,\n",
       " 'i': 1,\n",
       " 'j': 0,\n",
       " 'k': 1,\n",
       " 'l': 1,\n",
       " 'm': 1,\n",
       " 'n': 0,\n",
       " 'o': 1,\n",
       " 'p': 1,\n",
       " 'q': 0,\n",
       " 'r': 0,\n",
       " 's': 1,\n",
       " 't': 1,\n",
       " 'u': 0,\n",
       " 'v': 0,\n",
       " 'w': 0,\n",
       " 'x': 0,\n",
       " 'y': 0,\n",
       " 'z': 0}"
      ]
     },
     "execution_count": 72,
     "metadata": {},
     "output_type": "execute_result"
    }
   ],
   "source": [
    "d"
   ]
  },
  {
   "cell_type": "code",
   "execution_count": 75,
   "id": "8653b240-26f9-4644-8e4e-529ef0fbb698",
   "metadata": {
    "tags": []
   },
   "outputs": [],
   "source": [
    "d = {}\n",
    "for let in t:\n",
    "    if let not in list(d.keys()) and let in string.ascii_lowercase:\n",
    "        d.update({let:t.count(let)})"
   ]
  },
  {
   "cell_type": "code",
   "execution_count": 76,
   "id": "9727fbc2-919e-44bc-b0f3-5f7a9f107f72",
   "metadata": {
    "tags": []
   },
   "outputs": [
    {
     "data": {
      "text/plain": [
       "{'a': 5, 'l': 1, 'm': 1, 'k': 1, 'o': 1, 't': 1, 'i': 1, 'p': 1, 's': 1}"
      ]
     },
     "execution_count": 76,
     "metadata": {},
     "output_type": "execute_result"
    }
   ],
   "source": [
    "d"
   ]
  },
  {
   "cell_type": "markdown",
   "id": "fb8b0a9e-024a-4a9c-b312-0971232ba1af",
   "metadata": {},
   "source": [
    "### zadanie DNA"
   ]
  },
  {
   "cell_type": "code",
   "execution_count": 81,
   "id": "9f18779b-e7ed-4e16-87a2-e97312d67ab5",
   "metadata": {
    "tags": []
   },
   "outputs": [],
   "source": [
    "dna1 = \"ATCATTGACGATGGAT\"\n",
    "dna2 = \"TAGTAACT...\""
   ]
  },
  {
   "cell_type": "code",
   "execution_count": 94,
   "id": "51cef12c-e6b6-4fc1-91c7-23977f2fa099",
   "metadata": {
    "tags": []
   },
   "outputs": [
    {
     "name": "stdout",
     "output_type": "stream",
     "text": [
      "ATCATTGACGATGGAT\n",
      "TAGTAACTGCTACCTA\n"
     ]
    }
   ],
   "source": [
    "d = {\"A\":\"T\",\"G\":\"C\",\"C\":\"G\",\"T\":\"A\"}\n",
    "dna2 = \"\".join(d[l] for l in dna1)\n",
    "print(dna1)\n",
    "print(dna2)"
   ]
  },
  {
   "cell_type": "code",
   "execution_count": 141,
   "id": "fbe9ecbb-0b3b-40ba-b434-daad47c12312",
   "metadata": {
    "tags": []
   },
   "outputs": [
    {
     "name": "stdout",
     "output_type": "stream",
     "text": [
      "ATCATTGACGATGGAT\n",
      "|||.|.||.||.||.|\n",
      "|||.|.||.||.||.|\n",
      "|||.|.||.||.||.|\n",
      "TAGCAGCTACTCCCAA\n"
     ]
    }
   ],
   "source": [
    "s = ({\"A\",\"T\"},{\"C\",\"G\"})\n",
    "dna1 = \"ATCATTGACGATGGAT\"\n",
    "dna2 = \"TAGCAGCTACTCCCAA\"\n",
    "print(dna1)\n",
    "\n",
    "print(\"\".join(\"|\" if {i,j} in s else \".\" for i,j in zip(dna1,dna2)))\n",
    "\n",
    "print(\"\".join(\"|\"*({i,j} in s) + \".\"*({i,j} not in s) for i,j in zip(dna1,dna2)))\n",
    "\n",
    "for i,j in zip(dna1,dna2):\n",
    "    if {i,j} in s:\n",
    "        print(\"|\",end=\"\")\n",
    "    else:\n",
    "        print(\".\",end=\"\")\n",
    "print()\n",
    "print(dna2)"
   ]
  },
  {
   "cell_type": "code",
   "execution_count": null,
   "id": "b5b6176d-0edb-4095-be7e-dddf296e64fb",
   "metadata": {},
   "outputs": [],
   "source": []
  }
 ],
 "metadata": {
  "kernelspec": {
   "display_name": "Python 3 (ipykernel)",
   "language": "python",
   "name": "python3"
  },
  "language_info": {
   "codemirror_mode": {
    "name": "ipython",
    "version": 3
   },
   "file_extension": ".py",
   "mimetype": "text/x-python",
   "name": "python",
   "nbconvert_exporter": "python",
   "pygments_lexer": "ipython3",
   "version": "3.10.11"
  }
 },
 "nbformat": 4,
 "nbformat_minor": 5
}
