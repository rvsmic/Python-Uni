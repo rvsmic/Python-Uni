{
 "cells": [
  {
   "cell_type": "markdown",
   "id": "6f2b1181-26d8-439e-9d9c-c10a3675047d",
   "metadata": {
    "tags": []
   },
   "source": [
    "# Automaty komórkowe - zaliczenie"
   ]
  },
  {
   "cell_type": "code",
   "execution_count": 54,
   "id": "0e46a1ef-afa3-404b-a065-59dcaf9d9068",
   "metadata": {
    "tags": []
   },
   "outputs": [
    {
     "name": "stdout",
     "output_type": "stream",
     "text": [
      "_________________________*_________________________\n",
      "________________________*_*________________________\n",
      "_______________________*___*_______________________\n",
      "______________________*_*_*_*______________________\n",
      "_____________________*_______*_____________________\n",
      "____________________*_*_____*_*____________________\n",
      "___________________*___*___*___*___________________\n",
      "__________________*_*_*_*_*_*_*_*__________________\n",
      "_________________*_______________*_________________\n",
      "________________*_*_____________*_*________________\n",
      "_______________*___*___________*___*_______________\n",
      "______________*_*_*_*_________*_*_*_*______________\n",
      "_____________*_______*_______*_______*_____________\n",
      "____________*_*_____*_*_____*_*_____*_*____________\n",
      "___________*___*___*___*___*___*___*___*___________\n",
      "__________*_*_*_*_*_*_*_*_*_*_*_*_*_*_*_*__________\n",
      "_________*_______________________________*_________\n",
      "________*_*_____________________________*_*________\n",
      "_______*___*___________________________*___*_______\n",
      "______*_*_*_*_________________________*_*_*_*______\n",
      "_____*_______*_______________________*_______*_____\n",
      "____*_*_____*_*_____________________*_*_____*_*____\n",
      "___*___*___*___*___________________*___*___*___*___\n",
      "__*_*_*_*_*_*_*_*_________________*_*_*_*_*_*_*_*__\n",
      "_*_______________*_______________*_______________*_\n",
      "*_*_____________*_*_____________*_*_____________*_*\n",
      "*__*___________*___*___________*___*___________*__*\n",
      "***_*_________*_*_*_*_________*_*_*_*_________*_***\n",
      "__*__*_______*_______*_______*_______*_______*__*__\n",
      "_*_**_*_____*_*_____*_*_____*_*_____*_*_____*_**_*_\n",
      "*__**__*___*___*___*___*___*___*___*___*___*__**__*\n"
     ]
    }
   ],
   "source": [
    "auto = [i for i in range(0,11)]\n",
    "rule = bin(90)[2:]\n",
    "\n",
    "n = 50 #dlugosc ciagu\n",
    "k = 30 #liczba krokow\n",
    "\n",
    "predict = [\"***\",\"**_\",\"*_*\",\"*__\",\"_**\",\"_*_\",\"__*\",\"___\"]\n",
    "rule = rule.zfill(8)\n",
    "prerule = [\"*\" if i == '1' else \"_\" for i in rule]\n",
    "#print(prerule)\n",
    "automat = {key:value for key,value in zip(predict,prerule)}\n",
    "#print(automat)\n",
    "\n",
    "cells = \"_\"*(n//2)+\"*\"+\"_\"*(n//2)\n",
    "\n",
    "print(cells)\n",
    "\n",
    "for i in range(k):\n",
    "    #cells = \"\".join(automat[cells[j-1]+cells[j]+cells[j+1]] if j>1 and j<len(cells)-1 else automat[cells[len(cells)-1]+cells[j]+cells[j+1]] if j==0 else automat[cells[j-1]+cells[j]+cells[0]] for j in range(0,len(cells)))\n",
    "    print(cells := \"\".join(automat[cells[j-1]+cells[j]+cells[(j+1)%(len(cells))]] for j in range(0,len(cells))))\n",
    "    "
   ]
  },
  {
   "cell_type": "markdown",
   "id": "f5104cde-2ec4-4be3-89f0-5294dc67e580",
   "metadata": {},
   "source": [
    "# Formatowanie stringów"
   ]
  },
  {
   "cell_type": "code",
   "execution_count": 75,
   "id": "2b7c4585-148b-4db8-aabb-5305bc569140",
   "metadata": {
    "tags": []
   },
   "outputs": [
    {
     "name": "stdout",
     "output_type": "stream",
     "text": [
      "2 samochody o masie 2364.220000 kilograma \n",
      " (w notacji wykładniczej 2.334645e+03 kilograma)\n"
     ]
    }
   ],
   "source": [
    "s = \"%d %s o masie %f kilograma \\n (w notacji wykładniczej %e kilograma)\"\n",
    "dane = (2,\"samochody\",2364.22,2334.64454545)\n",
    "print(s % dane)"
   ]
  },
  {
   "cell_type": "code",
   "execution_count": 73,
   "id": "89692379-2bd3-4b39-b5f9-e82694d3a10d",
   "metadata": {
    "tags": []
   },
   "outputs": [
    {
     "name": "stdout",
     "output_type": "stream",
     "text": [
      "*     Hello*\n",
      "*Hello     *\n",
      "*    2.3457*\n"
     ]
    }
   ],
   "source": [
    "print(\"*%10s*\" % (\"Hello\"))\n",
    "print(\"*%-10s*\" % (\"Hello\"))\n",
    "print(\"*%10.4f*\" % (2.34567890))"
   ]
  },
  {
   "cell_type": "code",
   "execution_count": 77,
   "id": "9cc91041-39c2-4ac6-b700-c35584f02b8f",
   "metadata": {
    "tags": []
   },
   "outputs": [
    {
     "name": "stdout",
     "output_type": "stream",
     "text": [
      "psy i 2 koty\n"
     ]
    }
   ],
   "source": [
    "s = \"{1} i {0} {zwierzęta}\"\n",
    "print(s.format(2,\"psy\",zwierzęta = \"koty\"))"
   ]
  },
  {
   "cell_type": "code",
   "execution_count": 80,
   "id": "7efb638e-2d35-405b-a22a-52b5d7a56dda",
   "metadata": {
    "tags": []
   },
   "outputs": [
    {
     "name": "stdout",
     "output_type": "stream",
     "text": [
      "element listy 3 i wartosc ze slownika Bolek\n"
     ]
    }
   ],
   "source": [
    "s = \"element listy {lista[1]} i wartosc ze slownika {slownik[b]}\"\n",
    "print(s.format(lista = (2,3,4),slownik = {\"a\":\"Ala\",\"b\":\"Bolek\"}))"
   ]
  },
  {
   "cell_type": "code",
   "execution_count": 85,
   "id": "c3bbfb72-569f-4bb2-9adc-f8a64f6efb53",
   "metadata": {
    "tags": []
   },
   "outputs": [
    {
     "name": "stdout",
     "output_type": "stream",
     "text": [
      "|***Hello***|\n",
      "|   Hello   |\n"
     ]
    }
   ],
   "source": [
    "s = \"|{0:*^11s}|\"\n",
    "print(s.format(\"Hello\"))\n",
    "s = \"|{0:^11s}|\"\n",
    "print(s.format(\"Hello\"))"
   ]
  },
  {
   "cell_type": "code",
   "execution_count": 87,
   "id": "d96963f6-59cf-4bb4-93ed-fd989c57e2a7",
   "metadata": {
    "tags": []
   },
   "outputs": [
    {
     "name": "stdout",
     "output_type": "stream",
     "text": [
      "______3.14158_______\n"
     ]
    }
   ],
   "source": [
    "s = \"{0:_^20.5f}\"\n",
    "print(s.format(3.141577738))"
   ]
  },
  {
   "cell_type": "code",
   "execution_count": 90,
   "id": "d5cf3671-47e2-44ed-a3e6-5220cf86f9aa",
   "metadata": {
    "tags": []
   },
   "outputs": [
    {
     "name": "stdout",
     "output_type": "stream",
     "text": [
      "dlugosc wynosi 2.\n",
      "Pole wynosi 4\n"
     ]
    }
   ],
   "source": [
    "x = 2\n",
    "s1 = f\"dlugosc wynosi {x}.\"\n",
    "s2 = f\"Pole wynosi {(x2:=x**2)}\"\n",
    "print(s1)\n",
    "print(s2)"
   ]
  },
  {
   "cell_type": "code",
   "execution_count": 92,
   "id": "a2a7d250-d7a1-4664-a638-83aa49328e10",
   "metadata": {
    "tags": []
   },
   "outputs": [
    {
     "name": "stdout",
     "output_type": "stream",
     "text": [
      "0.8660254037844386\n"
     ]
    }
   ],
   "source": [
    "import math\n",
    "print(math.sin(math.pi/3))"
   ]
  },
  {
   "cell_type": "code",
   "execution_count": 103,
   "id": "79814785-9ded-491d-ae47-a8a779fa90ec",
   "metadata": {
    "tags": []
   },
   "outputs": [
    {
     "name": "stdout",
     "output_type": "stream",
     "text": [
      "0.15880539947705874\n",
      "28\n",
      "['C', 'G', 'G', 'C', 'C', 'A', 'G', 'G', 'A', 'G']\n"
     ]
    }
   ],
   "source": [
    "import random\n",
    "# przedzial 0-1 z rozkladem stalym\n",
    "print(random.random())\n",
    "\n",
    "# z przedzialu a - b\n",
    "print(random.randint(20,30))\n",
    "\n",
    "# z danej sekwencji (weights to prawdopodobienstwo trafienia, k to ilosc losowan)\n",
    "print(random.choices(\"ACTG\", weights = (1,1,1,10),k=10))"
   ]
  },
  {
   "cell_type": "markdown",
   "id": "c1225fbd-1b21-4e96-b044-c88d9aac75e3",
   "metadata": {
    "tags": []
   },
   "source": [
    "# Obsługa wyjątków"
   ]
  },
  {
   "cell_type": "code",
   "execution_count": 106,
   "id": "57a8eb8c-852c-4022-a4e7-4c33125db08e",
   "metadata": {
    "tags": []
   },
   "outputs": [
    {
     "name": "stdout",
     "output_type": "stream",
     "text": [
      "Baranie nie dziel przez 0\n"
     ]
    }
   ],
   "source": [
    "try:\n",
    "    x = 1\n",
    "    y = 0\n",
    "    print(x/y)\n",
    "except ZeroDivisionError:\n",
    "    print(\"Baranie nie dziel przez 0\")"
   ]
  },
  {
   "cell_type": "code",
   "execution_count": 113,
   "id": "01eb74a6-a700-406b-8b02-0ebae99f0572",
   "metadata": {
    "tags": []
   },
   "outputs": [
    {
     "name": "stdin",
     "output_type": "stream",
     "text": [
      " 2\n"
     ]
    },
    {
     "name": "stdout",
     "output_type": "stream",
     "text": [
      "4\n",
      "Zrobione\n"
     ]
    }
   ],
   "source": [
    "try:\n",
    "    x = input()\n",
    "    print(2 + x)\n",
    "except TypeError:\n",
    "    print(2+int(x))\n",
    "finally:\n",
    "    print(\"Zrobione\")"
   ]
  },
  {
   "cell_type": "markdown",
   "id": "bdc6aafe-a2b8-474d-a3c8-db7d3702d440",
   "metadata": {},
   "source": [
    "# Operacje na plikach"
   ]
  },
  {
   "cell_type": "code",
   "execution_count": 114,
   "id": "29a03c9f-0726-4e43-bea7-29e8c00be94c",
   "metadata": {
    "tags": []
   },
   "outputs": [],
   "source": [
    "f = open(\"plik.txt\",\"r\")"
   ]
  },
  {
   "cell_type": "code",
   "execution_count": 116,
   "id": "e857c72f-11e7-46b4-8607-93a39c20816b",
   "metadata": {
    "tags": []
   },
   "outputs": [
    {
     "data": {
      "text/plain": [
       "''"
      ]
     },
     "execution_count": 116,
     "metadata": {},
     "output_type": "execute_result"
    }
   ],
   "source": [
    "f.read()"
   ]
  },
  {
   "cell_type": "code",
   "execution_count": 117,
   "id": "344a2357-5431-405b-916a-8480983e8619",
   "metadata": {
    "tags": []
   },
   "outputs": [
    {
     "data": {
      "text/plain": [
       "''"
      ]
     },
     "execution_count": 117,
     "metadata": {},
     "output_type": "execute_result"
    }
   ],
   "source": [
    "f.readline()"
   ]
  },
  {
   "cell_type": "code",
   "execution_count": 125,
   "id": "183e8c23-2327-4821-a5af-b3e62c9abad4",
   "metadata": {
    "tags": []
   },
   "outputs": [
    {
     "data": {
      "text/plain": [
       "0"
      ]
     },
     "execution_count": 125,
     "metadata": {},
     "output_type": "execute_result"
    }
   ],
   "source": [
    "f.tell()\n",
    "f.seek(0)\n",
    "f.tell()"
   ]
  },
  {
   "cell_type": "code",
   "execution_count": 126,
   "id": "06fde6de-6311-430d-afb1-752b568f06cb",
   "metadata": {
    "tags": []
   },
   "outputs": [
    {
     "data": {
      "text/plain": [
       "'Ala ma kota'"
      ]
     },
     "execution_count": 126,
     "metadata": {},
     "output_type": "execute_result"
    }
   ],
   "source": [
    "f.readline()"
   ]
  },
  {
   "cell_type": "code",
   "execution_count": 127,
   "id": "4c803607-ed35-47a3-a56b-e1c6cbe795af",
   "metadata": {
    "tags": []
   },
   "outputs": [],
   "source": [
    "f.close()"
   ]
  },
  {
   "cell_type": "code",
   "execution_count": 128,
   "id": "941d62af-d27b-49c9-bfa4-ffb0da5ea038",
   "metadata": {
    "tags": []
   },
   "outputs": [
    {
     "name": "stdout",
     "output_type": "stream",
     "text": [
      "Ala ma kota\n"
     ]
    }
   ],
   "source": [
    "f = open(\"plik.txt\")\n",
    "for i in f:\n",
    "    print(i)"
   ]
  },
  {
   "cell_type": "code",
   "execution_count": 137,
   "id": "d3f6a815-14f8-4ac8-92f3-b794c66c0f35",
   "metadata": {
    "tags": []
   },
   "outputs": [],
   "source": [
    "f.close()\n",
    "f = open(\"test.txt\")\n",
    "l = list(filter(bool,map(lambda i:i.split(\"#\",1)[0].strip(),f)))"
   ]
  },
  {
   "cell_type": "code",
   "execution_count": 138,
   "id": "cf9b32f6-db83-44f1-94b6-77b1dbf4dd5d",
   "metadata": {
    "tags": []
   },
   "outputs": [
    {
     "data": {
      "text/plain": [
       "['x=1', 'y=2', 'kolor: FF43B3']"
      ]
     },
     "execution_count": 138,
     "metadata": {},
     "output_type": "execute_result"
    }
   ],
   "source": [
    "l"
   ]
  },
  {
   "cell_type": "code",
   "execution_count": 141,
   "id": "085413e3-0cf5-4ab7-943c-80b1950011eb",
   "metadata": {
    "tags": []
   },
   "outputs": [],
   "source": [
    "f = open(\"test.txt\")\n",
    "try:\n",
    "    f.read()\n",
    "finally:\n",
    "    f.close()"
   ]
  },
  {
   "cell_type": "code",
   "execution_count": 145,
   "id": "ab521d44-6811-4b8e-9fe9-aa85401854cc",
   "metadata": {
    "tags": []
   },
   "outputs": [
    {
     "name": "stdout",
     "output_type": "stream",
     "text": [
      "['x=1   # wspl x\\n', 'y=2   # wspl y\\n', '\\n', '\\n', 'kolor: FF43B3\\n']\n"
     ]
    }
   ],
   "source": [
    "# sam otworzy i na tym wcieciu bedzie dzialac - potem sam zamknie\n",
    "with open(\"test.txt\") as f:\n",
    "    print([i for i in f])"
   ]
  },
  {
   "cell_type": "code",
   "execution_count": null,
   "id": "df3cc41c-6ac6-4bed-bc66-510541b27c5f",
   "metadata": {},
   "outputs": [],
   "source": []
  }
 ],
 "metadata": {
  "kernelspec": {
   "display_name": "Python 3 (ipykernel)",
   "language": "python",
   "name": "python3"
  },
  "language_info": {
   "codemirror_mode": {
    "name": "ipython",
    "version": 3
   },
   "file_extension": ".py",
   "mimetype": "text/x-python",
   "name": "python",
   "nbconvert_exporter": "python",
   "pygments_lexer": "ipython3",
   "version": "3.10.11"
  }
 },
 "nbformat": 4,
 "nbformat_minor": 5
}
