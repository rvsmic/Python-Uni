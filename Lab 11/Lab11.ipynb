{
 "cells": [
  {
   "attachments": {},
   "cell_type": "markdown",
   "id": "3318044f-20b6-4ddd-83e6-28a688b79202",
   "metadata": {},
   "source": [
    "# Biblioteka Requests"
   ]
  },
  {
   "cell_type": "code",
   "execution_count": 6,
   "id": "e6c6c656-1057-4486-b473-cb2121e74018",
   "metadata": {
    "tags": []
   },
   "outputs": [],
   "source": [
    "from requests import get\n",
    "\n",
    "f = get('http://docs.python.org')\n",
    "s = f.text\n",
    "f.close()\n",
    "\n",
    "# print(s)"
   ]
  },
  {
   "cell_type": "code",
   "execution_count": 15,
   "id": "8bcc572f-afb8-460b-9dfd-3ff601cd16c2",
   "metadata": {
    "tags": []
   },
   "outputs": [],
   "source": [
    "f = get('http://docs.python.org', stream=True)\n",
    "# for i in f.iter_lines():\n",
    "#     print(i.decode('UTF-8'))\n",
    "f.close()"
   ]
  },
  {
   "attachments": {},
   "cell_type": "markdown",
   "id": "d0e2669e-7c6c-41c0-9123-69c1839c54bd",
   "metadata": {},
   "source": [
    "### Wyciąganie stolicy z Wikipedii"
   ]
  },
  {
   "cell_type": "code",
   "execution_count": 54,
   "id": "20366c07-1f2c-4110-a36b-cbc8ee31200c",
   "metadata": {
    "tags": []
   },
   "outputs": [
    {
     "name": "stdout",
     "output_type": "stream",
     "text": [
      "Stolica v1: Warszawa\n",
      "Stolica v2: Warszawa\n"
     ]
    }
   ],
   "source": [
    "def stolica1(p):\n",
    "    f = get('https://pl.wikipedia.org/wiki/'+p)\n",
    "    s = f.text.split(\"Stolica\")[3].split(\"title=\")[1].split(\"\\\"\")[1]\n",
    "    f.close()\n",
    "    return s\n",
    "print(\"Stolica v1:\",stolica1(\"Polska\"))\n",
    "\n",
    "def stolica2(p):\n",
    "    f = get('https://pl.wikipedia.org/wiki/'+p, stream=True)\n",
    "    b,c,d = \"\",\"\",\"\"\n",
    "    for l in f.iter_lines():\n",
    "        a,b,c,d = (b,c,d,l.decode('UTF-8'))\n",
    "        if \"Stolica\" in a:\n",
    "            f.close()\n",
    "            return d.split('\">',1)[1].split('<')[0]\n",
    "        \n",
    "print(\"Stolica v2:\",stolica2(\"Polska\"))"
   ]
  },
  {
   "cell_type": "code",
   "execution_count": 56,
   "id": "6b4617d1-76a8-474e-b5e8-906b648d82a8",
   "metadata": {
    "tags": []
   },
   "outputs": [
    {
     "name": "stdout",
     "output_type": "stream",
     "text": [
      "['Warszawa', 'Berlin', 'Sztokholm', 'Nowe Delhi', 'Tokio', 'Dodoma', 'Canberra', 'Bogota']\n",
      "3.6858420372009277\n",
      "['Warszawa', 'Berlin', 'Sztokholm', 'Nowe Delhi', 'Tokio', 'Dodoma', 'Canberra', 'Bogota']\n",
      "2.783376932144165\n"
     ]
    }
   ],
   "source": [
    "from time import time\n",
    "\n",
    "panstwa = [\"Polska\",\"Niemcy\",\"Szwecja\",\"Indie\",\"Japonia\",\"Tanzania\",\"Australia\",\"Kolumbia\"]\n",
    "\n",
    "t = time()\n",
    "print(list(map(stolica1,panstwa)))\n",
    "print(time() - t)\n",
    "\n",
    "t = time()\n",
    "print(list(map(stolica2,panstwa)))\n",
    "print(time() - t)"
   ]
  },
  {
   "attachments": {},
   "cell_type": "markdown",
   "id": "ad46ce2a-7dd6-4cf5-b005-d36ea132ec27",
   "metadata": {},
   "source": [
    "# Wielowątkowość"
   ]
  },
  {
   "attachments": {},
   "cell_type": "markdown",
   "id": "153aa77d-0a95-4078-ac2a-a0750d4d3672",
   "metadata": {},
   "source": [
    "### Wyświetlanie"
   ]
  },
  {
   "cell_type": "code",
   "execution_count": 57,
   "id": "90165d31-d199-4a3f-b5ea-6c0be3ee1c14",
   "metadata": {
    "tags": []
   },
   "outputs": [],
   "source": [
    "from time import sleep\n",
    "\n",
    "def old_print(*x):\n",
    "    for i in x:\n",
    "        print(i,end=\"\")\n",
    "        sleep(1e-5)\n",
    "    print()\n",
    "    sleep(1e-5)"
   ]
  },
  {
   "cell_type": "code",
   "execution_count": 61,
   "id": "ed25447c-4eca-47c2-a13d-4a5ba5ced51e",
   "metadata": {
    "tags": []
   },
   "outputs": [],
   "source": [
    "def f(n):\n",
    "    for i in range(n):\n",
    "        old_print(i)"
   ]
  },
  {
   "cell_type": "code",
   "execution_count": 65,
   "id": "cdfb372f-21df-49d1-93a7-41d8220f4b05",
   "metadata": {
    "tags": []
   },
   "outputs": [
    {
     "name": "stdout",
     "output_type": "stream",
     "text": [
      "0\n",
      "01\n",
      "The end\n",
      "1\n",
      "2\n",
      "\n",
      "23\n",
      "\n",
      "34\n",
      "\n",
      "4\n",
      "55\n",
      "\n",
      "66\n",
      "\n",
      "77\n",
      "\n",
      "88\n",
      "\n",
      "99\n",
      "\n"
     ]
    }
   ],
   "source": [
    "from threading import Thread\n",
    "\n",
    "thread_1 = Thread(target=f, args=(10,))\n",
    "thread_2 = Thread(target=f, args=(10,))\n",
    "\n",
    "thread_1.start()\n",
    "thread_2.start()\n",
    "\n",
    "old_print(\"The end\")"
   ]
  },
  {
   "cell_type": "code",
   "execution_count": 66,
   "id": "9a4b2a90-208d-4997-a92f-dc5fc76a421d",
   "metadata": {
    "tags": []
   },
   "outputs": [
    {
     "name": "stdout",
     "output_type": "stream",
     "text": [
      "00\n",
      "\n",
      "11\n",
      "\n",
      "2\n",
      "2\n",
      "33\n",
      "\n",
      "44\n",
      "\n",
      "55\n",
      "\n",
      "66\n",
      "\n",
      "77\n",
      "\n",
      "88\n",
      "\n",
      "99\n",
      "\n",
      "The end\n"
     ]
    }
   ],
   "source": [
    "from threading import Thread\n",
    "\n",
    "thread_1 = Thread(target=f, args=(10,))\n",
    "thread_2 = Thread(target=f, args=(10,))\n",
    "\n",
    "thread_1.start()\n",
    "thread_2.start()\n",
    "\n",
    "thread_1.join()\n",
    "thread_2.join()\n",
    "\n",
    "old_print(\"The end\")"
   ]
  },
  {
   "cell_type": "code",
   "execution_count": 76,
   "id": "64c36d50-3550-4722-b779-2375d33128b5",
   "metadata": {
    "tags": []
   },
   "outputs": [
    {
     "name": "stdout",
     "output_type": "stream",
     "text": [
      "0\n",
      "1\n",
      "2\n",
      "3\n",
      "4\n",
      "5\n",
      "6\n",
      "7\n",
      "8\n",
      "9\n",
      "0\n",
      "1\n",
      "2\n",
      "3\n",
      "4\n",
      "5\n",
      "6\n",
      "7\n",
      "8\n",
      "9\n",
      "The end\n"
     ]
    }
   ],
   "source": [
    "from threading import Thread, Lock\n",
    "\n",
    "def f(n):\n",
    "    for i in range(n):\n",
    "        with lock:\n",
    "            old_print(i)\n",
    "\n",
    "\n",
    "lock = Lock()\n",
    "thread_1 = Thread(target=f, args=(10,))\n",
    "thread_2 = Thread(target=f, args=(10,))\n",
    "\n",
    "thread_1.start()\n",
    "thread_2.start()\n",
    "\n",
    "thread_1.join()\n",
    "thread_2.join()\n",
    "\n",
    "old_print(\"The end\")"
   ]
  },
  {
   "cell_type": "code",
   "execution_count": 79,
   "id": "189e7772-b4a9-41b8-91b2-5c8f146b5852",
   "metadata": {
    "tags": []
   },
   "outputs": [
    {
     "name": "stdout",
     "output_type": "stream",
     "text": [
      "0\n",
      "1\n",
      "2\n",
      "3\n",
      "4\n",
      "5\n",
      "6\n",
      "7\n",
      "8\n",
      "9\n",
      "0\n",
      "1\n",
      "2\n",
      "3\n",
      "4\n",
      "5\n",
      "6\n",
      "7\n",
      "8\n",
      "9\n",
      "The end\n"
     ]
    }
   ],
   "source": [
    "from threading import Thread, Lock\n",
    "\n",
    "def f(n,lock):\n",
    "    for i in range(n):\n",
    "        with lock:\n",
    "            old_print(i)\n",
    "\n",
    "\n",
    "lock = Lock()\n",
    "thread_1 = Thread(target=f, args=(10,lock))\n",
    "thread_2 = Thread(target=f, args=(10,lock))\n",
    "\n",
    "thread_1.start()\n",
    "thread_2.start()\n",
    "\n",
    "thread_1.join()\n",
    "thread_2.join()\n",
    "\n",
    "old_print(\"The end\")"
   ]
  },
  {
   "attachments": {},
   "cell_type": "markdown",
   "id": "709e85c5-9969-426c-ae18-7b9fe0731793",
   "metadata": {},
   "source": [
    "### Lista"
   ]
  },
  {
   "cell_type": "code",
   "execution_count": 80,
   "id": "ad2585ea-9952-462c-acd0-ca3d80987ded",
   "metadata": {
    "tags": []
   },
   "outputs": [
    {
     "name": "stdout",
     "output_type": "stream",
     "text": [
      "[1, 2, 1, 2, 3, 3, 4, 4, 5, 5, 6, 6, 7, 7, 8, 8, 9, 9]\n",
      "The end\n"
     ]
    }
   ],
   "source": [
    "from threading import Thread\n",
    "\n",
    "x = []\n",
    "\n",
    "def f(*n):\n",
    "    global x\n",
    "    for i in range(n[0],n[1]):\n",
    "        x.append(i)\n",
    "        sleep(1e-5)\n",
    "\n",
    "thread_1 = Thread(target=f, args=(1,10))\n",
    "thread_2 = Thread(target=f, args=(1,10))\n",
    "\n",
    "thread_1.start()\n",
    "thread_2.start()\n",
    "\n",
    "thread_1.join()\n",
    "thread_2.join()\n",
    "\n",
    "print(x)\n",
    "old_print(\"The end\")"
   ]
  },
  {
   "attachments": {},
   "cell_type": "markdown",
   "id": "b79389b6-f362-411d-9086-10af8d7b812d",
   "metadata": {
    "tags": []
   },
   "source": [
    "### ZADANIE: Program który będzie uruchamiał n wątków"
   ]
  },
  {
   "cell_type": "code",
   "execution_count": 93,
   "id": "6bec8699-86c1-4c18-8707-dc50e522b2d7",
   "metadata": {
    "tags": []
   },
   "outputs": [
    {
     "name": "stdout",
     "output_type": "stream",
     "text": [
      "0\n",
      "1\n",
      "2\n",
      "3\n",
      "4\n",
      "5\n",
      "6\n",
      "7\n",
      "8\n",
      "9\n",
      "0\n",
      "1\n",
      "2\n",
      "3\n",
      "4\n",
      "5\n",
      "6\n",
      "7\n",
      "8\n",
      "9\n",
      "0\n",
      "1\n",
      "2\n",
      "3\n",
      "4\n",
      "5\n",
      "6\n",
      "7\n",
      "8\n",
      "9\n",
      "0\n",
      "1\n",
      "2\n",
      "3\n",
      "4\n",
      "5\n",
      "6\n",
      "7\n",
      "8\n",
      "9\n",
      "0\n",
      "1\n",
      "2\n",
      "3\n",
      "4\n",
      "5\n",
      "6\n",
      "7\n",
      "8\n",
      "9\n",
      "The end\n"
     ]
    }
   ],
   "source": [
    "from threading import Thread, Lock\n",
    "\n",
    "def f(n,lock):\n",
    "    for i in range(n):\n",
    "        with lock:\n",
    "            old_print(i)\n",
    "\n",
    "n = 5\n",
    "# threads = []\n",
    "lock = Lock()\n",
    "# for i in range(n):\n",
    "#     threads.append(Thread(target=f, args=(10,lock)))\n",
    "#     threads[i].start()\n",
    "\n",
    "# for i in range(n):\n",
    "#     threads[i].join()\n",
    "\n",
    "threads = [Thread(target=f, args=(10,lock)) for  _ in range(n)]\n",
    "for w in threads:\n",
    "    w.start()\n",
    "    \n",
    "for w in threads:\n",
    "    w.join()\n",
    "\n",
    "old_print(\"The end\")"
   ]
  },
  {
   "cell_type": "code",
   "execution_count": 104,
   "id": "c9d1db26-3ce3-4f53-9640-ad7ca3c46e89",
   "metadata": {
    "tags": []
   },
   "outputs": [
    {
     "name": "stdout",
     "output_type": "stream",
     "text": [
      "Polska: Warszawa\n",
      "Niemcy: Berlin\n",
      "Szwecja: Sztokholm\n",
      "Indie: Nowe Delhi\n",
      "Japonia: Tokio\n",
      "Tanzania: Dodoma\n",
      "Australia: Canberra\n",
      "Kolumbia: Bogota\n",
      "Czas wykonania:  2.649096965789795\n"
     ]
    }
   ],
   "source": [
    "t = time()\n",
    "for p in panstwa:\n",
    "    print(f'{p}: {stolica2(p)}')\n",
    "print(\"Czas wykonania: \",time() - t)"
   ]
  },
  {
   "cell_type": "code",
   "execution_count": 105,
   "id": "c7ecfed2-1b26-4661-8545-376178b446a2",
   "metadata": {
    "tags": []
   },
   "outputs": [
    {
     "name": "stdout",
     "output_type": "stream",
     "text": [
      "Warszawa\n",
      "Canberra\n",
      "Tokio\n",
      "Dodoma\n",
      "Berlin\n",
      "Nowe Delhi\n",
      "Bogota\n",
      "Sztokholm\n",
      "Czas wykonania:  0.7024741172790527\n"
     ]
    }
   ],
   "source": [
    "def w_stolica(i):\n",
    "    print(stolica2(i))\n",
    "\n",
    "threads = [Thread(target=w_stolica,args=(p,)) for p in panstwa]\n",
    "t = time()\n",
    "for w in threads:\n",
    "    w.start()\n",
    "for w in threads:\n",
    "    w.join()\n",
    "print(\"Czas wykonania: \",time() - t)"
   ]
  },
  {
   "cell_type": "code",
   "execution_count": 108,
   "id": "059fa89e-402d-4680-91f7-691afa42fef0",
   "metadata": {
    "tags": []
   },
   "outputs": [
    {
     "name": "stdout",
     "output_type": "stream",
     "text": [
      "Warszawa\n",
      "Berlin\n",
      "Sztokholm\n",
      "Nowe Delhi\n",
      "Tokio\n",
      "Dodoma\n",
      "Canberra\n",
      "Bogota\n",
      "Czas wykonania:  2.47900390625\n"
     ]
    }
   ],
   "source": [
    "def w_stolica(i):\n",
    "    with lock:\n",
    "        print(stolica2(i))\n",
    "lock = Lock()\n",
    "threads = [Thread(target=w_stolica,args=(p,)) for p in panstwa]\n",
    "t = time()\n",
    "for w in threads:\n",
    "    w.start()\n",
    "for w in threads:\n",
    "    w.join()\n",
    "print(\"Czas wykonania: \",time() - t)"
   ]
  },
  {
   "cell_type": "code",
   "execution_count": 109,
   "id": "53c4df16-05d8-4d59-8a28-a625061b895f",
   "metadata": {
    "tags": []
   },
   "outputs": [
    {
     "name": "stdout",
     "output_type": "stream",
     "text": [
      "Warszawa\n",
      "Berlin\n",
      "Nowe Delhi\n",
      "Tokio\n",
      "Dodoma\n",
      "Sztokholm\n",
      "Canberra\n",
      "Bogota\n",
      "Czas wykonania:  0.45966196060180664\n"
     ]
    }
   ],
   "source": [
    "def w_stolica(i):\n",
    "    st = stolica2(i)\n",
    "    with lock:\n",
    "        print(st)\n",
    "lock = Lock()\n",
    "threads = [Thread(target=w_stolica,args=(p,)) for p in panstwa]\n",
    "t = time()\n",
    "for w in threads:\n",
    "    w.start()\n",
    "for w in threads:\n",
    "    w.join()\n",
    "print(\"Czas wykonania: \",time() - t)"
   ]
  },
  {
   "attachments": {},
   "cell_type": "markdown",
   "id": "83394813-faf0-42d9-aa43-be6d478e41da",
   "metadata": {},
   "source": [
    "### Mandelbrot"
   ]
  },
  {
   "cell_type": "code",
   "execution_count": 110,
   "id": "554aac86-0938-475c-a89e-1dd32d4bd212",
   "metadata": {
    "tags": []
   },
   "outputs": [],
   "source": [
    "def m(z):\n",
    "    z0 = z\n",
    "    for i in range(255):\n",
    "        if abs(z) > 2:\n",
    "            return i\n",
    "        z = z**2 + z0\n",
    "    return 255"
   ]
  },
  {
   "cell_type": "code",
   "execution_count": 136,
   "id": "9f847ea1-d722-4258-b535-480957a70cae",
   "metadata": {
    "tags": []
   },
   "outputs": [
    {
     "name": "stdout",
     "output_type": "stream",
     "text": [
      "0.8905768394470215\n"
     ]
    },
    {
     "data": {
      "image/png": "[encoded data removed]",
      "text/plain": [
       "<Figure size 480x480 with 1 Axes>"
      ]
     },
     "metadata": {},
     "output_type": "display_data"
    }
   ],
   "source": [
    "import numpy as np\n",
    "\n",
    "x = np.arange(-2,1.01,0.01)\n",
    "y = np.arange(-1.5,1.51,0.01)\n",
    "x,y = np.meshgrid(x,y)\n",
    "z = x + 1j * y\n",
    "s = z.shape\n",
    "\n",
    "t = time()\n",
    "res = np.array([[m(z[i,j]) for j in range(s[1])] for i in range(s[0])])\n",
    "print(time()-t)\n",
    "\n",
    "import matplotlib.pyplot as plt\n",
    "\n",
    "plt.matshow(res, cmap='binary')\n",
    "plt.show()"
   ]
  },
  {
   "cell_type": "code",
   "execution_count": 2,
   "id": "f258d592-db0a-4df5-ace1-1c91d1e7dd7f",
   "metadata": {
    "tags": []
   },
   "outputs": [
    {
     "name": "stderr",
     "output_type": "stream",
     "text": [
      "/var/folders/6b/q78y4w3s385_m145jxn1ysyr0000gn/T/ipykernel_72522/319751007.py:16: RuntimeWarning: overflow encountered in square\n",
      "  z = z**2 + z0\n",
      "/var/folders/6b/q78y4w3s385_m145jxn1ysyr0000gn/T/ipykernel_72522/319751007.py:16: RuntimeWarning: invalid value encountered in square\n",
      "  z = z**2 + z0\n",
      "/var/folders/6b/q78y4w3s385_m145jxn1ysyr0000gn/T/ipykernel_72522/319751007.py:15: RuntimeWarning: overflow encountered in absolute\n",
      "  res[np.abs(z)>2] = i\n"
     ]
    },
    {
     "name": "stdout",
     "output_type": "stream",
     "text": [
      "0.177994966506958\n"
     ]
    },
    {
     "data": {
      "image/png": "[encoded data removed]",
      "text/plain": [
       "<Figure size 480x480 with 1 Axes>"
      ]
     },
     "metadata": {},
     "output_type": "display_data"
    }
   ],
   "source": [
    "import numpy as np\n",
    "from time import time\n",
    "\n",
    "x = np.arange(-2,1.01,0.01)\n",
    "y = np.arange(-1.5,1.51,0.01)\n",
    "x,y = np.meshgrid(x,y)\n",
    "z = x + 1j * y\n",
    "s = z.shape\n",
    "\n",
    "t = time()\n",
    "\n",
    "z0 = np.copy(z)\n",
    "res = 255 * np.ones(s)\n",
    "for i in range(255):\n",
    "    res[np.abs(z)>2] = i\n",
    "    z = z**2 + z0\n",
    "\n",
    "print(time()-t)\n",
    "\n",
    "import matplotlib.pyplot as plt\n",
    "\n",
    "plt.matshow(res, cmap='binary')\n",
    "plt.show()"
   ]
  },
  {
   "cell_type": "code",
   "execution_count": 4,
   "id": "029fdf79-de46-44c4-b720-21caa9a98cbe",
   "metadata": {
    "tags": []
   },
   "outputs": [
    {
     "name": "stdout",
     "output_type": "stream",
     "text": [
      "0.4828672409057617\n"
     ]
    },
    {
     "data": {
      "image/png": "[encoded data removed]",
      "text/plain": [
       "<Figure size 480x480 with 1 Axes>"
      ]
     },
     "metadata": {},
     "output_type": "display_data"
    }
   ],
   "source": [
    "import numpy as np\n",
    "from time import time\n",
    "\n",
    "x = np.arange(-2,1.01,0.01)\n",
    "y = np.arange(-1.5,1.51,0.01)\n",
    "x,y = np.meshgrid(x,y)\n",
    "z = x + 1j * y\n",
    "s = z.shape\n",
    "\n",
    "@np.vectorize\n",
    "def m(z):\n",
    "    z0 = z\n",
    "    for i in range(255):\n",
    "        if abs(z) > 2:\n",
    "            return i\n",
    "        z = z**2 + z0\n",
    "    return 255\n",
    "\n",
    "t = time()\n",
    "res = m(z)\n",
    "\n",
    "print(time()-t)\n",
    "\n",
    "import matplotlib.pyplot as plt\n",
    "\n",
    "plt.matshow(res, cmap='binary')\n",
    "plt.show()"
   ]
  },
  {
   "attachments": {},
   "cell_type": "markdown",
   "id": "3b90c4bf-d83f-46c4-808d-e44e4d1ca3e8",
   "metadata": {},
   "source": [
    "### Animacja"
   ]
  },
  {
   "cell_type": "code",
   "execution_count": 12,
   "id": "ece97e00-c26a-4e24-b2be-fcedce889f99",
   "metadata": {
    "tags": []
   },
   "outputs": [
    {
     "data": {
      "image/png": "[encoded data removed]",
      "text/plain": [
       "<Figure size 640x480 with 1 Axes>"
      ]
     },
     "metadata": {},
     "output_type": "display_data"
    }
   ],
   "source": [
    "import numpy as np\n",
    "from time import time\n",
    "import matplotlib.pyplot as plt\n",
    "from matplotlib.animation import FuncAnimation\n",
    "\n",
    "x = np.arange(-2,1.01,0.01)\n",
    "y = np.arange(-1.5,1.51,0.01)\n",
    "x,y = np.meshgrid(x,y)\n",
    "z = x + 1j * y\n",
    "s = z.shape\n",
    "\n",
    "fig = plt.figure()\n",
    "\n",
    "z0 = np.copy(z)\n",
    "res = 255 * np.ones(s)\n",
    "w = plt.imshow(res,vmin = 0,vmax = 255,cmap = 'binary')\n",
    "\n",
    "def anim(i):\n",
    "    global z\n",
    "    res[np.abs(z)>2] = i\n",
    "    z = (res == 255) * (z**2+z0)\n",
    "    w.set_array(res)\n",
    "    \n",
    "a = FuncAnimation(fig,anim,frames = 256,interval = 40, repeat = False)\n",
    "\n",
    "plt.show()"
   ]
  },
  {
   "attachments": {},
   "cell_type": "markdown",
   "id": "67431610-6275-46b1-9850-a2540cc0b335",
   "metadata": {},
   "source": [
    "# Sklejanie i rozcinanie macierzy"
   ]
  },
  {
   "cell_type": "code",
   "execution_count": 13,
   "id": "7dc8cf59-49e8-4750-96e4-0f8a04c7916d",
   "metadata": {
    "tags": []
   },
   "outputs": [],
   "source": [
    "a = np.ones((3,3))\n",
    "b = 2 * np.ones((2,3))\n",
    "c = 5 * np.ones((3,2))"
   ]
  },
  {
   "cell_type": "code",
   "execution_count": 14,
   "id": "f6a60aa8-c645-4eac-8074-009767a1f5cc",
   "metadata": {
    "tags": []
   },
   "outputs": [
    {
     "data": {
      "text/plain": [
       "array([[1., 1., 1.],\n",
       "       [1., 1., 1.],\n",
       "       [1., 1., 1.],\n",
       "       [2., 2., 2.],\n",
       "       [2., 2., 2.]])"
      ]
     },
     "execution_count": 14,
     "metadata": {},
     "output_type": "execute_result"
    }
   ],
   "source": [
    "np.vstack((a,b))"
   ]
  },
  {
   "cell_type": "code",
   "execution_count": 17,
   "id": "f6761ad4-7ae4-4acc-b67b-5642478a9e80",
   "metadata": {
    "tags": []
   },
   "outputs": [
    {
     "data": {
      "text/plain": [
       "array([[1., 1., 1., 5., 5.],\n",
       "       [1., 1., 1., 5., 5.],\n",
       "       [1., 1., 1., 5., 5.]])"
      ]
     },
     "execution_count": 17,
     "metadata": {},
     "output_type": "execute_result"
    }
   ],
   "source": [
    "np.hstack((a,c))"
   ]
  },
  {
   "cell_type": "code",
   "execution_count": 18,
   "id": "cb08bf18-4b3e-43ca-b8ab-38b86fdf086a",
   "metadata": {
    "tags": []
   },
   "outputs": [
    {
     "data": {
      "text/plain": [
       "array([[1., 1., 1.],\n",
       "       [1., 1., 1.],\n",
       "       [1., 1., 1.],\n",
       "       [2., 2., 2.],\n",
       "       [2., 2., 2.]])"
      ]
     },
     "execution_count": 18,
     "metadata": {},
     "output_type": "execute_result"
    }
   ],
   "source": [
    "np.concatenate((a,b),0)"
   ]
  },
  {
   "cell_type": "code",
   "execution_count": 19,
   "id": "07fe78a0-dd07-48c6-84eb-fd71b52fc30b",
   "metadata": {
    "tags": []
   },
   "outputs": [
    {
     "data": {
      "text/plain": [
       "array([[1., 1., 1., 5., 5.],\n",
       "       [1., 1., 1., 5., 5.],\n",
       "       [1., 1., 1., 5., 5.]])"
      ]
     },
     "execution_count": 19,
     "metadata": {},
     "output_type": "execute_result"
    }
   ],
   "source": [
    "np.concatenate((a,c),1)"
   ]
  },
  {
   "cell_type": "code",
   "execution_count": 20,
   "id": "81c6af3d-affe-48c1-9c32-1cc02b536428",
   "metadata": {
    "tags": []
   },
   "outputs": [],
   "source": [
    "matrix = np.array([[1,2,3,4],[5,6,7,8],[9,10,11,12]])"
   ]
  },
  {
   "cell_type": "code",
   "execution_count": 35,
   "id": "a7e6cf0c-645a-4052-863e-371298404780",
   "metadata": {
    "tags": []
   },
   "outputs": [
    {
     "name": "stdout",
     "output_type": "stream",
     "text": [
      "[[ 1  2  3  4]\n",
      " [ 5  6  7  8]\n",
      " [ 9 10 11 12]]\n"
     ]
    }
   ],
   "source": [
    "print(matrix)"
   ]
  },
  {
   "cell_type": "code",
   "execution_count": 37,
   "id": "751833ff-8578-42af-a539-38413e43e384",
   "metadata": {
    "tags": []
   },
   "outputs": [
    {
     "name": "stdout",
     "output_type": "stream",
     "text": [
      "[[ 6  7]\n",
      " [10 11]]\n"
     ]
    }
   ],
   "source": [
    "print(matrix[1:,1:3])"
   ]
  },
  {
   "cell_type": "code",
   "execution_count": 38,
   "id": "b4c678e8-c2bc-4c22-8c97-7a03124b3276",
   "metadata": {
    "tags": []
   },
   "outputs": [],
   "source": [
    "matrix = np.array([[i*j for i in range(20)] for j in range(10)])"
   ]
  },
  {
   "cell_type": "code",
   "execution_count": 40,
   "id": "6811c622-a1c7-4ee0-9951-5b1827d37ee9",
   "metadata": {
    "tags": []
   },
   "outputs": [
    {
     "name": "stdout",
     "output_type": "stream",
     "text": [
      "[[  0   0   0   0   0   0   0   0   0   0   0   0   0   0   0   0   0   0\n",
      "    0   0]\n",
      " [  0   1   2   3   4   5   6   7   8   9  10  11  12  13  14  15  16  17\n",
      "   18  19]\n",
      " [  0   2   4   6   8  10  12  14  16  18  20  22  24  26  28  30  32  34\n",
      "   36  38]\n",
      " [  0   3   6   9  12  15  18  21  24  27  30  33  36  39  42  45  48  51\n",
      "   54  57]\n",
      " [  0   4   8  12  16  20  24  28  32  36  40  44  48  52  56  60  64  68\n",
      "   72  76]\n",
      " [  0   5  10  15  20  25  30  35  40  45  50  55  60  65  70  75  80  85\n",
      "   90  95]\n",
      " [  0   6  12  18  24  30  36  42  48  54  60  66  72  78  84  90  96 102\n",
      "  108 114]\n",
      " [  0   7  14  21  28  35  42  49  56  63  70  77  84  91  98 105 112 119\n",
      "  126 133]\n",
      " [  0   8  16  24  32  40  48  56  64  72  80  88  96 104 112 120 128 136\n",
      "  144 152]\n",
      " [  0   9  18  27  36  45  54  63  72  81  90  99 108 117 126 135 144 153\n",
      "  162 171]]\n"
     ]
    }
   ],
   "source": [
    "print(matrix)"
   ]
  },
  {
   "cell_type": "code",
   "execution_count": 48,
   "id": "bcbc1723-a4c0-4f99-a5ae-89683b114028",
   "metadata": {
    "tags": []
   },
   "outputs": [
    {
     "name": "stdout",
     "output_type": "stream",
     "text": [
      "[[  0   0   0   0   0]\n",
      " [ 15  16  17  18  19]\n",
      " [ 30  32  34  36  38]\n",
      " [ 45  48  51  54  57]\n",
      " [ 60  64  68  72  76]\n",
      " [ 75  80  85  90  95]\n",
      " [ 90  96 102 108 114]\n",
      " [105 112 119 126 133]\n",
      " [120 128 136 144 152]\n",
      " [135 144 153 162 171]]\n"
     ]
    }
   ],
   "source": [
    "s = matrix.shape\n",
    "n = 4\n",
    "scat = [matrix[:,i*s[1]//n:(i+1)*s[1]//n] for i in range(n)]\n",
    "print(scat[3])"
   ]
  },
  {
   "attachments": {},
   "cell_type": "markdown",
   "id": "57eb8e1b-ca72-431f-9953-e366e87ee417",
   "metadata": {},
   "source": [
    "# Wielowątkowe rysowanie Mandelbrota"
   ]
  },
  {
   "cell_type": "code",
   "execution_count": 66,
   "id": "d25cf5e9-a1e2-469d-822a-6eeaaa623a6b",
   "metadata": {
    "tags": []
   },
   "outputs": [],
   "source": [
    "def mand(z):\n",
    "    z0 = np.copy(z)\n",
    "    s = z.shape\n",
    "    res = 255 * np.ones(s)\n",
    "    for i in range(255):\n",
    "        res[np.abs(z)>2] = i\n",
    "        z = z**2 + z0\n",
    "    return res"
   ]
  },
  {
   "cell_type": "code",
   "execution_count": 67,
   "id": "b6b8fb9d-da6f-441b-9865-3523a2343171",
   "metadata": {
    "tags": []
   },
   "outputs": [
    {
     "name": "stderr",
     "output_type": "stream",
     "text": [
      "/var/folders/6b/q78y4w3s385_m145jxn1ysyr0000gn/T/ipykernel_72522/150354939.py:16: FutureWarning: arrays to stack must be passed as a \"sequence\" type such as list or tuple. Support for non-sequence iterables such as generators is deprecated as of NumPy 1.16 and will raise an error in the future.\n",
      "  res = np.hstack(l)\n",
      "/var/folders/6b/q78y4w3s385_m145jxn1ysyr0000gn/T/ipykernel_72522/1761742527.py:7: RuntimeWarning: overflow encountered in square\n",
      "  z = z**2 + z0\n",
      "/var/folders/6b/q78y4w3s385_m145jxn1ysyr0000gn/T/ipykernel_72522/1761742527.py:7: RuntimeWarning: invalid value encountered in square\n",
      "  z = z**2 + z0\n",
      "/var/folders/6b/q78y4w3s385_m145jxn1ysyr0000gn/T/ipykernel_72522/1761742527.py:6: RuntimeWarning: overflow encountered in absolute\n",
      "  res[np.abs(z)>2] = i\n"
     ]
    },
    {
     "name": "stdout",
     "output_type": "stream",
     "text": [
      "0.14011001586914062\n"
     ]
    },
    {
     "data": {
      "image/png": "[encoded data removed]",
      "text/plain": [
       "<Figure size 480x480 with 1 Axes>"
      ]
     },
     "metadata": {},
     "output_type": "display_data"
    }
   ],
   "source": [
    "import numpy as np\n",
    "from time import time\n",
    "import matplotlib.pyplot as plt\n",
    "from matplotlib.animation import FuncAnimation\n",
    "\n",
    "x = np.arange(-2,1.01,0.01)\n",
    "y = np.arange(-1.5,1.51,0.01)\n",
    "x,y = np.meshgrid(x,y)\n",
    "z = x + 1j * y\n",
    "s = z.shape\n",
    "\n",
    "t = time()\n",
    "n = 4\n",
    "l = [z[:,i*s[1]//n : (i+1)*s[1]//n] for i in range(n)]\n",
    "l = map(mand,l)\n",
    "res = np.hstack(l)\n",
    "print(time()-t)\n",
    "\n",
    "plt.matshow(res)\n",
    "plt.show()"
   ]
  },
  {
   "cell_type": "code",
   "execution_count": 72,
   "id": "013e0e03-40a3-4397-a49b-9f7fb9245b35",
   "metadata": {
    "tags": []
   },
   "outputs": [
    {
     "name": "stderr",
     "output_type": "stream",
     "text": [
      "/var/folders/6b/q78y4w3s385_m145jxn1ysyr0000gn/T/ipykernel_72522/1811544247.py:24: FutureWarning: arrays to stack must be passed as a \"sequence\" type such as list or tuple. Support for non-sequence iterables such as generators is deprecated as of NumPy 1.16 and will raise an error in the future.\n",
      "  res = np.hstack(l)\n",
      "/var/folders/6b/q78y4w3s385_m145jxn1ysyr0000gn/T/ipykernel_72522/1811544247.py:17: RuntimeWarning: overflow encountered in square\n",
      "  z = z**2 + z0\n",
      "/var/folders/6b/q78y4w3s385_m145jxn1ysyr0000gn/T/ipykernel_72522/1811544247.py:17: RuntimeWarning: invalid value encountered in square\n",
      "  z = z**2 + z0\n",
      "/var/folders/6b/q78y4w3s385_m145jxn1ysyr0000gn/T/ipykernel_72522/1811544247.py:16: RuntimeWarning: overflow encountered in absolute\n",
      "  res[np.abs(z)>2] = i\n"
     ]
    },
    {
     "name": "stdout",
     "output_type": "stream",
     "text": [
      "0.14361214637756348\n"
     ]
    },
    {
     "data": {
      "image/png": "[encoded data removed]",
      "text/plain": [
       "<Figure size 480x480 with 1 Axes>"
      ]
     },
     "metadata": {},
     "output_type": "display_data"
    }
   ],
   "source": [
    "import numpy as np\n",
    "from time import time\n",
    "import matplotlib.pyplot as plt\n",
    "\n",
    "x = np.arange(-2,1.01,0.01)\n",
    "y = np.arange(-1.5,1.51,0.01)\n",
    "x,y = np.meshgrid(x,y)\n",
    "z = x + 1j * y\n",
    "s = z.shape\n",
    "\n",
    "def mand(z):\n",
    "    z0 = np.copy(z)\n",
    "    s = z.shape\n",
    "    res = 255 * np.ones(s)\n",
    "    for i in range(255):\n",
    "        res[np.abs(z)>2] = i\n",
    "        z = z**2 + z0\n",
    "    return res\n",
    "\n",
    "t = time()\n",
    "n = 4\n",
    "l = [z[:,i*s[1]//n : (i+1)*s[1]//n] for i in range(n)]\n",
    "l = map(mand,l)\n",
    "res = np.hstack(l)\n",
    "print(time()-t)\n",
    "\n",
    "plt.matshow(res, cmap=\"binary\")\n",
    "plt.show()"
   ]
  },
  {
   "cell_type": "code",
   "execution_count": 1,
   "id": "78821ef3-bb4f-4a66-b043-12377938c81f",
   "metadata": {
    "tags": []
   },
   "outputs": [
    {
     "name": "stderr",
     "output_type": "stream",
     "text": [
      "/var/folders/6b/q78y4w3s385_m145jxn1ysyr0000gn/T/ipykernel_81424/1029851954.py:18: RuntimeWarning: overflow encountered in square\n",
      "  z = z**2 + z0\n",
      "/var/folders/6b/q78y4w3s385_m145jxn1ysyr0000gn/T/ipykernel_81424/1029851954.py:18: RuntimeWarning: overflow encountered in square\n",
      "  z = z**2 + z0\n",
      "/var/folders/6b/q78y4w3s385_m145jxn1ysyr0000gn/T/ipykernel_81424/1029851954.py:18: RuntimeWarning: overflow encountered in square\n",
      "  z = z**2 + z0\n",
      "/var/folders/6b/q78y4w3s385_m145jxn1ysyr0000gn/T/ipykernel_81424/1029851954.py:18: RuntimeWarning: overflow encountered in square\n",
      "  z = z**2 + z0\n",
      "/var/folders/6b/q78y4w3s385_m145jxn1ysyr0000gn/T/ipykernel_81424/1029851954.py:18: RuntimeWarning: invalid value encountered in square\n",
      "  z = z**2 + z0\n",
      "/var/folders/6b/q78y4w3s385_m145jxn1ysyr0000gn/T/ipykernel_81424/1029851954.py:18: RuntimeWarning: invalid value encountered in square\n",
      "  z = z**2 + z0\n",
      "/var/folders/6b/q78y4w3s385_m145jxn1ysyr0000gn/T/ipykernel_81424/1029851954.py:18: RuntimeWarning: overflow encountered in square\n",
      "  z = z**2 + z0\n",
      "/var/folders/6b/q78y4w3s385_m145jxn1ysyr0000gn/T/ipykernel_81424/1029851954.py:18: RuntimeWarning: invalid value encountered in square\n",
      "  z = z**2 + z0\n",
      "/var/folders/6b/q78y4w3s385_m145jxn1ysyr0000gn/T/ipykernel_81424/1029851954.py:18: RuntimeWarning: overflow encountered in square\n",
      "  z = z**2 + z0\n",
      "/var/folders/6b/q78y4w3s385_m145jxn1ysyr0000gn/T/ipykernel_81424/1029851954.py:18: RuntimeWarning: invalid value encountered in square\n",
      "  z = z**2 + z0\n",
      "/var/folders/6b/q78y4w3s385_m145jxn1ysyr0000gn/T/ipykernel_81424/1029851954.py:17: RuntimeWarning: overflow encountered in absolute\n",
      "  res[np.abs(z)>2] = i\n",
      "/var/folders/6b/q78y4w3s385_m145jxn1ysyr0000gn/T/ipykernel_81424/1029851954.py:18: RuntimeWarning: overflow encountered in square\n",
      "  z = z**2 + z0\n",
      "/var/folders/6b/q78y4w3s385_m145jxn1ysyr0000gn/T/ipykernel_81424/1029851954.py:18: RuntimeWarning: invalid value encountered in square\n",
      "  z = z**2 + z0\n",
      "/var/folders/6b/q78y4w3s385_m145jxn1ysyr0000gn/T/ipykernel_81424/1029851954.py:18: RuntimeWarning: overflow encountered in square\n",
      "  z = z**2 + z0\n",
      "/var/folders/6b/q78y4w3s385_m145jxn1ysyr0000gn/T/ipykernel_81424/1029851954.py:18: RuntimeWarning: invalid value encountered in square\n",
      "  z = z**2 + z0\n",
      "/var/folders/6b/q78y4w3s385_m145jxn1ysyr0000gn/T/ipykernel_81424/1029851954.py:17: RuntimeWarning: overflow encountered in absolute\n",
      "  res[np.abs(z)>2] = i\n",
      "/var/folders/6b/q78y4w3s385_m145jxn1ysyr0000gn/T/ipykernel_81424/1029851954.py:18: RuntimeWarning: invalid value encountered in square\n",
      "  z = z**2 + z0\n",
      "/var/folders/6b/q78y4w3s385_m145jxn1ysyr0000gn/T/ipykernel_81424/1029851954.py:17: RuntimeWarning: overflow encountered in absolute\n",
      "  res[np.abs(z)>2] = i\n",
      "/var/folders/6b/q78y4w3s385_m145jxn1ysyr0000gn/T/ipykernel_81424/1029851954.py:18: RuntimeWarning: invalid value encountered in square\n",
      "  z = z**2 + z0\n",
      "/var/folders/6b/q78y4w3s385_m145jxn1ysyr0000gn/T/ipykernel_81424/1029851954.py:17: RuntimeWarning: overflow encountered in absolute\n",
      "  res[np.abs(z)>2] = i\n",
      "/var/folders/6b/q78y4w3s385_m145jxn1ysyr0000gn/T/ipykernel_81424/1029851954.py:17: RuntimeWarning: overflow encountered in absolute\n",
      "  res[np.abs(z)>2] = i\n",
      "/var/folders/6b/q78y4w3s385_m145jxn1ysyr0000gn/T/ipykernel_81424/1029851954.py:17: RuntimeWarning: overflow encountered in absolute\n",
      "  res[np.abs(z)>2] = i\n",
      "/var/folders/6b/q78y4w3s385_m145jxn1ysyr0000gn/T/ipykernel_81424/1029851954.py:17: RuntimeWarning: overflow encountered in absolute\n",
      "  res[np.abs(z)>2] = i\n"
     ]
    },
    {
     "name": "stdout",
     "output_type": "stream",
     "text": [
      "0.049916982650756836\n"
     ]
    },
    {
     "data": {
      "image/png": "[encoded data removed]",
      "text/plain": [
       "<Figure size 480x480 with 1 Axes>"
      ]
     },
     "metadata": {},
     "output_type": "display_data"
    }
   ],
   "source": [
    "import numpy as np\n",
    "from time import time\n",
    "import matplotlib.pyplot as plt\n",
    "from multiprocess import Pool\n",
    "\n",
    "x = np.arange(-2,1.01,0.01)\n",
    "y = np.arange(-1.5,1.51,0.01)\n",
    "x,y = np.meshgrid(x,y)\n",
    "z = x + 1j * y\n",
    "s = z.shape\n",
    "\n",
    "def mand(z):\n",
    "    z0 = np.copy(z)\n",
    "    s = z.shape\n",
    "    res = 255 * np.ones(s)\n",
    "    for i in range(255):\n",
    "        res[np.abs(z)>2] = i\n",
    "        z = z**2 + z0\n",
    "    return res\n",
    "\n",
    "p = Pool()\n",
    "\n",
    "t = time()\n",
    "n = 12\n",
    "l = [z[:,i*s[1]//n : (i+1)*s[1]//n] for i in range(n)]\n",
    "l = p.map(mand,l)\n",
    "res = np.hstack(l)\n",
    "print(time()-t)\n",
    "\n",
    "plt.matshow(res, cmap=\"binary\")\n",
    "plt.show()"
   ]
  },
  {
   "cell_type": "code",
   "execution_count": 93,
   "id": "07334916-a149-434d-8aa0-c5e8cf6dba18",
   "metadata": {
    "tags": []
   },
   "outputs": [
    {
     "name": "stderr",
     "output_type": "stream",
     "text": [
      "Traceback (most recent call last):\n",
      "  File \"<string>\", line 1, in <module>\n",
      "  File \"/opt/homebrew/Cellar/python@3.10/3.10.11/Frameworks/Python.framework/Versions/3.10/lib/python3.10/multiprocessing/spawn.py\", line 116, in spawn_main\n",
      "    exitcode = _main(fd, parent_sentinel)\n",
      "  File \"/opt/homebrew/Cellar/python@3.10/3.10.11/Frameworks/Python.framework/Versions/3.10/lib/python3.10/multiprocessing/spawn.py\", line 126, in _main\n",
      "    self = reduction.pickle.load(from_parent)\n",
      "AttributeError: Can't get attribute 'mand' on <module '__main__' (built-in)>\n",
      "Traceback (most recent call last):\n",
      "  File \"<string>\", line 1, in <module>\n",
      "  File \"/opt/homebrew/Cellar/python@3.10/3.10.11/Frameworks/Python.framework/Versions/3.10/lib/python3.10/multiprocessing/spawn.py\", line 116, in spawn_main\n",
      "    exitcode = _main(fd, parent_sentinel)\n",
      "  File \"/opt/homebrew/Cellar/python@3.10/3.10.11/Frameworks/Python.framework/Versions/3.10/lib/python3.10/multiprocessing/spawn.py\", line 126, in _main\n",
      "    self = reduction.pickle.load(from_parent)\n",
      "AttributeError: Can't get attribute 'mand' on <module '__main__' (built-in)>\n",
      "Traceback (most recent call last):\n",
      "  File \"<string>\", line 1, in <module>\n",
      "  File \"/opt/homebrew/Cellar/python@3.10/3.10.11/Frameworks/Python.framework/Versions/3.10/lib/python3.10/multiprocessing/spawn.py\", line 116, in spawn_main\n",
      "    exitcode = _main(fd, parent_sentinel)\n",
      "  File \"/opt/homebrew/Cellar/python@3.10/3.10.11/Frameworks/Python.framework/Versions/3.10/lib/python3.10/multiprocessing/spawn.py\", line 126, in _main\n",
      "    self = reduction.pickle.load(from_parent)\n",
      "AttributeError: Can't get attribute 'mand' on <module '__main__' (built-in)>\n",
      "Traceback (most recent call last):\n",
      "  File \"<string>\", line 1, in <module>\n",
      "  File \"/opt/homebrew/Cellar/python@3.10/3.10.11/Frameworks/Python.framework/Versions/3.10/lib/python3.10/multiprocessing/spawn.py\", line 116, in spawn_main\n",
      "    exitcode = _main(fd, parent_sentinel)\n",
      "  File \"/opt/homebrew/Cellar/python@3.10/3.10.11/Frameworks/Python.framework/Versions/3.10/lib/python3.10/multiprocessing/spawn.py\", line 126, in _main\n",
      "    self = reduction.pickle.load(from_parent)\n",
      "AttributeError: Can't get attribute 'mand' on <module '__main__' (built-in)>\n",
      "Traceback (most recent call last):\n",
      "  File \"<string>\", line 1, in <module>\n",
      "  File \"/opt/homebrew/Cellar/python@3.10/3.10.11/Frameworks/Python.framework/Versions/3.10/lib/python3.10/multiprocessing/spawn.py\", line 116, in spawn_main\n",
      "    exitcode = _main(fd, parent_sentinel)\n",
      "  File \"/opt/homebrew/Cellar/python@3.10/3.10.11/Frameworks/Python.framework/Versions/3.10/lib/python3.10/multiprocessing/spawn.py\", line 126, in _main\n",
      "    self = reduction.pickle.load(from_parent)\n",
      "AttributeError: Can't get attribute 'mand' on <module '__main__' (built-in)>\n",
      "Traceback (most recent call last):\n",
      "  File \"<string>\", line 1, in <module>\n",
      "  File \"/opt/homebrew/Cellar/python@3.10/3.10.11/Frameworks/Python.framework/Versions/3.10/lib/python3.10/multiprocessing/spawn.py\", line 116, in spawn_main\n",
      "    exitcode = _main(fd, parent_sentinel)\n",
      "  File \"/opt/homebrew/Cellar/python@3.10/3.10.11/Frameworks/Python.framework/Versions/3.10/lib/python3.10/multiprocessing/spawn.py\", line 126, in _main\n",
      "    self = reduction.pickle.load(from_parent)\n",
      "AttributeError: Can't get attribute 'mand' on <module '__main__' (built-in)>\n",
      "Traceback (most recent call last):\n",
      "  File \"<string>\", line 1, in <module>\n",
      "  File \"/opt/homebrew/Cellar/python@3.10/3.10.11/Frameworks/Python.framework/Versions/3.10/lib/python3.10/multiprocessing/spawn.py\", line 116, in spawn_main\n",
      "    exitcode = _main(fd, parent_sentinel)\n",
      "  File \"/opt/homebrew/Cellar/python@3.10/3.10.11/Frameworks/Python.framework/Versions/3.10/lib/python3.10/multiprocessing/spawn.py\", line 126, in _main\n",
      "    self = reduction.pickle.load(from_parent)\n",
      "AttributeError: Can't get attribute 'mand' on <module '__main__' (built-in)>\n",
      "Traceback (most recent call last):\n",
      "  File \"<string>\", line 1, in <module>\n",
      "  File \"/opt/homebrew/Cellar/python@3.10/3.10.11/Frameworks/Python.framework/Versions/3.10/lib/python3.10/multiprocessing/spawn.py\", line 116, in spawn_main\n",
      "    exitcode = _main(fd, parent_sentinel)\n",
      "  File \"/opt/homebrew/Cellar/python@3.10/3.10.11/Frameworks/Python.framework/Versions/3.10/lib/python3.10/multiprocessing/spawn.py\", line 126, in _main\n",
      "    self = reduction.pickle.load(from_parent)\n",
      "AttributeError: Can't get attribute 'mand' on <module '__main__' (built-in)>\n",
      "Traceback (most recent call last):\n",
      "  File \"<string>\", line 1, in <module>\n",
      "  File \"/opt/homebrew/Cellar/python@3.10/3.10.11/Frameworks/Python.framework/Versions/3.10/lib/python3.10/multiprocessing/spawn.py\", line 116, in spawn_main\n",
      "    exitcode = _main(fd, parent_sentinel)\n",
      "  File \"/opt/homebrew/Cellar/python@3.10/3.10.11/Frameworks/Python.framework/Versions/3.10/lib/python3.10/multiprocessing/spawn.py\", line 126, in _main\n",
      "    self = reduction.pickle.load(from_parent)\n",
      "AttributeError: Can't get attribute 'mand' on <module '__main__' (built-in)>\n",
      "Traceback (most recent call last):\n",
      "  File \"<string>\", line 1, in <module>\n",
      "  File \"/opt/homebrew/Cellar/python@3.10/3.10.11/Frameworks/Python.framework/Versions/3.10/lib/python3.10/multiprocessing/spawn.py\", line 116, in spawn_main\n",
      "    exitcode = _main(fd, parent_sentinel)\n",
      "  File \"/opt/homebrew/Cellar/python@3.10/3.10.11/Frameworks/Python.framework/Versions/3.10/lib/python3.10/multiprocessing/spawn.py\", line 126, in _main\n",
      "    self = reduction.pickle.load(from_parent)\n",
      "AttributeError: Can't get attribute 'mand' on <module '__main__' (built-in)>\n",
      "Traceback (most recent call last):\n",
      "  File \"<string>\", line 1, in <module>\n",
      "  File \"/opt/homebrew/Cellar/python@3.10/3.10.11/Frameworks/Python.framework/Versions/3.10/lib/python3.10/multiprocessing/spawn.py\", line 116, in spawn_main\n",
      "    exitcode = _main(fd, parent_sentinel)\n",
      "  File \"/opt/homebrew/Cellar/python@3.10/3.10.11/Frameworks/Python.framework/Versions/3.10/lib/python3.10/multiprocessing/spawn.py\", line 126, in _main\n",
      "    self = reduction.pickle.load(from_parent)\n",
      "AttributeError: Can't get attribute 'mand' on <module '__main__' (built-in)>\n",
      "Traceback (most recent call last):\n",
      "  File \"<string>\", line 1, in <module>\n",
      "  File \"/opt/homebrew/Cellar/python@3.10/3.10.11/Frameworks/Python.framework/Versions/3.10/lib/python3.10/multiprocessing/spawn.py\", line 116, in spawn_main\n",
      "    exitcode = _main(fd, parent_sentinel)\n",
      "  File \"/opt/homebrew/Cellar/python@3.10/3.10.11/Frameworks/Python.framework/Versions/3.10/lib/python3.10/multiprocessing/spawn.py\", line 126, in _main\n",
      "    self = reduction.pickle.load(from_parent)\n",
      "AttributeError: Can't get attribute 'mand' on <module '__main__' (built-in)>\n",
      "Process SpawnPoolWorker-316:\n",
      "Traceback (most recent call last):\n",
      "  File \"/opt/homebrew/Cellar/python@3.10/3.10.11/Frameworks/Python.framework/Versions/3.10/lib/python3.10/multiprocessing/process.py\", line 314, in _bootstrap\n",
      "    self.run()\n",
      "  File \"/opt/homebrew/Cellar/python@3.10/3.10.11/Frameworks/Python.framework/Versions/3.10/lib/python3.10/multiprocessing/process.py\", line 108, in run\n",
      "    self._target(*self._args, **self._kwargs)\n",
      "  File \"/opt/homebrew/Cellar/python@3.10/3.10.11/Frameworks/Python.framework/Versions/3.10/lib/python3.10/multiprocessing/pool.py\", line 114, in worker\n",
      "    task = get()\n",
      "  File \"/opt/homebrew/Cellar/python@3.10/3.10.11/Frameworks/Python.framework/Versions/3.10/lib/python3.10/multiprocessing/queues.py\", line 364, in get\n",
      "    with self._rlock:\n",
      "  File \"/opt/homebrew/Cellar/python@3.10/3.10.11/Frameworks/Python.framework/Versions/3.10/lib/python3.10/multiprocessing/synchronize.py\", line 95, in __enter__\n",
      "    return self._semlock.__enter__()\n",
      "KeyboardInterrupt\n"
     ]
    },
    {
     "ename": "KeyboardInterrupt",
     "evalue": "",
     "output_type": "error",
     "traceback": [
      "\u001b[0;31m---------------------------------------------------------------------------\u001b[0m",
      "\u001b[0;31mKeyboardInterrupt\u001b[0m                         Traceback (most recent call last)",
      "Cell \u001b[0;32mIn[93], line 32\u001b[0m\n\u001b[1;32m     30\u001b[0m \u001b[38;5;28;01mfor\u001b[39;00m i \u001b[38;5;129;01min\u001b[39;00m l:\n\u001b[1;32m     31\u001b[0m     i\u001b[38;5;241m.\u001b[39mstart()\n\u001b[0;32m---> 32\u001b[0m res \u001b[38;5;241m=\u001b[39m np\u001b[38;5;241m.\u001b[39mhstack([q\u001b[38;5;241m.\u001b[39mget() \u001b[38;5;28;01mfor\u001b[39;00m _ \u001b[38;5;129;01min\u001b[39;00m \u001b[38;5;28mrange\u001b[39m(n)])\n\u001b[1;32m     34\u001b[0m \u001b[38;5;28mprint\u001b[39m(\u001b[38;5;124m\"\u001b[39m\u001b[38;5;124mProgram: \u001b[39m\u001b[38;5;124m\"\u001b[39m,time()\u001b[38;5;241m-\u001b[39mt)\n\u001b[1;32m     36\u001b[0m plt\u001b[38;5;241m.\u001b[39mmatshow(res,cmap\u001b[38;5;241m=\u001b[39m\u001b[38;5;124m\"\u001b[39m\u001b[38;5;124mbinary\u001b[39m\u001b[38;5;124m\"\u001b[39m)\n",
      "Cell \u001b[0;32mIn[93], line 32\u001b[0m, in \u001b[0;36m<listcomp>\u001b[0;34m(.0)\u001b[0m\n\u001b[1;32m     30\u001b[0m \u001b[38;5;28;01mfor\u001b[39;00m i \u001b[38;5;129;01min\u001b[39;00m l:\n\u001b[1;32m     31\u001b[0m     i\u001b[38;5;241m.\u001b[39mstart()\n\u001b[0;32m---> 32\u001b[0m res \u001b[38;5;241m=\u001b[39m np\u001b[38;5;241m.\u001b[39mhstack([\u001b[43mq\u001b[49m\u001b[38;5;241;43m.\u001b[39;49m\u001b[43mget\u001b[49m\u001b[43m(\u001b[49m\u001b[43m)\u001b[49m \u001b[38;5;28;01mfor\u001b[39;00m _ \u001b[38;5;129;01min\u001b[39;00m \u001b[38;5;28mrange\u001b[39m(n)])\n\u001b[1;32m     34\u001b[0m \u001b[38;5;28mprint\u001b[39m(\u001b[38;5;124m\"\u001b[39m\u001b[38;5;124mProgram: \u001b[39m\u001b[38;5;124m\"\u001b[39m,time()\u001b[38;5;241m-\u001b[39mt)\n\u001b[1;32m     36\u001b[0m plt\u001b[38;5;241m.\u001b[39mmatshow(res,cmap\u001b[38;5;241m=\u001b[39m\u001b[38;5;124m\"\u001b[39m\u001b[38;5;124mbinary\u001b[39m\u001b[38;5;124m\"\u001b[39m)\n",
      "File \u001b[0;32m/opt/homebrew/Cellar/python@3.10/3.10.11/Frameworks/Python.framework/Versions/3.10/lib/python3.10/multiprocessing/queues.py:103\u001b[0m, in \u001b[0;36mQueue.get\u001b[0;34m(self, block, timeout)\u001b[0m\n\u001b[1;32m    101\u001b[0m \u001b[38;5;28;01mif\u001b[39;00m block \u001b[38;5;129;01mand\u001b[39;00m timeout \u001b[38;5;129;01mis\u001b[39;00m \u001b[38;5;28;01mNone\u001b[39;00m:\n\u001b[1;32m    102\u001b[0m     \u001b[38;5;28;01mwith\u001b[39;00m \u001b[38;5;28mself\u001b[39m\u001b[38;5;241m.\u001b[39m_rlock:\n\u001b[0;32m--> 103\u001b[0m         res \u001b[38;5;241m=\u001b[39m \u001b[38;5;28;43mself\u001b[39;49m\u001b[38;5;241;43m.\u001b[39;49m\u001b[43m_recv_bytes\u001b[49m\u001b[43m(\u001b[49m\u001b[43m)\u001b[49m\n\u001b[1;32m    104\u001b[0m     \u001b[38;5;28mself\u001b[39m\u001b[38;5;241m.\u001b[39m_sem\u001b[38;5;241m.\u001b[39mrelease()\n\u001b[1;32m    105\u001b[0m \u001b[38;5;28;01melse\u001b[39;00m:\n",
      "File \u001b[0;32m/opt/homebrew/Cellar/python@3.10/3.10.11/Frameworks/Python.framework/Versions/3.10/lib/python3.10/multiprocessing/connection.py:216\u001b[0m, in \u001b[0;36m_ConnectionBase.recv_bytes\u001b[0;34m(self, maxlength)\u001b[0m\n\u001b[1;32m    214\u001b[0m \u001b[38;5;28;01mif\u001b[39;00m maxlength \u001b[38;5;129;01mis\u001b[39;00m \u001b[38;5;129;01mnot\u001b[39;00m \u001b[38;5;28;01mNone\u001b[39;00m \u001b[38;5;129;01mand\u001b[39;00m maxlength \u001b[38;5;241m<\u001b[39m \u001b[38;5;241m0\u001b[39m:\n\u001b[1;32m    215\u001b[0m     \u001b[38;5;28;01mraise\u001b[39;00m \u001b[38;5;167;01mValueError\u001b[39;00m(\u001b[38;5;124m\"\u001b[39m\u001b[38;5;124mnegative maxlength\u001b[39m\u001b[38;5;124m\"\u001b[39m)\n\u001b[0;32m--> 216\u001b[0m buf \u001b[38;5;241m=\u001b[39m \u001b[38;5;28;43mself\u001b[39;49m\u001b[38;5;241;43m.\u001b[39;49m\u001b[43m_recv_bytes\u001b[49m\u001b[43m(\u001b[49m\u001b[43mmaxlength\u001b[49m\u001b[43m)\u001b[49m\n\u001b[1;32m    217\u001b[0m \u001b[38;5;28;01mif\u001b[39;00m buf \u001b[38;5;129;01mis\u001b[39;00m \u001b[38;5;28;01mNone\u001b[39;00m:\n\u001b[1;32m    218\u001b[0m     \u001b[38;5;28mself\u001b[39m\u001b[38;5;241m.\u001b[39m_bad_message_length()\n",
      "File \u001b[0;32m/opt/homebrew/Cellar/python@3.10/3.10.11/Frameworks/Python.framework/Versions/3.10/lib/python3.10/multiprocessing/connection.py:414\u001b[0m, in \u001b[0;36mConnection._recv_bytes\u001b[0;34m(self, maxsize)\u001b[0m\n\u001b[1;32m    413\u001b[0m \u001b[38;5;28;01mdef\u001b[39;00m \u001b[38;5;21m_recv_bytes\u001b[39m(\u001b[38;5;28mself\u001b[39m, maxsize\u001b[38;5;241m=\u001b[39m\u001b[38;5;28;01mNone\u001b[39;00m):\n\u001b[0;32m--> 414\u001b[0m     buf \u001b[38;5;241m=\u001b[39m \u001b[38;5;28;43mself\u001b[39;49m\u001b[38;5;241;43m.\u001b[39;49m\u001b[43m_recv\u001b[49m\u001b[43m(\u001b[49m\u001b[38;5;241;43m4\u001b[39;49m\u001b[43m)\u001b[49m\n\u001b[1;32m    415\u001b[0m     size, \u001b[38;5;241m=\u001b[39m struct\u001b[38;5;241m.\u001b[39munpack(\u001b[38;5;124m\"\u001b[39m\u001b[38;5;124m!i\u001b[39m\u001b[38;5;124m\"\u001b[39m, buf\u001b[38;5;241m.\u001b[39mgetvalue())\n\u001b[1;32m    416\u001b[0m     \u001b[38;5;28;01mif\u001b[39;00m size \u001b[38;5;241m==\u001b[39m \u001b[38;5;241m-\u001b[39m\u001b[38;5;241m1\u001b[39m:\n",
      "File \u001b[0;32m/opt/homebrew/Cellar/python@3.10/3.10.11/Frameworks/Python.framework/Versions/3.10/lib/python3.10/multiprocessing/connection.py:379\u001b[0m, in \u001b[0;36mConnection._recv\u001b[0;34m(self, size, read)\u001b[0m\n\u001b[1;32m    377\u001b[0m remaining \u001b[38;5;241m=\u001b[39m size\n\u001b[1;32m    378\u001b[0m \u001b[38;5;28;01mwhile\u001b[39;00m remaining \u001b[38;5;241m>\u001b[39m \u001b[38;5;241m0\u001b[39m:\n\u001b[0;32m--> 379\u001b[0m     chunk \u001b[38;5;241m=\u001b[39m \u001b[43mread\u001b[49m\u001b[43m(\u001b[49m\u001b[43mhandle\u001b[49m\u001b[43m,\u001b[49m\u001b[43m \u001b[49m\u001b[43mremaining\u001b[49m\u001b[43m)\u001b[49m\n\u001b[1;32m    380\u001b[0m     n \u001b[38;5;241m=\u001b[39m \u001b[38;5;28mlen\u001b[39m(chunk)\n\u001b[1;32m    381\u001b[0m     \u001b[38;5;28;01mif\u001b[39;00m n \u001b[38;5;241m==\u001b[39m \u001b[38;5;241m0\u001b[39m:\n",
      "\u001b[0;31mKeyboardInterrupt\u001b[0m: "
     ]
    }
   ],
   "source": [
    "import numpy as np\n",
    "from time import time\n",
    "import matplotlib.pyplot as plt\n",
    "from multiprocessing import Process, Queue\n",
    "\n",
    "x = np.arange(-2,1.01,0.01)\n",
    "y = np.arange(-1.5,1.51,0.01)\n",
    "x,y = np.meshgrid(x,y)\n",
    "z = x + 1j * y\n",
    "s = z.shape\n",
    "\n",
    "def mand(z,q):\n",
    "    t = time()\n",
    "    z0 = np.copy(z)\n",
    "    s = z.shape\n",
    "    res = 255 * np.ones(s)\n",
    "    for i in range(255):\n",
    "        res[np.abs(z)>2] = i\n",
    "        z = z**2 + z0\n",
    "    print(\"funkcja: \",time()-t)\n",
    "    q.put(res)\n",
    "\n",
    "q = Queue()\n",
    "t = time()\n",
    "n = 12\n",
    "l = [z[:,i*s[1]//n : (i+1)*s[1]//n] for i in range(n)]\n",
    "l = [Process(target=mand,args=(i,q)) for i in l]\n",
    "\n",
    "t = time()\n",
    "for i in l:\n",
    "    i.start()\n",
    "res = np.hstack([q.get() for _ in range(n)])\n",
    "\n",
    "print(\"Program: \",time()-t)\n",
    "\n",
    "plt.matshow(res,cmap=\"binary\")\n",
    "plt.show()"
   ]
  },
  {
   "cell_type": "code",
   "execution_count": 96,
   "id": "a63eb0f3-3324-48cc-914b-812582960af9",
   "metadata": {
    "tags": []
   },
   "outputs": [
    {
     "name": "stdout",
     "output_type": "stream",
     "text": [
      "Requirement already satisfied: matplotlib in /opt/homebrew/lib/python3.10/site-packages (3.7.1)\n",
      "Requirement already satisfied: fonttools>=4.22.0 in /opt/homebrew/lib/python3.10/site-packages (from matplotlib) (4.39.3)\n",
      "Requirement already satisfied: numpy>=1.20 in /opt/homebrew/lib/python3.10/site-packages (from matplotlib) (1.24.2)\n",
      "Requirement already satisfied: pillow>=6.2.0 in /opt/homebrew/lib/python3.10/site-packages (from matplotlib) (9.5.0)\n",
      "Requirement already satisfied: python-dateutil>=2.7 in /opt/homebrew/lib/python3.10/site-packages (from matplotlib) (2.8.2)\n",
      "Requirement already satisfied: kiwisolver>=1.0.1 in /opt/homebrew/lib/python3.10/site-packages (from matplotlib) (1.4.4)\n",
      "Requirement already satisfied: contourpy>=1.0.1 in /opt/homebrew/lib/python3.10/site-packages (from matplotlib) (1.0.7)\n",
      "Requirement already satisfied: cycler>=0.10 in /opt/homebrew/lib/python3.10/site-packages (from matplotlib) (0.11.0)\n",
      "Requirement already satisfied: pyparsing>=2.3.1 in /opt/homebrew/lib/python3.10/site-packages (from matplotlib) (3.0.9)\n",
      "Requirement already satisfied: packaging>=20.0 in /opt/homebrew/lib/python3.10/site-packages (from matplotlib) (23.0)\n",
      "Requirement already satisfied: six>=1.5 in /opt/homebrew/lib/python3.10/site-packages (from python-dateutil>=2.7->matplotlib) (1.16.0)\n",
      "\n",
      "\u001b[1m[\u001b[0m\u001b[34;49mnotice\u001b[0m\u001b[1;39;49m]\u001b[0m\u001b[39;49m A new release of pip is available: \u001b[0m\u001b[31;49m23.0.1\u001b[0m\u001b[39;49m -> \u001b[0m\u001b[32;49m23.1.2\u001b[0m\n",
      "\u001b[1m[\u001b[0m\u001b[34;49mnotice\u001b[0m\u001b[1;39;49m]\u001b[0m\u001b[39;49m To update, run: \u001b[0m\u001b[32;49mpython3.10 -m pip install --upgrade pip\u001b[0m\n"
     ]
    }
   ],
   "source": [
    "import sys\n",
    "!{sys.executable} -m pip install matplotlib"
   ]
  },
  {
   "cell_type": "code",
   "execution_count": null,
   "id": "af48d93b-4fa5-430d-899b-899c7e7040ad",
   "metadata": {},
   "outputs": [],
   "source": []
  }
 ],
 "metadata": {
  "kernelspec": {
   "display_name": "Python 3 (ipykernel)",
   "language": "python",
   "name": "python3"
  },
  "language_info": {
   "codemirror_mode": {
    "name": "ipython",
    "version": 3
   },
   "file_extension": ".py",
   "mimetype": "text/x-python",
   "name": "python",
   "nbconvert_exporter": "python",
   "pygments_lexer": "ipython3",
   "version": "3.11.3"
  }
 },
 "nbformat": 4,
 "nbformat_minor": 5
}
