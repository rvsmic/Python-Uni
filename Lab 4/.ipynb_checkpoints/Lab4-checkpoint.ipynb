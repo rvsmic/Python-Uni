{
 "cells": [
  {
   "cell_type": "markdown",
   "id": "e9ba3bac-643b-429f-bdbb-304eb87fb5b2",
   "metadata": {},
   "source": [
    "# Zad 8"
   ]
  },
  {
   "cell_type": "markdown",
   "id": "bc35b643-6f4e-4d32-85ae-d54654bc8b40",
   "metadata": {
    "tags": []
   },
   "source": [
    "### Z podanej listy liczb całkowitych l odrzuć liczby podzielne przez trzy, spośród pozostałych elementów podwój nieparzyste."
   ]
  },
  {
   "cell_type": "code",
   "execution_count": 1,
   "id": "27fecd98-f219-40aa-9553-4737d68ba870",
   "metadata": {
    "tags": []
   },
   "outputs": [
    {
     "name": "stdout",
     "output_type": "stream",
     "text": [
      "[0, 1, 2, 3, 4, 5, 6, 7, 8, 9, 10, 11, 12, 13, 14, 15, 16, 17, 18, 19]\n",
      "[2, 2, 4, 10, 14, 8, 10, 22, 26, 14, 16, 34, 38]\n"
     ]
    }
   ],
   "source": [
    "l = [i for i in range(0,20)]\n",
    "print(l)\n",
    "x = [ 2*l if l%2!=0 else l for l in l if l%3!=0]\n",
    "print(x)"
   ]
  },
  {
   "cell_type": "markdown",
   "id": "a7a72ef7-a9e6-4d13-9cd3-7b75f88e32d5",
   "metadata": {},
   "source": [
    "# Zad 9"
   ]
  },
  {
   "cell_type": "markdown",
   "id": "77239c40-64be-48b8-b1c0-c1954b4e9b3c",
   "metadata": {},
   "source": [
    "### W podanej liście łańcuchów l oczyść elementy z nieliter."
   ]
  },
  {
   "cell_type": "code",
   "execution_count": 4,
   "id": "bd65cedf-af54-48c3-b5c4-e7e1f01c3bf6",
   "metadata": {
    "tags": []
   },
   "outputs": [
    {
     "name": "stdout",
     "output_type": "stream",
     "text": [
      "['A_L_A', 'M213~ -A', 'K0000OTA']\n",
      "['ALA', 'MA', 'KOTA']\n"
     ]
    }
   ],
   "source": [
    "l = [\"A_L_A\",\"M213~ -A\",\"K0000OTA\"]\n",
    "print(l)\n",
    "#x = [[ l for l in word if l.isalpha()] for word in l]\n",
    "x = [\"\".join(i for i in j if i.isalpha()) for j in l]\n",
    "print(x)"
   ]
  },
  {
   "cell_type": "markdown",
   "id": "027ff6f9-0fbe-4126-af62-ada8fb04117b",
   "metadata": {},
   "source": [
    "# Zad 10"
   ]
  },
  {
   "cell_type": "markdown",
   "id": "a1700855-14bd-4f6e-90c9-045b9af6a0b7",
   "metadata": {},
   "source": [
    "### W podanej liście łańcuchów l oczyść elementy z niecyfr, następnie przekształć je na liczby całkowite (pamiętaj o konieczności odrzucenia łańcuchów pustych)."
   ]
  },
  {
   "cell_type": "code",
   "execution_count": null,
   "id": "bf0e8393-87df-45e7-987d-2673014cbb7a",
   "metadata": {
    "tags": []
   },
   "outputs": [],
   "source": [
    "l = [\"3L2A\",\"M213~ -A\",\"\",\"K0000OTA\"]\n",
    "print(l)\n",
    "#x = [ [int(l) for l in word if l.isnumeric()] for word in list if len(word) > 0]\n",
    "x = [int(j) for j in [\"\".join([i for i in j if i.isdigit()]) for j in l] if j]\n",
    "print(x)"
   ]
  },
  {
   "cell_type": "markdown",
   "id": "613f369d-7582-4187-8a09-1fdc0c14fb94",
   "metadata": {
    "tags": []
   },
   "source": [
    "# Zad 11"
   ]
  },
  {
   "cell_type": "markdown",
   "id": "887e799a-843d-49a9-a555-4c42730e9e45",
   "metadata": {
    "tags": []
   },
   "source": [
    "### Z podanej listy krotek l odrzuć krotki krótsze niż 2, pozostałe przytnij do pierwszych dwóch elementów."
   ]
  },
  {
   "cell_type": "code",
   "execution_count": null,
   "id": "86dfb888-2381-45cf-b18d-5ae18b18e310",
   "metadata": {
    "tags": []
   },
   "outputs": [],
   "source": [
    "l = [(1,2,3,4),(1,2,3),(1,),(1,2,3),(3,)]\n",
    "print(l)\n",
    "#x = [((c,d)for c,d in k) for k in list if len(k) >=2 ]\n",
    "x = [tuple(i[:2]) for i in l if len(i) > 1]\n",
    "print(x)"
   ]
  },
  {
   "cell_type": "markdown",
   "id": "828d3101-fedd-4cca-af51-8f72f61f7ce4",
   "metadata": {},
   "source": [
    "# Zad 12"
   ]
  },
  {
   "cell_type": "markdown",
   "id": "6fb38d04-d342-4a7f-8fd0-c7f4f87dcf84",
   "metadata": {},
   "source": [
    "### Z podanej listy krotek l odrzuć krotki, których suma jest nieparzysta."
   ]
  },
  {
   "cell_type": "code",
   "execution_count": null,
   "id": "ea140a1b-f698-4a87-89d4-4623585d84e0",
   "metadata": {
    "tags": []
   },
   "outputs": [],
   "source": [
    "l = [(1,2,3,4),(1,2,2),(1,),(1,2,3),(3,)]\n",
    "print(l)\n",
    "x = [k for k in l if sum(k)%2==0]\n",
    "print(x)"
   ]
  },
  {
   "cell_type": "markdown",
   "id": "eeff78d9-0893-4889-bfbf-0f4f952ec12c",
   "metadata": {
    "tags": []
   },
   "source": [
    "# Zad 13 - DOKOŃCZYĆ"
   ]
  },
  {
   "cell_type": "markdown",
   "id": "7a036f94-1f20-45de-9d16-3a37fd0ec57a",
   "metadata": {
    "tags": []
   },
   "source": [
    "### W podanej liście krotek l pozostaw krotki, których wszystkie elementy są podzielne przez 3."
   ]
  },
  {
   "cell_type": "code",
   "execution_count": null,
   "id": "cacfce0b-10a9-4062-ad52-2dea4260ad37",
   "metadata": {
    "tags": []
   },
   "outputs": [],
   "source": [
    "l = [(1,2,3,4),(6,3,9),(9,),(12,24,3),(2,)]\n",
    "print(l)\n",
    "x = [[n for n in k] for k in l]\n",
    "print(x)"
   ]
  },
  {
   "cell_type": "markdown",
   "id": "097cd7a1-0130-4890-860d-4239f60d71eb",
   "metadata": {
    "tags": []
   },
   "source": [
    "# Zad 14"
   ]
  },
  {
   "cell_type": "markdown",
   "id": "9dc0f7ac-dfed-4987-9489-f83db104d377",
   "metadata": {},
   "source": [
    "### W podanej liście krotek l pozostaw te, w których istnieje element podzielny przez 3."
   ]
  },
  {
   "cell_type": "markdown",
   "id": "90f0df4d-3bb7-4526-9f5c-b025d88ea84b",
   "metadata": {},
   "source": [
    "# Zad 16"
   ]
  },
  {
   "cell_type": "markdown",
   "id": "61e925e3-f83f-4af7-8b5f-f3144f2f9c17",
   "metadata": {},
   "source": [
    "### Napisz jednolinijkowy program sprawdzający zachodzenie prawa de Morgana\n",
    "\n",
    "\\neg \\forall x \\in A : x \\Leftrightarrow \\exists x \\in A : \\neg x\n",
    "¬∀x∈A:x⇔∃x∈A:¬x\n",
    "\n",
    "dla listy wartości logicznych A."
   ]
  },
  {
   "cell_type": "code",
   "execution_count": null,
   "id": "31cbdb89-8a21-414a-b4e5-95d58588fca6",
   "metadata": {
    "tags": []
   },
   "outputs": [],
   "source": [
    "all_items = [1,2,3,4,5]\n",
    "cond = lambda x: x<3\n",
    "not_all_items = not all(cond(x) for x in all_items)\n",
    "some_not_item = any(not cond(x) for x in all_items)\n",
    "\n",
    "print(not_all_items == some_not_item)"
   ]
  },
  {
   "cell_type": "code",
   "execution_count": null,
   "id": "1379d694-81c8-41df-88c5-36e8e0aa5900",
   "metadata": {
    "tags": []
   },
   "outputs": [],
   "source": [
    "A = [True,False]\n",
    "not all(A) == any(not i for i in A)"
   ]
  },
  {
   "cell_type": "markdown",
   "id": "b4bece96-7832-4c36-b359-0cda57a95330",
   "metadata": {},
   "source": [
    "# Zad 21"
   ]
  },
  {
   "cell_type": "markdown",
   "id": "8b8b4da1-bcd2-479f-be2e-0cfebe0d4d4d",
   "metadata": {},
   "source": [
    "### Napisz funkcję pole, która dla jednego argumentu oblicza pole kwadratu, dla dwóch — pole prostokąta, a dla trzech — pole trapezu."
   ]
  },
  {
   "cell_type": "code",
   "execution_count": null,
   "id": "72a00d07-665d-4c48-9fbc-599cc370689d",
   "metadata": {
    "tags": []
   },
   "outputs": [],
   "source": [
    "def pole(*args):\n",
    "    if len(args) == 1: return args[0]**2\n"
   ]
  },
  {
   "cell_type": "markdown",
   "id": "4b1fd0e8-df97-44dc-be56-4cd123b2d5ee",
   "metadata": {
    "tags": []
   },
   "source": [
    "# Zad 8 - map i filter"
   ]
  },
  {
   "cell_type": "code",
   "execution_count": 2,
   "id": "b5fc7df8-f800-4029-828c-26059f633e31",
   "metadata": {
    "tags": []
   },
   "outputs": [
    {
     "data": {
      "text/plain": [
       "[1, 2, 4, 5, 7, 8, 10, 11, 13, 14, 16, 17, 19]"
      ]
     },
     "execution_count": 2,
     "metadata": {},
     "output_type": "execute_result"
    }
   ],
   "source": [
    "l = range(0,20)\n",
    "#list(map(lambda i: i*2 if i%2 else i, filter(lambda i: i%3, l)))\n",
    "list(filter(lambda i:i%3, l))"
   ]
  },
  {
   "cell_type": "code",
   "execution_count": 1,
   "id": "45049963-b3c6-4aa0-a2f8-f8bfa3ead025",
   "metadata": {
    "tags": []
   },
   "outputs": [
    {
     "data": {
      "text/plain": [
       "['ALA', 'MA', 'KOTA']"
      ]
     },
     "execution_count": 1,
     "metadata": {},
     "output_type": "execute_result"
    }
   ],
   "source": [
    "l = [\"A_L_A\",\"M213~ -A\",\"K0000OTA\"]\n",
    "list(map(lambda j:\"\".join(filter(lambda i:i.isalpha(),j)),l))"
   ]
  },
  {
   "cell_type": "code",
   "execution_count": 5,
   "id": "f5638027-0b48-468d-a805-838e78485d01",
   "metadata": {
    "tags": []
   },
   "outputs": [
    {
     "data": {
      "text/plain": [
       "[(1, 2), (5, 2), (1, 2)]"
      ]
     },
     "execution_count": 5,
     "metadata": {},
     "output_type": "execute_result"
    }
   ],
   "source": [
    "l = [(1,2,3,4),(5,2,3),(1,),(1,2,3),(3,)]\n",
    "list(map(lambda i:tuple(i[:2]),filter(lambda i:len(i)>1, l)))"
   ]
  },
  {
   "cell_type": "markdown",
   "id": "f99466de-0228-47c9-a1fd-f38e44b02c39",
   "metadata": {},
   "source": [
    "# Zad 24"
   ]
  },
  {
   "cell_type": "markdown",
   "id": "a29b4c0e-a30d-4972-8842-24f662d6df41",
   "metadata": {},
   "source": [
    "### Dla listy funkcji l = [lambda x:x+1, lambda x:x**2, lambda x:x%3] stwórz listę wartości w 1 tych elementów listy, które w 0 przyjmują wartość 0."
   ]
  },
  {
   "cell_type": "code",
   "execution_count": 12,
   "id": "3d9a2c8f-3adf-46e6-bf58-5a8f0ee7fb60",
   "metadata": {
    "tags": []
   },
   "outputs": [
    {
     "data": {
      "text/plain": [
       "[1, 1]"
      ]
     },
     "execution_count": 12,
     "metadata": {},
     "output_type": "execute_result"
    }
   ],
   "source": [
    "l = [lambda x:x+1, lambda x:x**2, lambda x:x%3]\n",
    "l[1](3)\n",
    "list(map(lambda i:i(1), filter(lambda i: i(0) == 0, l)))"
   ]
  },
  {
   "cell_type": "markdown",
   "id": "2c0f5173-53b3-4a4c-ad76-215f03a706f2",
   "metadata": {},
   "source": [
    "# Zad 15"
   ]
  },
  {
   "cell_type": "code",
   "execution_count": 20,
   "id": "02d3078d-d59d-4385-ae1c-0da2599b983b",
   "metadata": {
    "tags": []
   },
   "outputs": [
    {
     "data": {
      "text/plain": [
       "['ala', 'ma']"
      ]
     },
     "execution_count": 20,
     "metadata": {},
     "output_type": "execute_result"
    }
   ],
   "source": [
    "l = [\"ala ma kota\",\"ola\",\"ma psa\",\"i\",\"kota\"]\n",
    "[i.split(\" \",1)[0] for i in l if \" \" in i]\n",
    "list(map(lambda i: i.split(\" \",1)[0], filter(lambda i:\" \" in i,l)))"
   ]
  },
  {
   "cell_type": "code",
   "execution_count": 12,
   "id": "5d4d95a2-0cbe-4c47-b06d-af0962a24c99",
   "metadata": {},
   "outputs": [
    {
     "name": "stdout",
     "output_type": "stream",
     "text": [
      "[0, 1, 2, 3, 4, 5, 6, 7, 8, 9, 10, 11, 12, 13, 14, 15, 16, 17, 18, 19]\n",
      "[2, 2, 4, 10, 14, 8, 10, 22, 26, 14, 16, 34, 38]\n"
     ]
    }
   ],
   "source": [
    "l = [i for i in range(0,20)]\n",
    "print(l)\n",
    "x = [ 2*i if i%2!=0 else i for i in l if i%3!=0 else 0]\n",
    "print(x)"
   ]
  },
  {
   "cell_type": "code",
   "execution_count": 15,
   "id": "78cb5674-3488-4c17-96a0-9e9c20e7d97d",
   "metadata": {
    "tags": []
   },
   "outputs": [
    {
     "name": "stdout",
     "output_type": "stream",
     "text": [
      "[0, 1, 2, 3, 4, 5, 6, 7, 8, 9, 10, 11, 12, 13, 14, 15, 16, 17, 18, 19]\n",
      "[0, 2, 0, 0, 0, 10, 0, 14, 0, 0, 0, 22, 0, 26, 0, 0, 0, 34, 0, 38]\n"
     ]
    }
   ],
   "source": [
    "l = [i for i in range(0, 20)]\n",
    "print(l)\n",
    "x = [2*i if i % 2 != 0 and i % 3 != 0 else 0 for i in l]\n",
    "print(x)"
   ]
  },
  {
   "cell_type": "code",
   "execution_count": null,
   "id": "9a975307-fc34-4dcc-a38e-109855dfce2a",
   "metadata": {},
   "outputs": [],
   "source": []
  }
 ],
 "metadata": {
  "kernelspec": {
   "display_name": "Python 3 (ipykernel)",
   "language": "python",
   "name": "python3"
  },
  "language_info": {
   "codemirror_mode": {
    "name": "ipython",
    "version": 3
   },
   "file_extension": ".py",
   "mimetype": "text/x-python",
   "name": "python",
   "nbconvert_exporter": "python",
   "pygments_lexer": "ipython3",
   "version": "3.10.10"
  }
 },
 "nbformat": 4,
 "nbformat_minor": 5
}
