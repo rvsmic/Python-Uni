{
 "cells": [
  {
   "cell_type": "markdown",
   "id": "5969d4ca-234d-4723-a6fe-4c2a82dd6227",
   "metadata": {},
   "source": [
    "# Klasy"
   ]
  },
  {
   "cell_type": "code",
   "execution_count": 5,
   "id": "acee4275-8322-4f3f-9e35-793346dc5429",
   "metadata": {
    "tags": []
   },
   "outputs": [],
   "source": [
    "class Klasa:\n",
    "    a = 10\n",
    "    \n",
    "k1 = Klasa()\n",
    "k2 = Klasa()"
   ]
  },
  {
   "cell_type": "code",
   "execution_count": 6,
   "id": "1ee5e392-c7e8-43ac-bc29-4aed08e842cf",
   "metadata": {
    "tags": []
   },
   "outputs": [
    {
     "name": "stdout",
     "output_type": "stream",
     "text": [
      "10\n",
      "20\n"
     ]
    }
   ],
   "source": [
    "print(k1.a)\n",
    "k1.a = 20\n",
    "print(k1.a)"
   ]
  },
  {
   "cell_type": "code",
   "execution_count": 10,
   "id": "b4f049fd-b962-49a9-9b6b-471d5190e287",
   "metadata": {
    "tags": []
   },
   "outputs": [
    {
     "name": "stdout",
     "output_type": "stream",
     "text": [
      "30\n"
     ]
    }
   ],
   "source": [
    "k2.z = 30\n",
    "print(k2.z)\n",
    "# print(k1.z) nie ma atrybutu z"
   ]
  },
  {
   "cell_type": "code",
   "execution_count": 13,
   "id": "75f80b13-4890-4716-a763-3de25e62bcea",
   "metadata": {
    "tags": []
   },
   "outputs": [],
   "source": [
    "class Klasa:\n",
    "    def metoda(*args):\n",
    "        print(args)\n",
    "    \n",
    "k1 = Klasa()\n",
    "k2 = Klasa()"
   ]
  },
  {
   "cell_type": "code",
   "execution_count": 14,
   "id": "1fac1fae-ffaa-44e1-9c44-a6ebb3deb76e",
   "metadata": {
    "tags": []
   },
   "outputs": [
    {
     "name": "stdout",
     "output_type": "stream",
     "text": [
      "(<__main__.Klasa object at 0x11031ccd0>, 'hello', 1, [2, 3])\n"
     ]
    }
   ],
   "source": [
    "k1.metoda(\"hello\",1,[2,3])"
   ]
  },
  {
   "cell_type": "code",
   "execution_count": 15,
   "id": "48241c34-5d7d-4517-bc26-484aa322e256",
   "metadata": {
    "tags": []
   },
   "outputs": [
    {
     "name": "stdout",
     "output_type": "stream",
     "text": [
      "(<__main__.Klasa object at 0x11031ccd0>, 'hello', 1, [2, 3])\n"
     ]
    }
   ],
   "source": [
    "Klasa.metoda(k1,\"hello\",1,[2,3])"
   ]
  },
  {
   "cell_type": "code",
   "execution_count": 20,
   "id": "053da7dd-862a-4882-9113-5c368ce131de",
   "metadata": {
    "tags": []
   },
   "outputs": [],
   "source": [
    "class Prostokat:\n",
    "    def pole(self,a,b):\n",
    "        print(a*b)\n",
    "        \n",
    "    def obwod(self,a,b):\n",
    "        print(2*(a+b))\n",
    "        \n",
    "k1 = Prostokat()\n",
    "k2 = Prostokat()"
   ]
  },
  {
   "cell_type": "code",
   "execution_count": 23,
   "id": "c1e9ac58-b493-4228-9102-63b0846a9361",
   "metadata": {
    "tags": []
   },
   "outputs": [
    {
     "name": "stdout",
     "output_type": "stream",
     "text": [
      "6\n",
      "10\n"
     ]
    },
    {
     "data": {
      "text/plain": [
       "['__class__',\n",
       " '__delattr__',\n",
       " '__dict__',\n",
       " '__dir__',\n",
       " '__doc__',\n",
       " '__eq__',\n",
       " '__format__',\n",
       " '__ge__',\n",
       " '__getattribute__',\n",
       " '__gt__',\n",
       " '__hash__',\n",
       " '__init__',\n",
       " '__init_subclass__',\n",
       " '__le__',\n",
       " '__lt__',\n",
       " '__module__',\n",
       " '__ne__',\n",
       " '__new__',\n",
       " '__reduce__',\n",
       " '__reduce_ex__',\n",
       " '__repr__',\n",
       " '__setattr__',\n",
       " '__sizeof__',\n",
       " '__str__',\n",
       " '__subclasshook__',\n",
       " '__weakref__',\n",
       " 'obwod',\n",
       " 'pole']"
      ]
     },
     "execution_count": 23,
     "metadata": {},
     "output_type": "execute_result"
    }
   ],
   "source": [
    "k1.pole(2,3)\n",
    "k1.obwod(2,3)\n",
    "dir(Prostokat) # metody klasy"
   ]
  },
  {
   "cell_type": "markdown",
   "id": "1931537d-5f26-444e-8ee5-76adfd0ac294",
   "metadata": {},
   "source": [
    "## Konstruktor"
   ]
  },
  {
   "cell_type": "code",
   "execution_count": 26,
   "id": "7a833452-1f7f-4b09-bee1-ff8c820109c9",
   "metadata": {
    "tags": []
   },
   "outputs": [
    {
     "name": "stdout",
     "output_type": "stream",
     "text": [
      "6\n",
      "10\n"
     ]
    }
   ],
   "source": [
    "class Prostokat:\n",
    "    def __init__(self,a,b):\n",
    "        self.a = a\n",
    "        self.b = b\n",
    "        \n",
    "    def pole(self):\n",
    "        print(self.a*self.b)\n",
    "        \n",
    "    def obwod(self):\n",
    "        print(2*(self.a+self.b))\n",
    "        \n",
    "k1 = Prostokat(2,3)\n",
    "k1.pole()\n",
    "k1.obwod()"
   ]
  },
  {
   "cell_type": "code",
   "execution_count": 34,
   "id": "5760ca7c-9bf0-4586-b76f-4e4ada7aff29",
   "metadata": {
    "tags": []
   },
   "outputs": [
    {
     "name": "stdout",
     "output_type": "stream",
     "text": [
      "Marka: Volkswagen, model: Passat, rok: 2004\n",
      "Samochód przejechał 1000 km. Aktualny przebieg: 1000 km.\n"
     ]
    }
   ],
   "source": [
    "class Samochod:\n",
    "    def __init__(self,marka,model,rok):\n",
    "        self.marka = marka\n",
    "        self.model = model\n",
    "        self.rok = rok\n",
    "        self.przebieg = 0\n",
    "    \n",
    "    def info(self):\n",
    "        print(f\"Marka: {self.marka}, model: {self.model}, rok: {self.rok}\")\n",
    "        \n",
    "    def jedz(self,dystans):\n",
    "        self.przebieg += dystans\n",
    "        print(f\"Samochód przejechał {dystans} km. Aktualny przebieg: {self.przebieg} km.\")\n",
    "        \n",
    "s1 = Samochod(\"Volkswagen\",\"Passat\",2004)\n",
    "s1.info()\n",
    "s1.jedz(1000)"
   ]
  },
  {
   "cell_type": "code",
   "execution_count": 35,
   "id": "9f38d591-2433-4711-ac05-c21068e12495",
   "metadata": {
    "tags": []
   },
   "outputs": [
    {
     "name": "stdout",
     "output_type": "stream",
     "text": [
      "Samochód przejechał 20000 km. Aktualny przebieg: 21000 km.\n"
     ]
    }
   ],
   "source": [
    "s1.jedz(20000)"
   ]
  },
  {
   "cell_type": "markdown",
   "id": "650c180a-ad91-45ae-9d5c-ba720b274c5e",
   "metadata": {},
   "source": [
    "## Przeciążanie operatorów"
   ]
  },
  {
   "cell_type": "code",
   "execution_count": 73,
   "id": "d0d252ca-3848-4cdd-b4ee-db52199e14db",
   "metadata": {
    "tags": []
   },
   "outputs": [
    {
     "name": "stdout",
     "output_type": "stream",
     "text": [
      "[2;5]\n"
     ]
    }
   ],
   "source": [
    "class Wektor:\n",
    "    \n",
    "    z = 10 # zmienna globalna dla klasy\n",
    "    \n",
    "    def __init__(self,x,y):\n",
    "        self.x = x\n",
    "        self.y = y\n",
    "        \n",
    "    def __str__(self):\n",
    "        return '[{0.x};{0.y}]'.format(self)\n",
    "    \n",
    "    def __mul__(self,liczba):\n",
    "        Wektor.z = liczba\n",
    "        return Wektor(liczba*self.x,liczba*self.y)\n",
    "    \n",
    "    __rmul__ = __mul__ # mnozenie - z lewej strony liczba\n",
    "        \n",
    "v1 = Wektor(2,5)\n",
    "print(v1)"
   ]
  },
  {
   "cell_type": "code",
   "execution_count": 74,
   "id": "862da208-c01a-4724-9321-159b0583d203",
   "metadata": {
    "tags": []
   },
   "outputs": [
    {
     "name": "stdout",
     "output_type": "stream",
     "text": [
      "[4;10]\n",
      "2\n",
      "2\n",
      "[30;70]\n",
      "10\n",
      "10\n",
      "[6;15]\n"
     ]
    }
   ],
   "source": [
    "print(v1*2)\n",
    "print(v1.z)\n",
    "v2 = Wektor(3,7)\n",
    "print(v2.z)\n",
    "print(v2*10)\n",
    "print(v1.z)\n",
    "print(v2.z)\n",
    "print(3*v1)"
   ]
  },
  {
   "cell_type": "code",
   "execution_count": 75,
   "id": "99e10eb3-da36-4d54-89fd-b025212e3090",
   "metadata": {
    "tags": []
   },
   "outputs": [
    {
     "data": {
      "text/plain": [
       "5"
      ]
     },
     "execution_count": 75,
     "metadata": {},
     "output_type": "execute_result"
    }
   ],
   "source": [
    "(2).__add__(3)"
   ]
  },
  {
   "cell_type": "code",
   "execution_count": 76,
   "id": "12ddc42e-054d-4f05-bbf5-1653fa1f3056",
   "metadata": {
    "tags": []
   },
   "outputs": [
    {
     "data": {
      "text/plain": [
       "5"
      ]
     },
     "execution_count": 76,
     "metadata": {},
     "output_type": "execute_result"
    }
   ],
   "source": [
    "int.__add__(2,3)"
   ]
  },
  {
   "cell_type": "code",
   "execution_count": 77,
   "id": "be0c1e2b-b753-4e46-b15e-169310628baf",
   "metadata": {
    "tags": []
   },
   "outputs": [
    {
     "data": {
      "text/plain": [
       "8"
      ]
     },
     "execution_count": 77,
     "metadata": {},
     "output_type": "execute_result"
    }
   ],
   "source": [
    "int.__pow__(2,3)"
   ]
  },
  {
   "cell_type": "code",
   "execution_count": 79,
   "id": "27b4bf73-3821-4c37-9302-f6b37f41ede6",
   "metadata": {
    "tags": []
   },
   "outputs": [
    {
     "data": {
      "text/plain": [
       "9"
      ]
     },
     "execution_count": 79,
     "metadata": {},
     "output_type": "execute_result"
    }
   ],
   "source": [
    "int.__rpow__(2,3)"
   ]
  },
  {
   "cell_type": "code",
   "execution_count": 88,
   "id": "cf4c0a33-3afb-45c6-90e8-73c0b1730c82",
   "metadata": {
    "tags": []
   },
   "outputs": [
    {
     "name": "stdout",
     "output_type": "stream",
     "text": [
      "[1, 4, 9, 16, 25, 36, 49, 64, 81, 100, 121, 144, 169, 196, 225, 256, 289, 324, 361, 400, 441, 484, 529, 576, 625, 676, 729, 784, 841, 900, 961, 1024, 1089, 1156, 1225, 1296, 1369, 1444, 1521, 1600, 1681, 1764, 1849, 1936, 2025, 2116, 2209, 2304, 2401, 2500, 2601, 2704, 2809, 2916, 3025, 3136, 3249, 3364, 3481, 3600, 3721, 3844, 3969, 4096, 4225, 4356, 4489, 4624, 4761, 4900, 5041, 5184, 5329, 5476, 5625, 5776, 5929, 6084, 6241, 6400, 6561, 6724, 6889, 7056, 7225, 7396, 7569, 7744, 7921, 8100, 8281, 8464, 8649, 8836, 9025, 9216, 9409, 9604, 9801, 10000]\n",
      "[1, 4, 9, 16, 25, 36, 49, 64, 81, 100, 121, 144, 169, 196, 225, 256, 289, 324, 361, 400, 441, 484, 529, 576, 625, 676, 729, 784, 841, 900, 961, 1024, 1089, 1156, 1225, 1296, 1369, 1444, 1521, 1600, 1681, 1764, 1849, 1936, 2025, 2116, 2209, 2304, 2401, 2500, 2601, 2704, 2809, 2916, 3025, 3136, 3249, 3364, 3481, 3600, 3721, 3844, 3969, 4096, 4225, 4356, 4489, 4624, 4761, 4900, 5041, 5184, 5329, 5476, 5625, 5776, 5929, 6084, 6241, 6400, 6561, 6724, 6889, 7056, 7225, 7396, 7569, 7744, 7921, 8100, 8281, 8464, 8649, 8836, 9025, 9216, 9409, 9604, 9801, 10000]\n"
     ]
    }
   ],
   "source": [
    "print([int.__pow__(k,2) for k in [i for i in range(1,101)]])\n",
    "\n",
    "print(list(map((2).__rpow__,range(1,101))))"
   ]
  },
  {
   "cell_type": "code",
   "execution_count": 103,
   "id": "e358a567-4e3c-4e46-9670-669d2de1557a",
   "metadata": {
    "tags": []
   },
   "outputs": [
    {
     "name": "stdout",
     "output_type": "stream",
     "text": [
      "0.04666495323181152\n",
      "0.03417491912841797\n",
      "0.037568092346191406\n",
      "0.034384965896606445\n"
     ]
    }
   ],
   "source": [
    "from time import time\n",
    "\n",
    "l = range(1,100001)\n",
    "t = time()\n",
    "kwad = []\n",
    "\n",
    "for i in l:\n",
    "    kwad.append(i**2)\n",
    "print(time() - t)\n",
    "\n",
    "t = time()\n",
    "[i**2 for i in l]\n",
    "print(time() - t)\n",
    "\n",
    "t = time()\n",
    "list(map(lambda i: i**2, l))\n",
    "print(time() - t)\n",
    "\n",
    "t = time()\n",
    "list(map((2).__rpow__,l))\n",
    "print(time() - t)"
   ]
  },
  {
   "cell_type": "markdown",
   "id": "b686a79f-a4c0-4bea-ba9d-83b556e0bc10",
   "metadata": {},
   "source": [
    "## Dziedziczenie"
   ]
  },
  {
   "cell_type": "code",
   "execution_count": 105,
   "id": "0a4c3fa6-ce36-4450-9905-b4c53136d06b",
   "metadata": {
    "tags": []
   },
   "outputs": [
    {
     "name": "stdout",
     "output_type": "stream",
     "text": [
      "4\n",
      "20\n"
     ]
    }
   ],
   "source": [
    "class Master:\n",
    "    a = 2\n",
    "    \n",
    "    def method1(self):\n",
    "        return self.a**2\n",
    "    \n",
    "    def method2(self):\n",
    "        return 3*self.a\n",
    "    \n",
    "class Subordinate(Master):\n",
    "    def method2(self):\n",
    "        return 10*self.a\n",
    "    \n",
    "x = Subordinate()\n",
    "print(x.method1())\n",
    "print(x.method2())"
   ]
  },
  {
   "cell_type": "code",
   "execution_count": 106,
   "id": "135edb0b-7d75-41b4-a0e1-a62dd0dd1fdf",
   "metadata": {
    "tags": []
   },
   "outputs": [
    {
     "data": {
      "text/plain": [
       "True"
      ]
     },
     "execution_count": 106,
     "metadata": {},
     "output_type": "execute_result"
    }
   ],
   "source": [
    "isinstance(x,Master)"
   ]
  },
  {
   "cell_type": "code",
   "execution_count": 107,
   "id": "c6532c6f-1590-4ab0-9181-a41a5c33a584",
   "metadata": {
    "tags": []
   },
   "outputs": [
    {
     "data": {
      "text/plain": [
       "True"
      ]
     },
     "execution_count": 107,
     "metadata": {},
     "output_type": "execute_result"
    }
   ],
   "source": [
    "isinstance(x,Subordinate)"
   ]
  },
  {
   "cell_type": "markdown",
   "id": "5447cb1b-dd1e-4401-9b80-33df89999cdf",
   "metadata": {},
   "source": [
    "## Zadanie 1\n",
    "*Dodaj funkcje dodawania i odejmowania wektorów*"
   ]
  },
  {
   "cell_type": "code",
   "execution_count": 114,
   "id": "06eb5d24-0c77-4d0d-bb3e-3fe281502684",
   "metadata": {
    "tags": []
   },
   "outputs": [
    {
     "name": "stdout",
     "output_type": "stream",
     "text": [
      "[5;9]\n",
      "[1;-1]\n"
     ]
    }
   ],
   "source": [
    "class Wektor:\n",
    "    \n",
    "    def __init__(self,x,y):\n",
    "        self.x = x\n",
    "        self.y = y\n",
    "        \n",
    "    def __str__(self):\n",
    "        return '[{0.x};{0.y}]'.format(self)\n",
    "    \n",
    "    def __mul__(self,liczba):\n",
    "        return Wektor(liczba*self.x,liczba*self.y)\n",
    "    \n",
    "    __rmul__ = __mul__ # mnozenie - z lewej strony liczba\n",
    "    \n",
    "    def __add__(self,w):\n",
    "        return Wektor(self.x + w.x, self.y + w.y)\n",
    "    \n",
    "    def __sub__(self,w):\n",
    "        return Wektor(self.x - w.x, self.y - w.y)\n",
    "        \n",
    "v1 = Wektor(2,5)\n",
    "v2 = Wektor(3,4)\n",
    "print(v1 + v2)\n",
    "print(v2 - v1)"
   ]
  },
  {
   "cell_type": "markdown",
   "id": "70faf765-f903-49a3-9625-098b14a050dc",
   "metadata": {},
   "source": [
    "## Zadanie 2\n",
    "*Stwórz klasę Wektor_S, która dziedziczy po klasie Wektor i przeciąża operator mnożenia, że iloczyn 2 wektorów będzie iloczynem skalarnym*"
   ]
  },
  {
   "cell_type": "code",
   "execution_count": 134,
   "id": "83fc0e70-3e4f-4d86-9a7c-7423120a5004",
   "metadata": {
    "tags": []
   },
   "outputs": [
    {
     "name": "stdout",
     "output_type": "stream",
     "text": [
      "26\n",
      "26\n",
      "[20;50] [6;8]\n"
     ]
    }
   ],
   "source": [
    "class Wektor_S(Wektor):\n",
    "    def __mul__(self,w):\n",
    "        if isinstance(w,Wektor):\n",
    "            return w.x*self.x + w.y*self.y\n",
    "        return Wektor_S(w*self.x,w*self.y)\n",
    "    \n",
    "    def __rmul__(self,w):\n",
    "        return Wektor_S(w*self.x,w*self.y)\n",
    "\n",
    "vec1 = Wektor_S(2,5)\n",
    "vec2 = Wektor_S(3,4)\n",
    "print(vec1*vec2)\n",
    "print(vec2*vec1)\n",
    "print(10*vec1,vec2*2)"
   ]
  },
  {
   "cell_type": "markdown",
   "id": "4a23f078-1041-4e24-b966-3fdff385de27",
   "metadata": {},
   "source": [
    "## Zadanie 3\n",
    "*Stwórz klasę Wektor_S, która dziedziczy po klasie Wektor i przeciąża operator mnożenia, że iloczyn 2 wektorów będzie iloczynem wektorowym*"
   ]
  },
  {
   "cell_type": "code",
   "execution_count": 140,
   "id": "24f55656-9467-4c82-b9fd-2e22ca8ce694",
   "metadata": {
    "tags": []
   },
   "outputs": [
    {
     "name": "stdout",
     "output_type": "stream",
     "text": [
      "7\n",
      "-7\n",
      "[20;50] [6;8]\n"
     ]
    }
   ],
   "source": [
    "class Wektor_V(Wektor):\n",
    "    def __mul__(self,w):\n",
    "        if isinstance(w,Wektor):\n",
    "            return w.x*self.y - w.y*self.x\n",
    "        return Wektor_V(w*self.x,w*self.y)\n",
    "    \n",
    "    def __rmul__(self,w):\n",
    "        return Wektor_V(w*self.x,w*self.y)\n",
    "    \n",
    "vec1 = Wektor_V(2,5)\n",
    "vec2 = Wektor_V(3,4)\n",
    "print(vec1*vec2)\n",
    "print(vec2*vec1)\n",
    "print(10*vec1,vec2*2)"
   ]
  },
  {
   "cell_type": "code",
   "execution_count": null,
   "id": "67281029-a76f-4968-9f14-7fa108f73368",
   "metadata": {},
   "outputs": [],
   "source": []
  }
 ],
 "metadata": {
  "kernelspec": {
   "display_name": "Python 3 (ipykernel)",
   "language": "python",
   "name": "python3"
  },
  "language_info": {
   "codemirror_mode": {
    "name": "ipython",
    "version": 3
   },
   "file_extension": ".py",
   "mimetype": "text/x-python",
   "name": "python",
   "nbconvert_exporter": "python",
   "pygments_lexer": "ipython3",
   "version": "3.10.11"
  }
 },
 "nbformat": 4,
 "nbformat_minor": 5
}
