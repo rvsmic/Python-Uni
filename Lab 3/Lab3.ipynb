{
 "cells": [
  {
   "cell_type": "markdown",
   "id": "8855be85-84e2-482a-af29-7e69c8a91998",
   "metadata": {},
   "source": [
    "# Funkcje"
   ]
  },
  {
   "cell_type": "code",
   "execution_count": 1,
   "id": "2aad641d-addb-4e71-ad53-b24568f607a1",
   "metadata": {
    "tags": []
   },
   "outputs": [],
   "source": [
    "def kwadrat(x):\n",
    "    return x**2"
   ]
  },
  {
   "cell_type": "code",
   "execution_count": 3,
   "id": "5d379411-49e1-4d06-aea3-72dbf5eb5ee9",
   "metadata": {
    "tags": []
   },
   "outputs": [
    {
     "data": {
      "text/plain": [
       "25"
      ]
     },
     "execution_count": 3,
     "metadata": {},
     "output_type": "execute_result"
    }
   ],
   "source": [
    "kwadrat(5)"
   ]
  },
  {
   "cell_type": "code",
   "execution_count": 4,
   "id": "a025ed53-23fd-4d27-a410-b56329354979",
   "metadata": {
    "tags": []
   },
   "outputs": [
    {
     "name": "stdout",
     "output_type": "stream",
     "text": [
      "Ala nie ma nic\n",
      "Ola nie wiem nic\n",
      "Basia nie ma chomika\n"
     ]
    }
   ],
   "source": [
    "def concat(s1,s2='nie ma',s3='nic'):\n",
    "    return s1 + \" \" + s2 + \" \" + s3\n",
    "print(concat(\"Ala\"))\n",
    "print(concat(\"Ola\",\"nie wiem\"))\n",
    "print(concat(\"Basia\",s3=\"chomika\"))"
   ]
  },
  {
   "cell_type": "code",
   "execution_count": 6,
   "id": "12434a3e-44a9-4abc-b692-4b73fd8599e0",
   "metadata": {
    "tags": []
   },
   "outputs": [
    {
     "name": "stdout",
     "output_type": "stream",
     "text": [
      "[['x']]\n",
      "[['x'], ['x']]\n",
      "[['x'], ['x'], ['x']]\n"
     ]
    }
   ],
   "source": [
    "def rozszerz(l=[],element=['x']):\n",
    "    l.append(element)\n",
    "    return l\n",
    "print(rozszerz())\n",
    "print(rozszerz())\n",
    "print(rozszerz())"
   ]
  },
  {
   "cell_type": "code",
   "execution_count": 8,
   "id": "5d939e9d-9aaa-450c-8565-0a3ca15eace4",
   "metadata": {
    "tags": []
   },
   "outputs": [
    {
     "name": "stdout",
     "output_type": "stream",
     "text": [
      "[['x']]\n",
      "[['x']]\n",
      "[['x']]\n"
     ]
    }
   ],
   "source": [
    "def rozszerz(l=None,element=['x']):\n",
    "    if l==None:\n",
    "        l=[]\n",
    "    l.append(element)\n",
    "    return l\n",
    "print(rozszerz())\n",
    "print(rozszerz())\n",
    "print(rozszerz())"
   ]
  },
  {
   "cell_type": "code",
   "execution_count": 11,
   "id": "37386583-5409-4de2-8c8a-468da6595b47",
   "metadata": {
    "tags": []
   },
   "outputs": [],
   "source": [
    "def f(a,b=None):\n",
    "    if b==None:\n",
    "        b=a"
   ]
  },
  {
   "cell_type": "code",
   "execution_count": 14,
   "id": "4cfdc1f9-0f81-4162-873b-31ec8ace67fe",
   "metadata": {
    "tags": []
   },
   "outputs": [
    {
     "data": {
      "text/plain": [
       "2"
      ]
     },
     "execution_count": 14,
     "metadata": {},
     "output_type": "execute_result"
    }
   ],
   "source": [
    "def dlugosc(x):\n",
    "    if type(x) in (str,list,tuple,bytes):\n",
    "        return len(x)\n",
    "    elif type(x) in (int,float,complex):\n",
    "        return abs(x)\n",
    "    else:\n",
    "        return None\n",
    "dlugosc([1,2])"
   ]
  },
  {
   "cell_type": "code",
   "execution_count": 15,
   "id": "4a2d73bb-89d7-43b1-8c66-49838edd306f",
   "metadata": {
    "tags": []
   },
   "outputs": [],
   "source": [
    "def f(*args):\n",
    "    print(args)"
   ]
  },
  {
   "cell_type": "code",
   "execution_count": 16,
   "id": "08a0cb22-20cd-468f-8555-cb7fc0f5919f",
   "metadata": {
    "tags": []
   },
   "outputs": [
    {
     "name": "stdout",
     "output_type": "stream",
     "text": [
      "(1, 'a', [1, 2], (3, 4))\n"
     ]
    }
   ],
   "source": [
    "f(1,\"a\",[1,2],(3,4))"
   ]
  },
  {
   "cell_type": "code",
   "execution_count": 19,
   "id": "fa1fa27f-4cb6-47a4-bb8c-77f74e66b45e",
   "metadata": {
    "tags": []
   },
   "outputs": [
    {
     "data": {
      "text/plain": [
       "1.4142135623730951"
      ]
     },
     "execution_count": 19,
     "metadata": {},
     "output_type": "execute_result"
    }
   ],
   "source": [
    "def f(*args):\n",
    "    suma = 0\n",
    "    for i in args:\n",
    "        suma += i**2\n",
    "    return suma**0.5\n",
    "f(1,1)"
   ]
  },
  {
   "cell_type": "code",
   "execution_count": 29,
   "id": "4f28773c-495e-4809-9e7b-cc060bc7cf0b",
   "metadata": {
    "tags": []
   },
   "outputs": [
    {
     "name": "stdout",
     "output_type": "stream",
     "text": [
      "(1, 'a')\n",
      "{'a': 3, 'b': [1, 2]}\n",
      "None\n",
      "to jest moja funkcja\n",
      "Return the number of items in a container.\n"
     ]
    }
   ],
   "source": [
    "def funkcja(*args,**kwargs):\n",
    "    \"\"\"to jest moja funkcja\"\"\"\n",
    "    print(args)\n",
    "    print(kwargs)\n",
    "    \n",
    "print(funkcja(1,\"a\",a = 3, b = [1,2]))\n",
    "print(funkcja.__doc__)\n",
    "print(len.__doc__)"
   ]
  },
  {
   "cell_type": "code",
   "execution_count": 44,
   "id": "83691ce8-950f-451d-b458-926e8836cb49",
   "metadata": {
    "tags": []
   },
   "outputs": [],
   "source": [
    "def f(x):\n",
    "    global i\n",
    "    i = x+2\n",
    "    print(i)\n",
    "    return x**i"
   ]
  },
  {
   "cell_type": "code",
   "execution_count": 45,
   "id": "02463f6a-8ba0-4207-b93e-9a4de35db2a1",
   "metadata": {
    "tags": []
   },
   "outputs": [
    {
     "name": "stdout",
     "output_type": "stream",
     "text": [
      "5\n",
      "243\n",
      "5\n"
     ]
    }
   ],
   "source": [
    "i = 3\n",
    "print(f(3))\n",
    "print(i)"
   ]
  },
  {
   "cell_type": "markdown",
   "id": "2fb06de5-d1df-4c97-859a-eeba98998690",
   "metadata": {
    "tags": []
   },
   "source": [
    "# Funkcje anonimowe lambda"
   ]
  },
  {
   "cell_type": "code",
   "execution_count": 49,
   "id": "cc6cc449-c841-4ca3-951d-bc8b0d89786f",
   "metadata": {
    "tags": []
   },
   "outputs": [
    {
     "name": "stdout",
     "output_type": "stream",
     "text": [
      "64\n"
     ]
    }
   ],
   "source": [
    "szescian = lambda x:x**3\n",
    "print(szescian(4))"
   ]
  },
  {
   "cell_type": "code",
   "execution_count": 50,
   "id": "00a00478-2593-4189-b75b-51c05c478c6d",
   "metadata": {
    "tags": []
   },
   "outputs": [
    {
     "name": "stdout",
     "output_type": "stream",
     "text": [
      "9\n"
     ]
    }
   ],
   "source": [
    "funkcja = lambda a,b,c = 2:(a+b)**c\n",
    "print(funkcja(1,2))"
   ]
  },
  {
   "cell_type": "code",
   "execution_count": 51,
   "id": "c03d404b-d6f6-416f-9f6f-b1afe2f75797",
   "metadata": {
    "tags": []
   },
   "outputs": [
    {
     "name": "stdout",
     "output_type": "stream",
     "text": [
      "['a']\n",
      "None\n"
     ]
    }
   ],
   "source": [
    "f= lambda *args: args[len(args)-1] if args else None\n",
    "print(f(1,2,[\"a\"]))\n",
    "print(f())"
   ]
  },
  {
   "cell_type": "markdown",
   "id": "b61c79b3-36dc-4c76-885c-d40be571b8b2",
   "metadata": {
    "tags": []
   },
   "source": [
    "# Programowanie funkcyjne"
   ]
  },
  {
   "cell_type": "markdown",
   "id": "cdf57d38-6754-4e5a-84db-3a196e0f4d68",
   "metadata": {},
   "source": [
    "### Funkcja map"
   ]
  },
  {
   "cell_type": "code",
   "execution_count": 55,
   "id": "0d949392-3f06-47d7-aaeb-ff5cddf8beba",
   "metadata": {
    "tags": []
   },
   "outputs": [],
   "source": [
    "sz = lambda x:x**3\n",
    "l = [1,2,3]"
   ]
  },
  {
   "cell_type": "code",
   "execution_count": 59,
   "id": "9d05f6b9-981c-49fe-8141-eefa51f69a85",
   "metadata": {
    "tags": []
   },
   "outputs": [
    {
     "name": "stdout",
     "output_type": "stream",
     "text": [
      "[1, 8, 27]\n"
     ]
    }
   ],
   "source": [
    "print(list(map(sz,l)))"
   ]
  },
  {
   "cell_type": "code",
   "execution_count": 65,
   "id": "4dddb656-fedb-4d3d-8f8a-f6ca465ee709",
   "metadata": {
    "tags": []
   },
   "outputs": [
    {
     "name": "stdout",
     "output_type": "stream",
     "text": [
      "[1, 8, 27, 64, 125, 216, 343, 512, 729, 1000]\n",
      "[1, 8, 27, 64, 125, 216, 343, 512, 729, 1000]\n"
     ]
    }
   ],
   "source": [
    "l = [i for i in range(1,11)]\n",
    "print(list(map(sz,l)))\n",
    "# albo szybciej\n",
    "print(list(map(lambda x:x**3,l)))"
   ]
  },
  {
   "cell_type": "markdown",
   "id": "9dd396f1-f08d-4684-b351-0c9f5b033151",
   "metadata": {},
   "source": [
    "### Funkcja filter"
   ]
  },
  {
   "cell_type": "code",
   "execution_count": 68,
   "id": "a5461336-6d84-4bfc-92f1-7ce6b2e0b7b7",
   "metadata": {
    "tags": []
   },
   "outputs": [],
   "source": [
    "select = lambda x: x > 0\n",
    "l = [1,-2,3,-5,-1,4]"
   ]
  },
  {
   "cell_type": "code",
   "execution_count": 69,
   "id": "d0757670-d175-4242-8dad-82d3095e56e5",
   "metadata": {
    "tags": []
   },
   "outputs": [
    {
     "data": {
      "text/plain": [
       "[1, 3, 4]"
      ]
     },
     "execution_count": 69,
     "metadata": {},
     "output_type": "execute_result"
    }
   ],
   "source": [
    "list(filter(select,l))"
   ]
  },
  {
   "cell_type": "markdown",
   "id": "c5661406-b5e3-4719-8c1b-8e54ed42a553",
   "metadata": {},
   "source": [
    "### Funkcja reduce"
   ]
  },
  {
   "cell_type": "code",
   "execution_count": 71,
   "id": "dcf8c9ca-4ec8-4487-9d92-978d001a870c",
   "metadata": {
    "tags": []
   },
   "outputs": [],
   "source": [
    "from functools import reduce\n",
    "l = [\"a\",\"b\",\"c\",\"d\"]\n",
    "def f(x,y):\n",
    "    print(x,y)\n",
    "    return x + y"
   ]
  },
  {
   "cell_type": "code",
   "execution_count": 73,
   "id": "aba097ca-981d-458a-828a-db754e6e6a46",
   "metadata": {
    "tags": []
   },
   "outputs": [
    {
     "name": "stdout",
     "output_type": "stream",
     "text": [
      "AAA BBB\n"
     ]
    },
    {
     "data": {
      "text/plain": [
       "'AAABBB'"
      ]
     },
     "execution_count": 73,
     "metadata": {},
     "output_type": "execute_result"
    }
   ],
   "source": [
    "f(\"AAA\",\"BBB\")"
   ]
  },
  {
   "cell_type": "code",
   "execution_count": 75,
   "id": "3ab8a2b8-5e17-46b2-95ca-2d5b44ca59f4",
   "metadata": {
    "tags": []
   },
   "outputs": [
    {
     "name": "stdout",
     "output_type": "stream",
     "text": [
      "a b\n",
      "ab c\n",
      "abc d\n",
      "abcd\n"
     ]
    }
   ],
   "source": [
    "print(reduce(f,l))"
   ]
  },
  {
   "cell_type": "code",
   "execution_count": 79,
   "id": "a0714a88-8a4d-417a-981b-60cc8745f851",
   "metadata": {
    "tags": []
   },
   "outputs": [
    {
     "name": "stdout",
     "output_type": "stream",
     "text": [
      "93326215443944152681699238856266700490715968264381621468592963895217599993229915608941463976156518286253697920827223758251185210916864000000000000000000000000\n"
     ]
    }
   ],
   "source": [
    "n = 100\n",
    "# silnia\n",
    "print(reduce(lambda x,y:x*y, range(1,n+1)))"
   ]
  },
  {
   "cell_type": "markdown",
   "id": "ebb002eb-d215-4ffc-aedf-bf7da5d10eb7",
   "metadata": {},
   "source": [
    "### Funkcja sorted"
   ]
  },
  {
   "cell_type": "code",
   "execution_count": 86,
   "id": "6b656f34-a6fd-49b9-963c-bae1349acb77",
   "metadata": {
    "tags": []
   },
   "outputs": [
    {
     "name": "stdout",
     "output_type": "stream",
     "text": [
      "[4, 2, 0, 20, 1, 7, 3, 9, 5, 1]\n"
     ]
    }
   ],
   "source": [
    "l = [1,7,3,4,9,2,5,0,20,1]\n",
    "print(sorted(l,key = lambda i:i%2))"
   ]
  },
  {
   "cell_type": "code",
   "execution_count": 92,
   "id": "ee170077-97a2-4222-8236-bf031605bc26",
   "metadata": {
    "tags": []
   },
   "outputs": [
    {
     "name": "stdout",
     "output_type": "stream",
     "text": [
      "['ala', 'alz', 'pies', 'drzewo', 'lokomotywa']\n"
     ]
    }
   ],
   "source": [
    "s = [\"ala\",\"alz\",\"pies\",\"drzewo\",\"lokomotywa\"]\n",
    "print(sorted(s, key = lambda i:len(i)))"
   ]
  },
  {
   "cell_type": "markdown",
   "id": "aa7d802c-1113-4d07-adf3-3af14d96b5d3",
   "metadata": {},
   "source": [
    "# Zadania"
   ]
  },
  {
   "cell_type": "markdown",
   "id": "cac59ca7-cf70-48c3-88bd-0999a0d154a8",
   "metadata": {},
   "source": [
    "**1. Iloczyn skalarny**"
   ]
  },
  {
   "cell_type": "code",
   "execution_count": 102,
   "id": "3fbb7de9-2fbe-41b0-8e06-8dbb62cd4f30",
   "metadata": {
    "tags": []
   },
   "outputs": [
    {
     "name": "stdout",
     "output_type": "stream",
     "text": [
      "8\n"
     ]
    }
   ],
   "source": [
    "a = [1,2]\n",
    "b = [2,3]\n",
    "def skalar(a,b):\n",
    "    suma = 0\n",
    "    for i,j in a,b:\n",
    "        suma+=i*j\n",
    "    return suma\n",
    "print(skalar(a,b))"
   ]
  },
  {
   "cell_type": "code",
   "execution_count": 100,
   "id": "ff258f5f-22fb-4b31-8831-3d19be9d07a9",
   "metadata": {
    "tags": []
   },
   "outputs": [
    {
     "name": "stdout",
     "output_type": "stream",
     "text": [
      "8\n"
     ]
    }
   ],
   "source": [
    "def il_sk(a,b):\n",
    "    return sum(map(lambda i:i[0]*i[1],zip(a,b)))\n",
    "print(il_sk(a,b))"
   ]
  },
  {
   "cell_type": "markdown",
   "id": "feb769b7-6915-4ac6-bb5b-257f53aac1a6",
   "metadata": {
    "tags": []
   },
   "source": [
    "**2. Posortuj liste kluczy ze wzgledu na przypisaną im wartość**"
   ]
  },
  {
   "cell_type": "code",
   "execution_count": 111,
   "id": "5d2495c0-7aa0-442a-80c2-69e8d7475961",
   "metadata": {
    "tags": []
   },
   "outputs": [
    {
     "name": "stdout",
     "output_type": "stream",
     "text": [
      "['b', 'c', 'a']\n"
     ]
    }
   ],
   "source": [
    "s = {\"a\":3,\"b\":1,\"c\":2}\n",
    "print(sorted(s, key = lambda i: s[i]))"
   ]
  },
  {
   "cell_type": "markdown",
   "id": "b7d2b8c0-57ca-47e1-95e4-b186fe9d6b09",
   "metadata": {
    "tags": []
   },
   "source": [
    "**3. Przekształć listę cyfr na wartość liczby w systemie dziesiętnym**"
   ]
  },
  {
   "cell_type": "code",
   "execution_count": 116,
   "id": "f16d8ef8-61a7-4706-8fcd-34c9fcf5b2d4",
   "metadata": {
    "tags": []
   },
   "outputs": [
    {
     "name": "stdout",
     "output_type": "stream",
     "text": [
      "4523\n"
     ]
    }
   ],
   "source": [
    "s = [4,5,2,3]\n",
    "print(reduce(lambda x,y: x*10 + y,s))"
   ]
  },
  {
   "cell_type": "markdown",
   "id": "1e71ed6f-8ef1-46ec-a3d4-f81e4848c0a7",
   "metadata": {},
   "source": [
    "# Importowanie argumentów ze standardowego wejścia i z linii poleceń"
   ]
  },
  {
   "cell_type": "code",
   "execution_count": 122,
   "id": "048eef7f-8b54-4e9c-bada-c836ce232ea9",
   "metadata": {
    "tags": []
   },
   "outputs": [
    {
     "name": "stdin",
     "output_type": "stream",
     "text": [
      "Podaj liczbę:  2\n"
     ]
    },
    {
     "name": "stdout",
     "output_type": "stream",
     "text": [
      "<class 'int'>\n"
     ]
    }
   ],
   "source": [
    "x = int(input(\"Podaj liczbę: \"))\n",
    "print(type(x))"
   ]
  },
  {
   "cell_type": "code",
   "execution_count": 125,
   "id": "413a2b5a-37a4-4b7b-81ca-de9da8076365",
   "metadata": {
    "tags": []
   },
   "outputs": [
    {
     "name": "stdout",
     "output_type": "stream",
     "text": [
      "['/opt/homebrew/lib/python3.10/site-packages/ipykernel_launcher.py', '-f', '/Users/michal/Library/Jupyter/runtime/kernel-03dc2a68-0710-4d76-b2a7-4fe9dccf7f0d.json']\n"
     ]
    }
   ],
   "source": [
    "# DO SKRYPTU\n",
    "from sys import argv\n",
    "print(argv)"
   ]
  },
  {
   "cell_type": "markdown",
   "id": "06cecdc0-d6fc-48c4-b749-25afe51b85b8",
   "metadata": {},
   "source": [
    "# Automaty komórkowe"
   ]
  },
  {
   "cell_type": "code",
   "execution_count": 153,
   "id": "c7d7ad61-9cdb-48f1-95ba-11a5f8233688",
   "metadata": {
    "tags": []
   },
   "outputs": [
    {
     "name": "stdout",
     "output_type": "stream",
     "text": [
      "11111\n",
      "00011111\n",
      "['_', '_', '_', '*', '*', '*', '*', '*']\n"
     ]
    }
   ],
   "source": [
    "auto = [i for i in range(0,11)]\n",
    "rule = bin(31)[2:]\n",
    "predict = [\"***\",\"**_\",\"*_*\",\"*__\",\"_**\",\"_*_\",\"__*\",\"___\"]\n",
    "print(rule)\n",
    "rule = rule.zfill(8)\n",
    "print(rule)\n",
    "prerule = [\"*\" if i == '1' else \"_\" for i in rule]\n",
    "print(prerule)\n",
    "dict = {key:value for key,value in zip(predict,prerule)}"
   ]
  },
  {
   "cell_type": "code",
   "execution_count": null,
   "id": "c1d766a1-a67e-457e-ae4a-63ad9415c746",
   "metadata": {},
   "outputs": [],
   "source": []
  }
 ],
 "metadata": {
  "kernelspec": {
   "display_name": "Python 3 (ipykernel)",
   "language": "python",
   "name": "python3"
  },
  "language_info": {
   "codemirror_mode": {
    "name": "ipython",
    "version": 3
   },
   "file_extension": ".py",
   "mimetype": "text/x-python",
   "name": "python",
   "nbconvert_exporter": "python",
   "pygments_lexer": "ipython3",
   "version": "3.10.11"
  }
 },
 "nbformat": 4,
 "nbformat_minor": 5
}
