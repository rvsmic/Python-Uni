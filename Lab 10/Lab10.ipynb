{
 "cells": [
  {
   "attachments": {},
   "cell_type": "markdown",
   "id": "3318044f-20b6-4ddd-83e6-28a688b79202",
   "metadata": {},
   "source": [
    "# Biblioteka Requests"
   ]
  },
  {
   "cell_type": "code",
   "execution_count": 6,
   "id": "e6c6c656-1057-4486-b473-cb2121e74018",
   "metadata": {
    "tags": []
   },
   "outputs": [],
   "source": [
    "from requests import get\n",
    "\n",
    "f = get('http://docs.python.org')\n",
    "s = f.text\n",
    "f.close()\n",
    "\n",
    "# print(s)"
   ]
  },
  {
   "cell_type": "code",
   "execution_count": 15,
   "id": "8bcc572f-afb8-460b-9dfd-3ff601cd16c2",
   "metadata": {
    "tags": []
   },
   "outputs": [],
   "source": [
    "f = get('http://docs.python.org', stream=True)\n",
    "# for i in f.iter_lines():\n",
    "#     print(i.decode('UTF-8'))\n",
    "f.close()"
   ]
  },
  {
   "attachments": {},
   "cell_type": "markdown",
   "id": "d0e2669e-7c6c-41c0-9123-69c1839c54bd",
   "metadata": {},
   "source": [
    "### Wyciąganie stolicy z Wikipedii"
   ]
  },
  {
   "cell_type": "code",
   "execution_count": 54,
   "id": "20366c07-1f2c-4110-a36b-cbc8ee31200c",
   "metadata": {
    "tags": []
   },
   "outputs": [
    {
     "name": "stdout",
     "output_type": "stream",
     "text": [
      "Stolica v1: Warszawa\n",
      "Stolica v2: Warszawa\n"
     ]
    }
   ],
   "source": [
    "def stolica1(p):\n",
    "    f = get('https://pl.wikipedia.org/wiki/'+p)\n",
    "    s = f.text.split(\"Stolica\")[3].split(\"title=\")[1].split(\"\\\"\")[1]\n",
    "    f.close()\n",
    "    return s\n",
    "print(\"Stolica v1:\",stolica1(\"Polska\"))\n",
    "\n",
    "def stolica2(p):\n",
    "    f = get('https://pl.wikipedia.org/wiki/'+p, stream=True)\n",
    "    b,c,d = \"\",\"\",\"\"\n",
    "    for l in f.iter_lines():\n",
    "        a,b,c,d = (b,c,d,l.decode('UTF-8'))\n",
    "        if \"Stolica\" in a:\n",
    "            f.close()\n",
    "            return d.split('\">',1)[1].split('<')[0]\n",
    "        \n",
    "print(\"Stolica v2:\",stolica2(\"Polska\"))"
   ]
  },
  {
   "cell_type": "code",
   "execution_count": 56,
   "id": "6b4617d1-76a8-474e-b5e8-906b648d82a8",
   "metadata": {
    "tags": []
   },
   "outputs": [
    {
     "name": "stdout",
     "output_type": "stream",
     "text": [
      "['Warszawa', 'Berlin', 'Sztokholm', 'Nowe Delhi', 'Tokio', 'Dodoma', 'Canberra', 'Bogota']\n",
      "3.6858420372009277\n",
      "['Warszawa', 'Berlin', 'Sztokholm', 'Nowe Delhi', 'Tokio', 'Dodoma', 'Canberra', 'Bogota']\n",
      "2.783376932144165\n"
     ]
    }
   ],
   "source": [
    "from time import time\n",
    "\n",
    "panstwa = [\"Polska\",\"Niemcy\",\"Szwecja\",\"Indie\",\"Japonia\",\"Tanzania\",\"Australia\",\"Kolumbia\"]\n",
    "\n",
    "t = time()\n",
    "print(list(map(stolica1,panstwa)))\n",
    "print(time() - t)\n",
    "\n",
    "t = time()\n",
    "print(list(map(stolica2,panstwa)))\n",
    "print(time() - t)"
   ]
  },
  {
   "attachments": {},
   "cell_type": "markdown",
   "id": "ad46ce2a-7dd6-4cf5-b005-d36ea132ec27",
   "metadata": {},
   "source": [
    "# Wielowątkowość"
   ]
  },
  {
   "attachments": {},
   "cell_type": "markdown",
   "id": "153aa77d-0a95-4078-ac2a-a0750d4d3672",
   "metadata": {},
   "source": [
    "### Wyświetlanie"
   ]
  },
  {
   "cell_type": "code",
   "execution_count": 57,
   "id": "90165d31-d199-4a3f-b5ea-6c0be3ee1c14",
   "metadata": {
    "tags": []
   },
   "outputs": [],
   "source": [
    "from time import sleep\n",
    "\n",
    "def old_print(*x):\n",
    "    for i in x:\n",
    "        print(i,end=\"\")\n",
    "        sleep(1e-5)\n",
    "    print()\n",
    "    sleep(1e-5)"
   ]
  },
  {
   "cell_type": "code",
   "execution_count": 61,
   "id": "ed25447c-4eca-47c2-a13d-4a5ba5ced51e",
   "metadata": {
    "tags": []
   },
   "outputs": [],
   "source": [
    "def f(n):\n",
    "    for i in range(n):\n",
    "        old_print(i)"
   ]
  },
  {
   "cell_type": "code",
   "execution_count": 65,
   "id": "cdfb372f-21df-49d1-93a7-41d8220f4b05",
   "metadata": {
    "tags": []
   },
   "outputs": [
    {
     "name": "stdout",
     "output_type": "stream",
     "text": [
      "0\n",
      "01\n",
      "The end\n",
      "1\n",
      "2\n",
      "\n",
      "23\n",
      "\n",
      "34\n",
      "\n",
      "4\n",
      "55\n",
      "\n",
      "66\n",
      "\n",
      "77\n",
      "\n",
      "88\n",
      "\n",
      "99\n",
      "\n"
     ]
    }
   ],
   "source": [
    "from threading import Thread\n",
    "\n",
    "thread_1 = Thread(target=f, args=(10,))\n",
    "thread_2 = Thread(target=f, args=(10,))\n",
    "\n",
    "thread_1.start()\n",
    "thread_2.start()\n",
    "\n",
    "old_print(\"The end\")"
   ]
  },
  {
   "cell_type": "code",
   "execution_count": 66,
   "id": "9a4b2a90-208d-4997-a92f-dc5fc76a421d",
   "metadata": {
    "tags": []
   },
   "outputs": [
    {
     "name": "stdout",
     "output_type": "stream",
     "text": [
      "00\n",
      "\n",
      "11\n",
      "\n",
      "2\n",
      "2\n",
      "33\n",
      "\n",
      "44\n",
      "\n",
      "55\n",
      "\n",
      "66\n",
      "\n",
      "77\n",
      "\n",
      "88\n",
      "\n",
      "99\n",
      "\n",
      "The end\n"
     ]
    }
   ],
   "source": [
    "from threading import Thread\n",
    "\n",
    "thread_1 = Thread(target=f, args=(10,))\n",
    "thread_2 = Thread(target=f, args=(10,))\n",
    "\n",
    "thread_1.start()\n",
    "thread_2.start()\n",
    "\n",
    "thread_1.join()\n",
    "thread_2.join()\n",
    "\n",
    "old_print(\"The end\")"
   ]
  },
  {
   "cell_type": "code",
   "execution_count": 76,
   "id": "64c36d50-3550-4722-b779-2375d33128b5",
   "metadata": {
    "tags": []
   },
   "outputs": [
    {
     "name": "stdout",
     "output_type": "stream",
     "text": [
      "0\n",
      "1\n",
      "2\n",
      "3\n",
      "4\n",
      "5\n",
      "6\n",
      "7\n",
      "8\n",
      "9\n",
      "0\n",
      "1\n",
      "2\n",
      "3\n",
      "4\n",
      "5\n",
      "6\n",
      "7\n",
      "8\n",
      "9\n",
      "The end\n"
     ]
    }
   ],
   "source": [
    "from threading import Thread, Lock\n",
    "\n",
    "def f(n):\n",
    "    for i in range(n):\n",
    "        with lock:\n",
    "            old_print(i)\n",
    "\n",
    "\n",
    "lock = Lock()\n",
    "thread_1 = Thread(target=f, args=(10,))\n",
    "thread_2 = Thread(target=f, args=(10,))\n",
    "\n",
    "thread_1.start()\n",
    "thread_2.start()\n",
    "\n",
    "thread_1.join()\n",
    "thread_2.join()\n",
    "\n",
    "old_print(\"The end\")"
   ]
  },
  {
   "cell_type": "code",
   "execution_count": 79,
   "id": "189e7772-b4a9-41b8-91b2-5c8f146b5852",
   "metadata": {
    "tags": []
   },
   "outputs": [
    {
     "name": "stdout",
     "output_type": "stream",
     "text": [
      "0\n",
      "1\n",
      "2\n",
      "3\n",
      "4\n",
      "5\n",
      "6\n",
      "7\n",
      "8\n",
      "9\n",
      "0\n",
      "1\n",
      "2\n",
      "3\n",
      "4\n",
      "5\n",
      "6\n",
      "7\n",
      "8\n",
      "9\n",
      "The end\n"
     ]
    }
   ],
   "source": [
    "from threading import Thread, Lock\n",
    "\n",
    "def f(n,lock):\n",
    "    for i in range(n):\n",
    "        with lock:\n",
    "            old_print(i)\n",
    "\n",
    "\n",
    "lock = Lock()\n",
    "thread_1 = Thread(target=f, args=(10,lock))\n",
    "thread_2 = Thread(target=f, args=(10,lock))\n",
    "\n",
    "thread_1.start()\n",
    "thread_2.start()\n",
    "\n",
    "thread_1.join()\n",
    "thread_2.join()\n",
    "\n",
    "old_print(\"The end\")"
   ]
  },
  {
   "attachments": {},
   "cell_type": "markdown",
   "id": "709e85c5-9969-426c-ae18-7b9fe0731793",
   "metadata": {},
   "source": [
    "### Lista"
   ]
  },
  {
   "cell_type": "code",
   "execution_count": 80,
   "id": "ad2585ea-9952-462c-acd0-ca3d80987ded",
   "metadata": {
    "tags": []
   },
   "outputs": [
    {
     "name": "stdout",
     "output_type": "stream",
     "text": [
      "[1, 2, 1, 2, 3, 3, 4, 4, 5, 5, 6, 6, 7, 7, 8, 8, 9, 9]\n",
      "The end\n"
     ]
    }
   ],
   "source": [
    "from threading import Thread\n",
    "\n",
    "x = []\n",
    "\n",
    "def f(*n):\n",
    "    global x\n",
    "    for i in range(n[0],n[1]):\n",
    "        x.append(i)\n",
    "        sleep(1e-5)\n",
    "\n",
    "thread_1 = Thread(target=f, args=(1,10))\n",
    "thread_2 = Thread(target=f, args=(1,10))\n",
    "\n",
    "thread_1.start()\n",
    "thread_2.start()\n",
    "\n",
    "thread_1.join()\n",
    "thread_2.join()\n",
    "\n",
    "print(x)\n",
    "old_print(\"The end\")"
   ]
  },
  {
   "attachments": {},
   "cell_type": "markdown",
   "id": "b79389b6-f362-411d-9086-10af8d7b812d",
   "metadata": {
    "tags": []
   },
   "source": [
    "### ZADANIE: Program który będzie uruchamiał n wątków"
   ]
  },
  {
   "cell_type": "code",
   "execution_count": 93,
   "id": "6bec8699-86c1-4c18-8707-dc50e522b2d7",
   "metadata": {
    "tags": []
   },
   "outputs": [
    {
     "name": "stdout",
     "output_type": "stream",
     "text": [
      "0\n",
      "1\n",
      "2\n",
      "3\n",
      "4\n",
      "5\n",
      "6\n",
      "7\n",
      "8\n",
      "9\n",
      "0\n",
      "1\n",
      "2\n",
      "3\n",
      "4\n",
      "5\n",
      "6\n",
      "7\n",
      "8\n",
      "9\n",
      "0\n",
      "1\n",
      "2\n",
      "3\n",
      "4\n",
      "5\n",
      "6\n",
      "7\n",
      "8\n",
      "9\n",
      "0\n",
      "1\n",
      "2\n",
      "3\n",
      "4\n",
      "5\n",
      "6\n",
      "7\n",
      "8\n",
      "9\n",
      "0\n",
      "1\n",
      "2\n",
      "3\n",
      "4\n",
      "5\n",
      "6\n",
      "7\n",
      "8\n",
      "9\n",
      "The end\n"
     ]
    }
   ],
   "source": [
    "from threading import Thread, Lock\n",
    "\n",
    "def f(n,lock):\n",
    "    for i in range(n):\n",
    "        with lock:\n",
    "            old_print(i)\n",
    "\n",
    "n = 5\n",
    "# threads = []\n",
    "lock = Lock()\n",
    "# for i in range(n):\n",
    "#     threads.append(Thread(target=f, args=(10,lock)))\n",
    "#     threads[i].start()\n",
    "\n",
    "# for i in range(n):\n",
    "#     threads[i].join()\n",
    "\n",
    "threads = [Thread(target=f, args=(10,lock)) for  _ in range(n)]\n",
    "for w in threads:\n",
    "    w.start()\n",
    "    \n",
    "for w in threads:\n",
    "    w.join()\n",
    "\n",
    "old_print(\"The end\")"
   ]
  },
  {
   "cell_type": "code",
   "execution_count": 104,
   "id": "c9d1db26-3ce3-4f53-9640-ad7ca3c46e89",
   "metadata": {
    "tags": []
   },
   "outputs": [
    {
     "name": "stdout",
     "output_type": "stream",
     "text": [
      "Polska: Warszawa\n",
      "Niemcy: Berlin\n",
      "Szwecja: Sztokholm\n",
      "Indie: Nowe Delhi\n",
      "Japonia: Tokio\n",
      "Tanzania: Dodoma\n",
      "Australia: Canberra\n",
      "Kolumbia: Bogota\n",
      "Czas wykonania:  2.649096965789795\n"
     ]
    }
   ],
   "source": [
    "t = time()\n",
    "for p in panstwa:\n",
    "    print(f'{p}: {stolica2(p)}')\n",
    "print(\"Czas wykonania: \",time() - t)"
   ]
  },
  {
   "cell_type": "code",
   "execution_count": 105,
   "id": "c7ecfed2-1b26-4661-8545-376178b446a2",
   "metadata": {
    "tags": []
   },
   "outputs": [
    {
     "name": "stdout",
     "output_type": "stream",
     "text": [
      "Warszawa\n",
      "Canberra\n",
      "Tokio\n",
      "Dodoma\n",
      "Berlin\n",
      "Nowe Delhi\n",
      "Bogota\n",
      "Sztokholm\n",
      "Czas wykonania:  0.7024741172790527\n"
     ]
    }
   ],
   "source": [
    "def w_stolica(i):\n",
    "    print(stolica2(i))\n",
    "\n",
    "threads = [Thread(target=w_stolica,args=(p,)) for p in panstwa]\n",
    "t = time()\n",
    "for w in threads:\n",
    "    w.start()\n",
    "for w in threads:\n",
    "    w.join()\n",
    "print(\"Czas wykonania: \",time() - t)"
   ]
  },
  {
   "cell_type": "code",
   "execution_count": 108,
   "id": "059fa89e-402d-4680-91f7-691afa42fef0",
   "metadata": {
    "tags": []
   },
   "outputs": [
    {
     "name": "stdout",
     "output_type": "stream",
     "text": [
      "Warszawa\n",
      "Berlin\n",
      "Sztokholm\n",
      "Nowe Delhi\n",
      "Tokio\n",
      "Dodoma\n",
      "Canberra\n",
      "Bogota\n",
      "Czas wykonania:  2.47900390625\n"
     ]
    }
   ],
   "source": [
    "def w_stolica(i):\n",
    "    with lock:\n",
    "        print(stolica2(i))\n",
    "lock = Lock()\n",
    "threads = [Thread(target=w_stolica,args=(p,)) for p in panstwa]\n",
    "t = time()\n",
    "for w in threads:\n",
    "    w.start()\n",
    "for w in threads:\n",
    "    w.join()\n",
    "print(\"Czas wykonania: \",time() - t)"
   ]
  },
  {
   "cell_type": "code",
   "execution_count": 109,
   "id": "53c4df16-05d8-4d59-8a28-a625061b895f",
   "metadata": {
    "tags": []
   },
   "outputs": [
    {
     "name": "stdout",
     "output_type": "stream",
     "text": [
      "Warszawa\n",
      "Berlin\n",
      "Nowe Delhi\n",
      "Tokio\n",
      "Dodoma\n",
      "Sztokholm\n",
      "Canberra\n",
      "Bogota\n",
      "Czas wykonania:  0.45966196060180664\n"
     ]
    }
   ],
   "source": [
    "def w_stolica(i):\n",
    "    st = stolica2(i)\n",
    "    with lock:\n",
    "        print(st)\n",
    "lock = Lock()\n",
    "threads = [Thread(target=w_stolica,args=(p,)) for p in panstwa]\n",
    "t = time()\n",
    "for w in threads:\n",
    "    w.start()\n",
    "for w in threads:\n",
    "    w.join()\n",
    "print(\"Czas wykonania: \",time() - t)"
   ]
  },
  {
   "attachments": {},
   "cell_type": "markdown",
   "id": "83394813-faf0-42d9-aa43-be6d478e41da",
   "metadata": {},
   "source": [
    "### Mandelbrot"
   ]
  },
  {
   "cell_type": "code",
   "execution_count": 110,
   "id": "554aac86-0938-475c-a89e-1dd32d4bd212",
   "metadata": {
    "tags": []
   },
   "outputs": [],
   "source": [
    "def m(z):\n",
    "    z0 = z\n",
    "    for i in range(255):\n",
    "        if abs(z) > 2:\n",
    "            return i\n",
    "        z = z**2 + z0\n",
    "    return 255"
   ]
  },
  {
   "cell_type": "code",
   "execution_count": 136,
   "id": "9f847ea1-d722-4258-b535-480957a70cae",
   "metadata": {
    "tags": []
   },
   "outputs": [
    {
     "name": "stdout",
     "output_type": "stream",
     "text": [
      "0.8905768394470215\n"
     ]
    },
    {
     "data": {
      "image/png": "[encoded data removed]",
      "text/plain": [
       "<Figure size 480x480 with 1 Axes>"
      ]
     },
     "metadata": {},
     "output_type": "display_data"
    }
   ],
   "source": [
    "import numpy as np\n",
    "\n",
    "x = np.arange(-2,1.01,0.01)\n",
    "y = np.arange(-1.5,1.51,0.01)\n",
    "x,y = np.meshgrid(x,y)\n",
    "z = x + 1j * y\n",
    "s = z.shape\n",
    "\n",
    "t = time()\n",
    "res = np.array([[m(z[i,j]) for j in range(s[1])] for i in range(s[0])])\n",
    "print(time()-t)\n",
    "\n",
    "import matplotlib.pyplot as plt\n",
    "\n",
    "plt.matshow(res, cmap='binary')\n",
    "plt.show()"
   ]
  },
  {
   "cell_type": "code",
   "execution_count": 137,
   "id": "f258d592-db0a-4df5-ace1-1c91d1e7dd7f",
   "metadata": {
    "tags": []
   },
   "outputs": [
    {
     "name": "stderr",
     "output_type": "stream",
     "text": [
      "/var/folders/6b/q78y4w3s385_m145jxn1ysyr0000gn/T/ipykernel_94825/1586525719.py:15: RuntimeWarning: overflow encountered in square\n",
      "  z = z**2 + z0\n",
      "/var/folders/6b/q78y4w3s385_m145jxn1ysyr0000gn/T/ipykernel_94825/1586525719.py:15: RuntimeWarning: invalid value encountered in square\n",
      "  z = z**2 + z0\n",
      "/var/folders/6b/q78y4w3s385_m145jxn1ysyr0000gn/T/ipykernel_94825/1586525719.py:14: RuntimeWarning: overflow encountered in absolute\n",
      "  res[np.abs(z)>2] = i\n"
     ]
    },
    {
     "name": "stdout",
     "output_type": "stream",
     "text": [
      "0.1573622226715088\n"
     ]
    },
    {
     "data": {
      "image/png": "[encoded data removed]",
      "text/plain": [
       "<Figure size 480x480 with 1 Axes>"
      ]
     },
     "metadata": {},
     "output_type": "display_data"
    }
   ],
   "source": [
    "import numpy as np\n",
    "\n",
    "x = np.arange(-2,1.01,0.01)\n",
    "y = np.arange(-1.5,1.51,0.01)\n",
    "x,y = np.meshgrid(x,y)\n",
    "z = x + 1j * y\n",
    "s = z.shape\n",
    "\n",
    "t = time()\n",
    "\n",
    "z0 = np.copy(z)\n",
    "res = 255 * np.ones(s)\n",
    "for i in range(255):\n",
    "    res[np.abs(z)>2] = i\n",
    "    z = z**2 + z0\n",
    "\n",
    "print(time()-t)\n",
    "\n",
    "import matplotlib.pyplot as plt\n",
    "\n",
    "plt.matshow(res, cmap='binary')\n",
    "plt.show()"
   ]
  },
  {
   "cell_type": "code",
   "execution_count": null,
   "id": "029fdf79-de46-44c4-b720-21caa9a98cbe",
   "metadata": {},
   "outputs": [],
   "source": []
  }
 ],
 "metadata": {
  "kernelspec": {
   "display_name": "Python 3 (ipykernel)",
   "language": "python",
   "name": "python3"
  },
  "language_info": {
   "codemirror_mode": {
    "name": "ipython",
    "version": 3
   },
   "file_extension": ".py",
   "mimetype": "text/x-python",
   "name": "python",
   "nbconvert_exporter": "python",
   "pygments_lexer": "ipython3",
   "version": "3.11.3"
  }
 },
 "nbformat": 4,
 "nbformat_minor": 5
}
